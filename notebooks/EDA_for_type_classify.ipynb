{
 "cells": [
  {
   "cell_type": "code",
   "execution_count": 1,
   "metadata": {},
   "outputs": [],
   "source": [
    "import numpy as np\n",
    "import pandas as pd\n",
    "from tqdm import tqdm\n",
    "tqdm.pandas()"
   ]
  },
  {
   "cell_type": "code",
   "execution_count": 2,
   "metadata": {},
   "outputs": [],
   "source": [
    "df = pd.read_csv(\"../data/bangkok_traffy.csv\")"
   ]
  },
  {
   "cell_type": "code",
   "execution_count": 3,
   "metadata": {},
   "outputs": [],
   "source": [
    "df = df[[\"type\", \"comment\", \"province\"]]\n",
    "df = df[df['province'].str.contains('กรุงเทพ|bangkok',na=False,case=False)]\n",
    "df = df.drop([\"province\"], axis=1)\n",
    "\n",
    "df['type'].dropna(axis=0, inplace=True)\n",
    "df['comment'].dropna(axis=0, inplace=True)\n",
    "\n",
    "df['type'].fillna('', inplace=True) \n",
    "df['type'] = df['type'].astype(str) \n",
    "df['type'] = df['type'].str.strip('{}').apply(lambda x :[e for e in x.split(',') if e])\n",
    "df = df.dropna().reset_index(drop=True)"
   ]
  },
  {
   "cell_type": "code",
   "execution_count": 4,
   "metadata": {},
   "outputs": [
    {
     "data": {
      "text/plain": [
       "type       0\n",
       "comment    0\n",
       "dtype: int64"
      ]
     },
     "execution_count": 4,
     "metadata": {},
     "output_type": "execute_result"
    }
   ],
   "source": [
    "df.isna().sum()"
   ]
  },
  {
   "cell_type": "code",
   "execution_count": 5,
   "metadata": {},
   "outputs": [],
   "source": [
    "# import re\n",
    "# import string\n",
    "# import pythainlp\n",
    "# from tqdm.auto import tqdm\n",
    "# tqdm.pandas()\n",
    "\n",
    "# def preprocessing_comment(comment):\n",
    "#     # Normalize text\n",
    "#     try:\n",
    "#       comment = pythainlp.util.normalize(comment)\n",
    "#     except:\n",
    "#       print(comment)\n",
    "\n",
    "#     # Tokenize text\n",
    "#     tokens = pythainlp.word_tokenize(comment)\n",
    "  \n",
    "#     return comment\n",
    "\n",
    "# df['comment_clean'] = df['comment'].progress_apply(preprocessing_comment)"
   ]
  },
  {
   "cell_type": "code",
   "execution_count": 6,
   "metadata": {},
   "outputs": [
    {
     "data": {
      "text/html": [
       "<div>\n",
       "<style scoped>\n",
       "    .dataframe tbody tr th:only-of-type {\n",
       "        vertical-align: middle;\n",
       "    }\n",
       "\n",
       "    .dataframe tbody tr th {\n",
       "        vertical-align: top;\n",
       "    }\n",
       "\n",
       "    .dataframe thead th {\n",
       "        text-align: right;\n",
       "    }\n",
       "</style>\n",
       "<table border=\"1\" class=\"dataframe\">\n",
       "  <thead>\n",
       "    <tr style=\"text-align: right;\">\n",
       "      <th></th>\n",
       "      <th>type</th>\n",
       "      <th>comment</th>\n",
       "    </tr>\n",
       "  </thead>\n",
       "  <tbody>\n",
       "    <tr>\n",
       "      <th>0</th>\n",
       "      <td>[]</td>\n",
       "      <td>ไม่มีภาพ</td>\n",
       "    </tr>\n",
       "    <tr>\n",
       "      <th>1</th>\n",
       "      <td>[ความสะอาด]</td>\n",
       "      <td>ขยะเยอะ</td>\n",
       "    </tr>\n",
       "    <tr>\n",
       "      <th>2</th>\n",
       "      <td>[สายไฟ]</td>\n",
       "      <td>1. เถาวัลย์งอดบนสายไฟ ผมกลัวว่าต่อไปจะเอาออกยา...</td>\n",
       "    </tr>\n",
       "    <tr>\n",
       "      <th>3</th>\n",
       "      <td>[ถนน, สะพาน]</td>\n",
       "      <td>1 ซ่อมทางเท้าหลังคืนพื้นที่จากการปรับปรุงสะพาน...</td>\n",
       "    </tr>\n",
       "    <tr>\n",
       "      <th>4</th>\n",
       "      <td>[น้ำท่วม, ร้องเรียน]</td>\n",
       "      <td>น้ำท่วมเวลาฝนตกและทะลุเข้าบ้านเดือดร้อนมากทุกๆ...</td>\n",
       "    </tr>\n",
       "  </tbody>\n",
       "</table>\n",
       "</div>"
      ],
      "text/plain": [
       "                   type                                            comment\n",
       "0                    []                                           ไม่มีภาพ\n",
       "1           [ความสะอาด]                                            ขยะเยอะ\n",
       "2               [สายไฟ]  1. เถาวัลย์งอดบนสายไฟ ผมกลัวว่าต่อไปจะเอาออกยา...\n",
       "3          [ถนน, สะพาน]  1 ซ่อมทางเท้าหลังคืนพื้นที่จากการปรับปรุงสะพาน...\n",
       "4  [น้ำท่วม, ร้องเรียน]  น้ำท่วมเวลาฝนตกและทะลุเข้าบ้านเดือดร้อนมากทุกๆ..."
      ]
     },
     "execution_count": 6,
     "metadata": {},
     "output_type": "execute_result"
    }
   ],
   "source": [
    "df.head()"
   ]
  },
  {
   "cell_type": "code",
   "execution_count": 7,
   "metadata": {},
   "outputs": [
    {
     "data": {
      "text/html": [
       "<div>\n",
       "<style scoped>\n",
       "    .dataframe tbody tr th:only-of-type {\n",
       "        vertical-align: middle;\n",
       "    }\n",
       "\n",
       "    .dataframe tbody tr th {\n",
       "        vertical-align: top;\n",
       "    }\n",
       "\n",
       "    .dataframe thead th {\n",
       "        text-align: right;\n",
       "    }\n",
       "</style>\n",
       "<table border=\"1\" class=\"dataframe\">\n",
       "  <thead>\n",
       "    <tr style=\"text-align: right;\">\n",
       "      <th></th>\n",
       "      <th>type</th>\n",
       "      <th>comment</th>\n",
       "    </tr>\n",
       "  </thead>\n",
       "  <tbody>\n",
       "    <tr>\n",
       "      <th>0</th>\n",
       "      <td>[ความสะอาด]</td>\n",
       "      <td>ขยะเยอะ</td>\n",
       "    </tr>\n",
       "    <tr>\n",
       "      <th>1</th>\n",
       "      <td>[สายไฟ]</td>\n",
       "      <td>1. เถาวัลย์งอดบนสายไฟ ผมกลัวว่าต่อไปจะเอาออกยา...</td>\n",
       "    </tr>\n",
       "    <tr>\n",
       "      <th>2</th>\n",
       "      <td>[ถนน, สะพาน]</td>\n",
       "      <td>1 ซ่อมทางเท้าหลังคืนพื้นที่จากการปรับปรุงสะพาน...</td>\n",
       "    </tr>\n",
       "    <tr>\n",
       "      <th>3</th>\n",
       "      <td>[น้ำท่วม, ร้องเรียน]</td>\n",
       "      <td>น้ำท่วมเวลาฝนตกและทะลุเข้าบ้านเดือดร้อนมากทุกๆ...</td>\n",
       "    </tr>\n",
       "    <tr>\n",
       "      <th>4</th>\n",
       "      <td>[ถนน, ร้องเรียน, น้ำท่วม, ความปลอดภัย]</td>\n",
       "      <td>1) พื้นที่นี้ขาดหน่วยงานรับผิดชอบ เนื่องจากไม่...</td>\n",
       "    </tr>\n",
       "  </tbody>\n",
       "</table>\n",
       "</div>"
      ],
      "text/plain": [
       "                                     type  \\\n",
       "0                             [ความสะอาด]   \n",
       "1                                 [สายไฟ]   \n",
       "2                            [ถนน, สะพาน]   \n",
       "3                    [น้ำท่วม, ร้องเรียน]   \n",
       "4  [ถนน, ร้องเรียน, น้ำท่วม, ความปลอดภัย]   \n",
       "\n",
       "                                             comment  \n",
       "0                                            ขยะเยอะ  \n",
       "1  1. เถาวัลย์งอดบนสายไฟ ผมกลัวว่าต่อไปจะเอาออกยา...  \n",
       "2  1 ซ่อมทางเท้าหลังคืนพื้นที่จากการปรับปรุงสะพาน...  \n",
       "3  น้ำท่วมเวลาฝนตกและทะลุเข้าบ้านเดือดร้อนมากทุกๆ...  \n",
       "4  1) พื้นที่นี้ขาดหน่วยงานรับผิดชอบ เนื่องจากไม่...  "
      ]
     },
     "execution_count": 7,
     "metadata": {},
     "output_type": "execute_result"
    }
   ],
   "source": [
    "df[\"type\"] = df[\"type\"].apply(lambda x: np.nan if x == [] else x)\n",
    "df = df.dropna().reset_index(drop=True)\n",
    "df.head()"
   ]
  },
  {
   "cell_type": "code",
   "execution_count": 8,
   "metadata": {},
   "outputs": [
    {
     "data": {
      "text/plain": [
       "type       0\n",
       "comment    0\n",
       "dtype: int64"
      ]
     },
     "execution_count": 8,
     "metadata": {},
     "output_type": "execute_result"
    }
   ],
   "source": [
    "df.isna().sum()"
   ]
  },
  {
   "cell_type": "code",
   "execution_count": 9,
   "metadata": {},
   "outputs": [],
   "source": [
    "from sklearn.preprocessing import MultiLabelBinarizer\n",
    "\n",
    "mlb = MultiLabelBinarizer()\n",
    "transformed_data = mlb.fit_transform(df['type'])\n",
    "\n",
    "dummy_df = pd.DataFrame(transformed_data, columns=[f'{label}' for label in mlb.classes_]).reset_index(drop=True)"
   ]
  },
  {
   "cell_type": "code",
   "execution_count": 10,
   "metadata": {},
   "outputs": [],
   "source": [
    "# df.type"
   ]
  },
  {
   "cell_type": "code",
   "execution_count": 11,
   "metadata": {},
   "outputs": [
    {
     "data": {
      "text/plain": [
       "ถนน            76024\n",
       "ทางเท้า        31251\n",
       "แสงสว่าง       22506\n",
       "ความปลอดภัย    20381\n",
       "ความสะอาด      19690\n",
       "น้ำท่วม        19006\n",
       "กีดขวาง        15374\n",
       "ท่อระบายน้ำ    13842\n",
       "สะพาน          12111\n",
       "จราจร          12030\n",
       "สายไฟ           9583\n",
       "เสียงรบกวน      8677\n",
       "คลอง            8587\n",
       "ต้นไม้          8008\n",
       "ร้องเรียน       7250\n",
       "ป้าย            6395\n",
       "สัตว์จรจัด      4132\n",
       "PM2.5           1116\n",
       "สอบถาม          1109\n",
       "เสนอแนะ          983\n",
       "คนจรจัด          941\n",
       "การเดินทาง       532\n",
       "ห้องน้ำ          265\n",
       "ป้ายจราจร        249\n",
       "dtype: int64"
      ]
     },
     "execution_count": 11,
     "metadata": {},
     "output_type": "execute_result"
    }
   ],
   "source": [
    "dummy_df.sum(axis=0).sort_values(ascending=False)"
   ]
  },
  {
   "cell_type": "code",
   "execution_count": 12,
   "metadata": {},
   "outputs": [],
   "source": [
    "def apply_1(x):\n",
    "        if (len(x) == 1) and ([\"ร้องเรียน\"] in x):\n",
    "            x = [\"other\"]\n",
    "        else:\n",
    "            x = [elem for elem in x if elem not in [\"ร้องเรียน\"]]\n",
    "        return x\n",
    "def preprocess_type(df):\n",
    "    df = df.copy()\n",
    "    other_list = [\"PM2.5\", \"สอบถาม\", \"เสนอแนะ\", \"คนจรจัด\", \"การเดินทาง\", \"ห้องน้ำ\", \"ป้ายจราจร\"]\n",
    "    df['type'] = df['type'].progress_apply(lambda x: [elem if elem not in other_list else 'other' for elem in x])\n",
    "    df[\"type\"] = df[\"type\"].apply(lambda x: [\"other\"] if x == [] else x)\n",
    "    df['type'] = df['type'].progress_apply(apply_1)\n",
    "    df[\"type\"] = df[\"type\"].apply(lambda x: [\"other\"] if x == [] else x)\n",
    "    return df\n",
    "\n",
    "# tmp_df = preprocess_type(df)\n",
    "tmp_df = df"
   ]
  },
  {
   "cell_type": "code",
   "execution_count": 13,
   "metadata": {},
   "outputs": [
    {
     "data": {
      "text/plain": [
       "type       0\n",
       "comment    0\n",
       "dtype: int64"
      ]
     },
     "execution_count": 13,
     "metadata": {},
     "output_type": "execute_result"
    }
   ],
   "source": [
    "tmp_df[\"type\"] = tmp_df[\"type\"].apply(lambda x: np.nan if x == [] else x)\n",
    "tmp_df.isna().sum()"
   ]
  },
  {
   "cell_type": "code",
   "execution_count": 14,
   "metadata": {},
   "outputs": [],
   "source": [
    "# tmp = \"ร้องเรียน\"\n",
    "# filtered_df = tmp_df[tmp_df['type'].progress_apply(lambda x: any(tmp in elem for elem in x))]\n",
    "# filtered_df.type.tolist()"
   ]
  },
  {
   "cell_type": "code",
   "execution_count": 15,
   "metadata": {},
   "outputs": [
    {
     "data": {
      "text/html": [
       "<div>\n",
       "<style scoped>\n",
       "    .dataframe tbody tr th:only-of-type {\n",
       "        vertical-align: middle;\n",
       "    }\n",
       "\n",
       "    .dataframe tbody tr th {\n",
       "        vertical-align: top;\n",
       "    }\n",
       "\n",
       "    .dataframe thead th {\n",
       "        text-align: right;\n",
       "    }\n",
       "</style>\n",
       "<table border=\"1\" class=\"dataframe\">\n",
       "  <thead>\n",
       "    <tr style=\"text-align: right;\">\n",
       "      <th></th>\n",
       "      <th>type</th>\n",
       "      <th>comment</th>\n",
       "    </tr>\n",
       "  </thead>\n",
       "  <tbody>\n",
       "    <tr>\n",
       "      <th>188051</th>\n",
       "      <td>[ความสะอาด, ร้องเรียน, ถนน]</td>\n",
       "      <td>ปัญหา : เมื่อวันที่ 08/04/65 พบพนักงานเก็บขนขย...</td>\n",
       "    </tr>\n",
       "    <tr>\n",
       "      <th>21341</th>\n",
       "      <td>[ถนน]</td>\n",
       "      <td>ถนนนครชัยศรี เวลาฝนตก ถนนลื่นจะมีอุบัติเหตุลื่...</td>\n",
       "    </tr>\n",
       "    <tr>\n",
       "      <th>174622</th>\n",
       "      <td>[ถนน, สอบถาม]</td>\n",
       "      <td>มีการสร้างสถานี จำหน่ายแก๊สในย่านชุมชน \\n\\nและ...</td>\n",
       "    </tr>\n",
       "    <tr>\n",
       "      <th>31746</th>\n",
       "      <td>[ถนน, ต้นไม้]</td>\n",
       "      <td>บ้านที่อยู่ติดถนนปลูกต้นไม้นอกรั้วแล้วปล่อยให้...</td>\n",
       "    </tr>\n",
       "    <tr>\n",
       "      <th>137889</th>\n",
       "      <td>[ป้าย]</td>\n",
       "      <td>ป้ายมีสติกเกอร์ติดเต็มไปหมด</td>\n",
       "    </tr>\n",
       "    <tr>\n",
       "      <th>125872</th>\n",
       "      <td>[ถนน]</td>\n",
       "      <td>พื้นผิวถนนชำรุด</td>\n",
       "    </tr>\n",
       "    <tr>\n",
       "      <th>66907</th>\n",
       "      <td>[ทางเท้า, ถนน]</td>\n",
       "      <td>1. ถนนทางเท้าขรุขระ คนชราเดินสะดุดบ่อยมากๆค่ะ</td>\n",
       "    </tr>\n",
       "    <tr>\n",
       "      <th>108521</th>\n",
       "      <td>[แสงสว่าง]</td>\n",
       "      <td>ไฟส่องสว่างภายในที่พักผู้โดยสารชำรุด ขอความกรุ...</td>\n",
       "    </tr>\n",
       "    <tr>\n",
       "      <th>162029</th>\n",
       "      <td>[กีดขวาง]</td>\n",
       "      <td>19 กพ. 66  นำรถปิคอัพ 2 คัน  มาจอดบนทางเท้า  ป...</td>\n",
       "    </tr>\n",
       "    <tr>\n",
       "      <th>78210</th>\n",
       "      <td>[ท่อระบายน้ำ]</td>\n",
       "      <td>น้ำเริ่มเน่าท่อตัน</td>\n",
       "    </tr>\n",
       "    <tr>\n",
       "      <th>151113</th>\n",
       "      <td>[ถนน, ป้าย]</td>\n",
       "      <td>ไฟฟ้าถนน  ไฟป้ายเตือนถนนดับ</td>\n",
       "    </tr>\n",
       "    <tr>\n",
       "      <th>121429</th>\n",
       "      <td>[ถนน]</td>\n",
       "      <td>ถนนทรุดและชำรุดตั้งแต่ปากซอยเพิ่มสิน20ถึงแยก1แ...</td>\n",
       "    </tr>\n",
       "    <tr>\n",
       "      <th>127484</th>\n",
       "      <td>[ความสะอาด, ป้าย]</td>\n",
       "      <td>📢🔉🔊 แจ้งติดป้าย ❌ 🙅‍♀️🙅‍♂️🙅😤😠😡\\nผิด พ.ร.บ.รักษ...</td>\n",
       "    </tr>\n",
       "    <tr>\n",
       "      <th>3845</th>\n",
       "      <td>[สายไฟ]</td>\n",
       "      <td>เสาไฟฟ้าในซอยใกล้เซเว่นเอียงมากๆเลยค่ะ กลัวว่า...</td>\n",
       "    </tr>\n",
       "    <tr>\n",
       "      <th>150460</th>\n",
       "      <td>[การเดินทาง, ถนน]</td>\n",
       "      <td>ควรทำถนนใหม่ สภาพแย่มาก ลำบากในการเดินทาง</td>\n",
       "    </tr>\n",
       "    <tr>\n",
       "      <th>433</th>\n",
       "      <td>[สะพาน, จราจร]</td>\n",
       "      <td>ปัญหารถติดหน้าห่างสรรพสินค้า central eastville...</td>\n",
       "    </tr>\n",
       "    <tr>\n",
       "      <th>188333</th>\n",
       "      <td>[ความปลอดภัย, ถนน]</td>\n",
       "      <td>คอสะพานข้ามคลองศาลาลอย ถนนอ่อนนุช ตัดถนนพัฒนาก...</td>\n",
       "    </tr>\n",
       "    <tr>\n",
       "      <th>135265</th>\n",
       "      <td>[ทางเท้า]</td>\n",
       "      <td>ไฟทางเท้าเสีย</td>\n",
       "    </tr>\n",
       "    <tr>\n",
       "      <th>155090</th>\n",
       "      <td>[ทางเท้า]</td>\n",
       "      <td>ขณะนี้มีการกั้นพื้นที่เนื่องจากปรับปรุงทางเท้า...</td>\n",
       "    </tr>\n",
       "    <tr>\n",
       "      <th>7089</th>\n",
       "      <td>[คลอง]</td>\n",
       "      <td>สภาพน้ำคลองนะคะ</td>\n",
       "    </tr>\n",
       "  </tbody>\n",
       "</table>\n",
       "</div>"
      ],
      "text/plain": [
       "                               type  \\\n",
       "188051  [ความสะอาด, ร้องเรียน, ถนน]   \n",
       "21341                         [ถนน]   \n",
       "174622                [ถนน, สอบถาม]   \n",
       "31746                 [ถนน, ต้นไม้]   \n",
       "137889                       [ป้าย]   \n",
       "125872                        [ถนน]   \n",
       "66907                [ทางเท้า, ถนน]   \n",
       "108521                   [แสงสว่าง]   \n",
       "162029                    [กีดขวาง]   \n",
       "78210                 [ท่อระบายน้ำ]   \n",
       "151113                  [ถนน, ป้าย]   \n",
       "121429                        [ถนน]   \n",
       "127484            [ความสะอาด, ป้าย]   \n",
       "3845                        [สายไฟ]   \n",
       "150460            [การเดินทาง, ถนน]   \n",
       "433                  [สะพาน, จราจร]   \n",
       "188333           [ความปลอดภัย, ถนน]   \n",
       "135265                    [ทางเท้า]   \n",
       "155090                    [ทางเท้า]   \n",
       "7089                         [คลอง]   \n",
       "\n",
       "                                                  comment  \n",
       "188051  ปัญหา : เมื่อวันที่ 08/04/65 พบพนักงานเก็บขนขย...  \n",
       "21341   ถนนนครชัยศรี เวลาฝนตก ถนนลื่นจะมีอุบัติเหตุลื่...  \n",
       "174622  มีการสร้างสถานี จำหน่ายแก๊สในย่านชุมชน \\n\\nและ...  \n",
       "31746   บ้านที่อยู่ติดถนนปลูกต้นไม้นอกรั้วแล้วปล่อยให้...  \n",
       "137889                        ป้ายมีสติกเกอร์ติดเต็มไปหมด  \n",
       "125872                                    พื้นผิวถนนชำรุด  \n",
       "66907       1. ถนนทางเท้าขรุขระ คนชราเดินสะดุดบ่อยมากๆค่ะ  \n",
       "108521  ไฟส่องสว่างภายในที่พักผู้โดยสารชำรุด ขอความกรุ...  \n",
       "162029  19 กพ. 66  นำรถปิคอัพ 2 คัน  มาจอดบนทางเท้า  ป...  \n",
       "78210                                  น้ำเริ่มเน่าท่อตัน  \n",
       "151113                        ไฟฟ้าถนน  ไฟป้ายเตือนถนนดับ  \n",
       "121429  ถนนทรุดและชำรุดตั้งแต่ปากซอยเพิ่มสิน20ถึงแยก1แ...  \n",
       "127484  📢🔉🔊 แจ้งติดป้าย ❌ 🙅‍♀️🙅‍♂️🙅😤😠😡\\nผิด พ.ร.บ.รักษ...  \n",
       "3845    เสาไฟฟ้าในซอยใกล้เซเว่นเอียงมากๆเลยค่ะ กลัวว่า...  \n",
       "150460          ควรทำถนนใหม่ สภาพแย่มาก ลำบากในการเดินทาง  \n",
       "433     ปัญหารถติดหน้าห่างสรรพสินค้า central eastville...  \n",
       "188333  คอสะพานข้ามคลองศาลาลอย ถนนอ่อนนุช ตัดถนนพัฒนาก...  \n",
       "135265                                      ไฟทางเท้าเสีย  \n",
       "155090  ขณะนี้มีการกั้นพื้นที่เนื่องจากปรับปรุงทางเท้า...  \n",
       "7089                                      สภาพน้ำคลองนะคะ  "
      ]
     },
     "execution_count": 15,
     "metadata": {},
     "output_type": "execute_result"
    }
   ],
   "source": [
    "tmp_df.sample(20)"
   ]
  },
  {
   "cell_type": "code",
   "execution_count": 16,
   "metadata": {},
   "outputs": [
    {
     "data": {
      "text/plain": [
       "type_ถนน            76024\n",
       "type_ทางเท้า        31251\n",
       "type_แสงสว่าง       22506\n",
       "type_ความปลอดภัย    20381\n",
       "type_ความสะอาด      19690\n",
       "type_น้ำท่วม        19006\n",
       "type_กีดขวาง        15374\n",
       "type_ท่อระบายน้ำ    13842\n",
       "type_สะพาน          12111\n",
       "type_จราจร          12030\n",
       "type_สายไฟ           9583\n",
       "type_เสียงรบกวน      8677\n",
       "type_คลอง            8587\n",
       "type_ต้นไม้          8008\n",
       "type_ร้องเรียน       7250\n",
       "type_ป้าย            6395\n",
       "type_สัตว์จรจัด      4132\n",
       "type_PM2.5           1116\n",
       "type_สอบถาม          1109\n",
       "type_เสนอแนะ          983\n",
       "type_คนจรจัด          941\n",
       "type_การเดินทาง       532\n",
       "type_ห้องน้ำ          265\n",
       "type_ป้ายจราจร        249\n",
       "dtype: int64"
      ]
     },
     "execution_count": 16,
     "metadata": {},
     "output_type": "execute_result"
    }
   ],
   "source": [
    "transformed_data = mlb.fit_transform(tmp_df['type'])\n",
    "\n",
    "dummy_df = pd.DataFrame(transformed_data, columns=[f'type_{label}' for label in mlb.classes_]).reset_index(drop=True)\n",
    "dummy_df.sum(axis=0).sort_values(ascending=False)"
   ]
  },
  {
   "cell_type": "code",
   "execution_count": 19,
   "metadata": {},
   "outputs": [
    {
     "data": {
      "text/plain": [
       "['ป้ายจราจร',\n",
       " 'ห้องน้ำ',\n",
       " 'การเดินทาง',\n",
       " 'คนจรจัด',\n",
       " 'เสนอแนะ',\n",
       " 'สอบถาม',\n",
       " 'PM2.5',\n",
       " 'สัตว์จรจัด',\n",
       " 'ป้าย',\n",
       " 'ร้องเรียน',\n",
       " 'ต้นไม้',\n",
       " 'คลอง',\n",
       " 'เสียงรบกวน',\n",
       " 'สายไฟ',\n",
       " 'จราจร',\n",
       " 'สะพาน',\n",
       " 'ท่อระบายน้ำ',\n",
       " 'กีดขวาง',\n",
       " 'น้ำท่วม',\n",
       " 'ความสะอาด',\n",
       " 'ความปลอดภัย',\n",
       " 'แสงสว่าง',\n",
       " 'ทางเท้า',\n",
       " 'ถนน']"
      ]
     },
     "execution_count": 19,
     "metadata": {},
     "output_type": "execute_result"
    }
   ],
   "source": [
    "[e[5:] for e  in dummy_df.sum(axis=0).sort_values(ascending=True).index.tolist()]"
   ]
  },
  {
   "cell_type": "code",
   "execution_count": 21,
   "metadata": {},
   "outputs": [
    {
     "data": {
      "text/plain": [
       "0         ความสะอาด\n",
       "1             สายไฟ\n",
       "2             สะพาน\n",
       "3         ร้องเรียน\n",
       "4         ร้องเรียน\n",
       "            ...    \n",
       "205268          ถนน\n",
       "205269        สายไฟ\n",
       "205270          ถนน\n",
       "205271      ทางเท้า\n",
       "205272    ความสะอาด\n",
       "Name: type, Length: 205273, dtype: object"
      ]
     },
     "execution_count": 21,
     "metadata": {},
     "output_type": "execute_result"
    }
   ],
   "source": [
    "def apply_filter_type(x):\n",
    "    order_list = ['ป้ายจราจร',\n",
    " 'ห้องน้ำ',\n",
    " 'การเดินทาง',\n",
    " 'คนจรจัด',\n",
    " 'เสนอแนะ',\n",
    " 'สอบถาม',\n",
    " 'PM2.5',\n",
    " 'สัตว์จรจัด',\n",
    " 'ป้าย',\n",
    " 'ร้องเรียน',\n",
    " 'ต้นไม้',\n",
    " 'คลอง',\n",
    " 'เสียงรบกวน',\n",
    " 'สายไฟ',\n",
    " 'จราจร',\n",
    " 'สะพาน',\n",
    " 'ท่อระบายน้ำ',\n",
    " 'กีดขวาง',\n",
    " 'น้ำท่วม',\n",
    " 'ความสะอาด',\n",
    " 'ความปลอดภัย',\n",
    " 'แสงสว่าง',\n",
    " 'ทางเท้า',\n",
    " 'ถนน']\n",
    "    for order in order_list:\n",
    "        if order in x:\n",
    "            return order\n",
    "    print(x)\n",
    "        \n",
    "tmp_df_2 = tmp_df.copy()\n",
    "tmp_df_2 = tmp_df_2[\"type\"].apply(apply_filter_type)\n",
    "tmp_df_2"
   ]
  }
 ],
 "metadata": {
  "kernelspec": {
   "display_name": "torch2",
   "language": "python",
   "name": "python3"
  },
  "language_info": {
   "codemirror_mode": {
    "name": "ipython",
    "version": 3
   },
   "file_extension": ".py",
   "mimetype": "text/x-python",
   "name": "python",
   "nbconvert_exporter": "python",
   "pygments_lexer": "ipython3",
   "version": "3.11.0"
  },
  "orig_nbformat": 4
 },
 "nbformat": 4,
 "nbformat_minor": 2
}
