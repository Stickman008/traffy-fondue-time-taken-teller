{
 "cells": [
  {
   "cell_type": "code",
   "execution_count": 90,
   "metadata": {},
   "outputs": [],
   "source": [
    "import numpy as np\n",
    "import pandas as pd\n",
    "from tqdm import tqdm\n",
    "tqdm.pandas()"
   ]
  },
  {
   "cell_type": "code",
   "execution_count": 91,
   "metadata": {},
   "outputs": [],
   "source": [
    "df = pd.read_csv(\"../data/bangkok_traffy.csv\")"
   ]
  },
  {
   "cell_type": "code",
   "execution_count": 92,
   "metadata": {},
   "outputs": [],
   "source": [
    "df = df[[\"type\", \"comment\", \"province\"]]\n",
    "df = df[df['province'].str.contains('กรุงเทพ|bangkok',na=False,case=False)]\n",
    "df = df.drop([\"province\"], axis=1)\n",
    "\n",
    "df['type'].dropna(axis=0, inplace=True)\n",
    "df['comment'].dropna(axis=0, inplace=True)\n",
    "\n",
    "df['type'].fillna('', inplace=True) \n",
    "df['type'] = df['type'].astype(str) \n",
    "df['type'] = df['type'].str.strip('{}').apply(lambda x :[e for e in x.split(',') if e])\n",
    "df = df.dropna().reset_index(drop=True)"
   ]
  },
  {
   "cell_type": "code",
   "execution_count": 93,
   "metadata": {},
   "outputs": [
    {
     "data": {
      "text/plain": [
       "type       0\n",
       "comment    0\n",
       "dtype: int64"
      ]
     },
     "execution_count": 93,
     "metadata": {},
     "output_type": "execute_result"
    }
   ],
   "source": [
    "df.isna().sum()"
   ]
  },
  {
   "cell_type": "code",
   "execution_count": 94,
   "metadata": {},
   "outputs": [],
   "source": [
    "# import re\n",
    "# import string\n",
    "# import pythainlp\n",
    "# from tqdm.auto import tqdm\n",
    "# tqdm.pandas()\n",
    "\n",
    "# def preprocessing_comment(comment):\n",
    "#     # Normalize text\n",
    "#     try:\n",
    "#       comment = pythainlp.util.normalize(comment)\n",
    "#     except:\n",
    "#       print(comment)\n",
    "\n",
    "#     # Tokenize text\n",
    "#     tokens = pythainlp.word_tokenize(comment)\n",
    "  \n",
    "#     return comment\n",
    "\n",
    "# df['comment_clean'] = df['comment'].progress_apply(preprocessing_comment)"
   ]
  },
  {
   "cell_type": "code",
   "execution_count": 95,
   "metadata": {},
   "outputs": [
    {
     "data": {
      "text/html": [
       "<div>\n",
       "<style scoped>\n",
       "    .dataframe tbody tr th:only-of-type {\n",
       "        vertical-align: middle;\n",
       "    }\n",
       "\n",
       "    .dataframe tbody tr th {\n",
       "        vertical-align: top;\n",
       "    }\n",
       "\n",
       "    .dataframe thead th {\n",
       "        text-align: right;\n",
       "    }\n",
       "</style>\n",
       "<table border=\"1\" class=\"dataframe\">\n",
       "  <thead>\n",
       "    <tr style=\"text-align: right;\">\n",
       "      <th></th>\n",
       "      <th>type</th>\n",
       "      <th>comment</th>\n",
       "    </tr>\n",
       "  </thead>\n",
       "  <tbody>\n",
       "    <tr>\n",
       "      <th>0</th>\n",
       "      <td>[]</td>\n",
       "      <td>ไม่มีภาพ</td>\n",
       "    </tr>\n",
       "    <tr>\n",
       "      <th>1</th>\n",
       "      <td>[ความสะอาด]</td>\n",
       "      <td>ขยะเยอะ</td>\n",
       "    </tr>\n",
       "    <tr>\n",
       "      <th>2</th>\n",
       "      <td>[สายไฟ]</td>\n",
       "      <td>1. เถาวัลย์งอดบนสายไฟ ผมกลัวว่าต่อไปจะเอาออกยา...</td>\n",
       "    </tr>\n",
       "    <tr>\n",
       "      <th>3</th>\n",
       "      <td>[ถนน, สะพาน]</td>\n",
       "      <td>1 ซ่อมทางเท้าหลังคืนพื้นที่จากการปรับปรุงสะพาน...</td>\n",
       "    </tr>\n",
       "    <tr>\n",
       "      <th>4</th>\n",
       "      <td>[น้ำท่วม, ร้องเรียน]</td>\n",
       "      <td>น้ำท่วมเวลาฝนตกและทะลุเข้าบ้านเดือดร้อนมากทุกๆ...</td>\n",
       "    </tr>\n",
       "  </tbody>\n",
       "</table>\n",
       "</div>"
      ],
      "text/plain": [
       "                   type                                            comment\n",
       "0                    []                                           ไม่มีภาพ\n",
       "1           [ความสะอาด]                                            ขยะเยอะ\n",
       "2               [สายไฟ]  1. เถาวัลย์งอดบนสายไฟ ผมกลัวว่าต่อไปจะเอาออกยา...\n",
       "3          [ถนน, สะพาน]  1 ซ่อมทางเท้าหลังคืนพื้นที่จากการปรับปรุงสะพาน...\n",
       "4  [น้ำท่วม, ร้องเรียน]  น้ำท่วมเวลาฝนตกและทะลุเข้าบ้านเดือดร้อนมากทุกๆ..."
      ]
     },
     "execution_count": 95,
     "metadata": {},
     "output_type": "execute_result"
    }
   ],
   "source": [
    "df.head()"
   ]
  },
  {
   "cell_type": "code",
   "execution_count": 96,
   "metadata": {},
   "outputs": [
    {
     "data": {
      "text/html": [
       "<div>\n",
       "<style scoped>\n",
       "    .dataframe tbody tr th:only-of-type {\n",
       "        vertical-align: middle;\n",
       "    }\n",
       "\n",
       "    .dataframe tbody tr th {\n",
       "        vertical-align: top;\n",
       "    }\n",
       "\n",
       "    .dataframe thead th {\n",
       "        text-align: right;\n",
       "    }\n",
       "</style>\n",
       "<table border=\"1\" class=\"dataframe\">\n",
       "  <thead>\n",
       "    <tr style=\"text-align: right;\">\n",
       "      <th></th>\n",
       "      <th>type</th>\n",
       "      <th>comment</th>\n",
       "    </tr>\n",
       "  </thead>\n",
       "  <tbody>\n",
       "    <tr>\n",
       "      <th>0</th>\n",
       "      <td>[ความสะอาด]</td>\n",
       "      <td>ขยะเยอะ</td>\n",
       "    </tr>\n",
       "    <tr>\n",
       "      <th>1</th>\n",
       "      <td>[สายไฟ]</td>\n",
       "      <td>1. เถาวัลย์งอดบนสายไฟ ผมกลัวว่าต่อไปจะเอาออกยา...</td>\n",
       "    </tr>\n",
       "    <tr>\n",
       "      <th>2</th>\n",
       "      <td>[ถนน, สะพาน]</td>\n",
       "      <td>1 ซ่อมทางเท้าหลังคืนพื้นที่จากการปรับปรุงสะพาน...</td>\n",
       "    </tr>\n",
       "    <tr>\n",
       "      <th>3</th>\n",
       "      <td>[น้ำท่วม, ร้องเรียน]</td>\n",
       "      <td>น้ำท่วมเวลาฝนตกและทะลุเข้าบ้านเดือดร้อนมากทุกๆ...</td>\n",
       "    </tr>\n",
       "    <tr>\n",
       "      <th>4</th>\n",
       "      <td>[ถนน, ร้องเรียน, น้ำท่วม, ความปลอดภัย]</td>\n",
       "      <td>1) พื้นที่นี้ขาดหน่วยงานรับผิดชอบ เนื่องจากไม่...</td>\n",
       "    </tr>\n",
       "  </tbody>\n",
       "</table>\n",
       "</div>"
      ],
      "text/plain": [
       "                                     type   \n",
       "0                             [ความสะอาด]  \\\n",
       "1                                 [สายไฟ]   \n",
       "2                            [ถนน, สะพาน]   \n",
       "3                    [น้ำท่วม, ร้องเรียน]   \n",
       "4  [ถนน, ร้องเรียน, น้ำท่วม, ความปลอดภัย]   \n",
       "\n",
       "                                             comment  \n",
       "0                                            ขยะเยอะ  \n",
       "1  1. เถาวัลย์งอดบนสายไฟ ผมกลัวว่าต่อไปจะเอาออกยา...  \n",
       "2  1 ซ่อมทางเท้าหลังคืนพื้นที่จากการปรับปรุงสะพาน...  \n",
       "3  น้ำท่วมเวลาฝนตกและทะลุเข้าบ้านเดือดร้อนมากทุกๆ...  \n",
       "4  1) พื้นที่นี้ขาดหน่วยงานรับผิดชอบ เนื่องจากไม่...  "
      ]
     },
     "execution_count": 96,
     "metadata": {},
     "output_type": "execute_result"
    }
   ],
   "source": [
    "df[\"type\"] = df[\"type\"].apply(lambda x: np.nan if x == [] else x)\n",
    "df = df.dropna().reset_index(drop=True)\n",
    "df.head()"
   ]
  },
  {
   "cell_type": "code",
   "execution_count": 97,
   "metadata": {},
   "outputs": [
    {
     "data": {
      "text/plain": [
       "type       0\n",
       "comment    0\n",
       "dtype: int64"
      ]
     },
     "execution_count": 97,
     "metadata": {},
     "output_type": "execute_result"
    }
   ],
   "source": [
    "df.isna().sum()"
   ]
  },
  {
   "cell_type": "code",
   "execution_count": 98,
   "metadata": {},
   "outputs": [],
   "source": [
    "from sklearn.preprocessing import MultiLabelBinarizer\n",
    "\n",
    "mlb = MultiLabelBinarizer()\n",
    "transformed_data = mlb.fit_transform(df['type'])\n",
    "\n",
    "dummy_df = pd.DataFrame(transformed_data, columns=[f'{label}' for label in mlb.classes_]).reset_index(drop=True)"
   ]
  },
  {
   "cell_type": "code",
   "execution_count": 99,
   "metadata": {},
   "outputs": [],
   "source": [
    "# df.type"
   ]
  },
  {
   "cell_type": "code",
   "execution_count": 100,
   "metadata": {},
   "outputs": [
    {
     "data": {
      "text/plain": [
       "ถนน            77609\n",
       "ทางเท้า        31816\n",
       "แสงสว่าง       22885\n",
       "ความปลอดภัย    20869\n",
       "ความสะอาด      20139\n",
       "น้ำท่วม        19197\n",
       "กีดขวาง        15699\n",
       "ท่อระบายน้ำ    14129\n",
       "สะพาน          12276\n",
       "จราจร          12252\n",
       "สายไฟ           9720\n",
       "เสียงรบกวน      8899\n",
       "คลอง            8762\n",
       "ต้นไม้          8171\n",
       "ร้องเรียน       7717\n",
       "ป้าย            6609\n",
       "สัตว์จรจัด      4251\n",
       "PM2.5           1180\n",
       "สอบถาม          1171\n",
       "เสนอแนะ         1002\n",
       "คนจรจัด          991\n",
       "การเดินทาง       548\n",
       "ห้องน้ำ          276\n",
       "ป้ายจราจร        257\n",
       "dtype: int64"
      ]
     },
     "execution_count": 100,
     "metadata": {},
     "output_type": "execute_result"
    }
   ],
   "source": [
    "dummy_df.sum(axis=0).sort_values(ascending=False)"
   ]
  },
  {
   "cell_type": "code",
   "execution_count": 101,
   "metadata": {},
   "outputs": [
    {
     "name": "stderr",
     "output_type": "stream",
     "text": [
      "100%|██████████| 208999/208999 [00:00<00:00, 651084.12it/s]\n",
      "100%|██████████| 208999/208999 [00:00<00:00, 390244.98it/s]\n"
     ]
    }
   ],
   "source": [
    "def apply_1(x):\n",
    "        if (len(x) == 1) and ([\"ร้องเรียน\"] in x):\n",
    "            x = [\"other\"]\n",
    "        else:\n",
    "            x = [elem for elem in x if elem not in [\"ร้องเรียน\"]]\n",
    "        return x\n",
    "def preprocess_type(df):\n",
    "    df = df.copy()\n",
    "    other_list = [\"PM2.5\", \"สอบถาม\", \"เสนอแนะ\", \"คนจรจัด\", \"การเดินทาง\", \"ห้องน้ำ\", \"ป้ายจราจร\"]\n",
    "    df['type'] = df['type'].progress_apply(lambda x: [elem if elem not in other_list else 'other' for elem in x])\n",
    "    df[\"type\"] = df[\"type\"].apply(lambda x: [\"other\"] if x == [] else x)\n",
    "    df['type'] = df['type'].progress_apply(apply_1)\n",
    "    df[\"type\"] = df[\"type\"].apply(lambda x: [\"other\"] if x == [] else x)\n",
    "    return df\n",
    "\n",
    "tmp_df = preprocess_type(df)"
   ]
  },
  {
   "cell_type": "code",
   "execution_count": 102,
   "metadata": {},
   "outputs": [
    {
     "data": {
      "text/plain": [
       "type       0\n",
       "comment    0\n",
       "dtype: int64"
      ]
     },
     "execution_count": 102,
     "metadata": {},
     "output_type": "execute_result"
    }
   ],
   "source": [
    "tmp_df[\"type\"] = tmp_df[\"type\"].apply(lambda x: np.nan if x == [] else x)\n",
    "tmp_df.isna().sum()"
   ]
  },
  {
   "cell_type": "code",
   "execution_count": 103,
   "metadata": {},
   "outputs": [],
   "source": [
    "# tmp = \"ร้องเรียน\"\n",
    "# filtered_df = tmp_df[tmp_df['type'].progress_apply(lambda x: any(tmp in elem for elem in x))]\n",
    "# filtered_df.type.tolist()"
   ]
  },
  {
   "cell_type": "code",
   "execution_count": 104,
   "metadata": {},
   "outputs": [
    {
     "data": {
      "text/html": [
       "<div>\n",
       "<style scoped>\n",
       "    .dataframe tbody tr th:only-of-type {\n",
       "        vertical-align: middle;\n",
       "    }\n",
       "\n",
       "    .dataframe tbody tr th {\n",
       "        vertical-align: top;\n",
       "    }\n",
       "\n",
       "    .dataframe thead th {\n",
       "        text-align: right;\n",
       "    }\n",
       "</style>\n",
       "<table border=\"1\" class=\"dataframe\">\n",
       "  <thead>\n",
       "    <tr style=\"text-align: right;\">\n",
       "      <th></th>\n",
       "      <th>type</th>\n",
       "      <th>comment</th>\n",
       "    </tr>\n",
       "  </thead>\n",
       "  <tbody>\n",
       "    <tr>\n",
       "      <th>6771</th>\n",
       "      <td>[คลอง, ความสะอาด]</td>\n",
       "      <td>แจ้งปัญหาน้ำเน่าเสียและขยะ น้ำมีกลิ่นเหม็นเสี่...</td>\n",
       "    </tr>\n",
       "    <tr>\n",
       "      <th>171635</th>\n",
       "      <td>[other]</td>\n",
       "      <td>สวนย่อมอยู่ในซอยพรานนก 7 แยกสุดสาคร 13 สถานที่...</td>\n",
       "    </tr>\n",
       "    <tr>\n",
       "      <th>83526</th>\n",
       "      <td>[น้ำท่วม]</td>\n",
       "      <td>น้ำท่วม</td>\n",
       "    </tr>\n",
       "    <tr>\n",
       "      <th>5168</th>\n",
       "      <td>[ถนน, สายไฟ]</td>\n",
       "      <td>1. ถนนเส้นรามคำแหง ทำถนน รถไฟฟ้า สายไฟ แย่มาก</td>\n",
       "    </tr>\n",
       "    <tr>\n",
       "      <th>99332</th>\n",
       "      <td>[ถนน, แสงสว่าง]</td>\n",
       "      <td>ไฟส่องสว่างถนนหลวงแพ่ง แขวงขุมทอง เขตลาดกระบัง...</td>\n",
       "    </tr>\n",
       "    <tr>\n",
       "      <th>189191</th>\n",
       "      <td>[ถนน, ทางเท้า, ความปลอดภัย]</td>\n",
       "      <td>ปัญหา : บาทวิถี เนื่องจาก ฟุตบาทแตกชำรุด พื้นท...</td>\n",
       "    </tr>\n",
       "    <tr>\n",
       "      <th>106851</th>\n",
       "      <td>[ถนน, ความปลอดภัย]</td>\n",
       "      <td>ถนนเป็นหลุม ขอบท่อชัดเจน อันตรายมากโดยเฉพาะคนข...</td>\n",
       "    </tr>\n",
       "    <tr>\n",
       "      <th>184653</th>\n",
       "      <td>[กีดขวาง]</td>\n",
       "      <td>ทำไมงานวิ่งสวนเบญจกิติ ต้องมาใช้ทางเข้าสวนเป็น...</td>\n",
       "    </tr>\n",
       "    <tr>\n",
       "      <th>77325</th>\n",
       "      <td>[ความปลอดภัย]</td>\n",
       "      <td>สายสืาอสารพันยุ่งเหยิงมากครับ กลัวจะเกิดอันตรา...</td>\n",
       "    </tr>\n",
       "    <tr>\n",
       "      <th>170623</th>\n",
       "      <td>[ถนน]</td>\n",
       "      <td>‘กรุณาอ่านข้อมูลบรรยายประกอบการปักหมุด’\\n* ปัญ...</td>\n",
       "    </tr>\n",
       "    <tr>\n",
       "      <th>200991</th>\n",
       "      <td>[other]</td>\n",
       "      <td>คนจรจัดในหมู่บ้าน</td>\n",
       "    </tr>\n",
       "    <tr>\n",
       "      <th>67202</th>\n",
       "      <td>[ความสะอาด, น้ำท่วม]</td>\n",
       "      <td>ขอแจ้งเรื่องเดิมครับ อยากให้ย้ายจุดทิ้งขยะออก ...</td>\n",
       "    </tr>\n",
       "    <tr>\n",
       "      <th>199329</th>\n",
       "      <td>[ท่อระบายน้ำ, ความปลอดภัย]</td>\n",
       "      <td>ฝาท่อชำรุด อาจเกิดอุบัติเหตุกับคนที่ผ่านไปมาได้</td>\n",
       "    </tr>\n",
       "    <tr>\n",
       "      <th>110637</th>\n",
       "      <td>[ถนน]</td>\n",
       "      <td>ถนนชำรุด ปากซอยพึ่งมี 29</td>\n",
       "    </tr>\n",
       "    <tr>\n",
       "      <th>182421</th>\n",
       "      <td>[เสียงรบกวน]</td>\n",
       "      <td>ไซท์งานข้างเคียงตอกเข็ม เสียงดังและสั่นสะเทือน...</td>\n",
       "    </tr>\n",
       "    <tr>\n",
       "      <th>84761</th>\n",
       "      <td>[สายไฟ]</td>\n",
       "      <td>สายไฟ สายสื่อสาร</td>\n",
       "    </tr>\n",
       "    <tr>\n",
       "      <th>183380</th>\n",
       "      <td>[ถนน, คลอง]</td>\n",
       "      <td>ซอยเลียบคลองภาษีเจริญฝั่งเหนือ 12 ถนนเลียบคลอง...</td>\n",
       "    </tr>\n",
       "    <tr>\n",
       "      <th>52091</th>\n",
       "      <td>[กีดขวาง]</td>\n",
       "      <td>มอเตอร์ไซค์จอดบนทางเท้าทั้งกลางวันและกลางคืนบา...</td>\n",
       "    </tr>\n",
       "    <tr>\n",
       "      <th>188948</th>\n",
       "      <td>[แสงสว่าง]</td>\n",
       "      <td>ไฟถนน ดูมืด อยากให้เปลี่ยนสีไฟให้สว่างขึ้นครับ</td>\n",
       "    </tr>\n",
       "    <tr>\n",
       "      <th>106144</th>\n",
       "      <td>[ถนน]</td>\n",
       "      <td>ซอยประชาอุทิศ 24 ต้นซอยมีร้านขายของ และให้คนนั...</td>\n",
       "    </tr>\n",
       "  </tbody>\n",
       "</table>\n",
       "</div>"
      ],
      "text/plain": [
       "                               type   \n",
       "6771              [คลอง, ความสะอาด]  \\\n",
       "171635                      [other]   \n",
       "83526                     [น้ำท่วม]   \n",
       "5168                   [ถนน, สายไฟ]   \n",
       "99332               [ถนน, แสงสว่าง]   \n",
       "189191  [ถนน, ทางเท้า, ความปลอดภัย]   \n",
       "106851           [ถนน, ความปลอดภัย]   \n",
       "184653                    [กีดขวาง]   \n",
       "77325                 [ความปลอดภัย]   \n",
       "170623                        [ถนน]   \n",
       "200991                      [other]   \n",
       "67202          [ความสะอาด, น้ำท่วม]   \n",
       "199329   [ท่อระบายน้ำ, ความปลอดภัย]   \n",
       "110637                        [ถนน]   \n",
       "182421                 [เสียงรบกวน]   \n",
       "84761                       [สายไฟ]   \n",
       "183380                  [ถนน, คลอง]   \n",
       "52091                     [กีดขวาง]   \n",
       "188948                   [แสงสว่าง]   \n",
       "106144                        [ถนน]   \n",
       "\n",
       "                                                  comment  \n",
       "6771    แจ้งปัญหาน้ำเน่าเสียและขยะ น้ำมีกลิ่นเหม็นเสี่...  \n",
       "171635  สวนย่อมอยู่ในซอยพรานนก 7 แยกสุดสาคร 13 สถานที่...  \n",
       "83526                                             น้ำท่วม  \n",
       "5168        1. ถนนเส้นรามคำแหง ทำถนน รถไฟฟ้า สายไฟ แย่มาก  \n",
       "99332   ไฟส่องสว่างถนนหลวงแพ่ง แขวงขุมทอง เขตลาดกระบัง...  \n",
       "189191  ปัญหา : บาทวิถี เนื่องจาก ฟุตบาทแตกชำรุด พื้นท...  \n",
       "106851  ถนนเป็นหลุม ขอบท่อชัดเจน อันตรายมากโดยเฉพาะคนข...  \n",
       "184653  ทำไมงานวิ่งสวนเบญจกิติ ต้องมาใช้ทางเข้าสวนเป็น...  \n",
       "77325   สายสืาอสารพันยุ่งเหยิงมากครับ กลัวจะเกิดอันตรา...  \n",
       "170623  ‘กรุณาอ่านข้อมูลบรรยายประกอบการปักหมุด’\\n* ปัญ...  \n",
       "200991                                  คนจรจัดในหมู่บ้าน  \n",
       "67202   ขอแจ้งเรื่องเดิมครับ อยากให้ย้ายจุดทิ้งขยะออก ...  \n",
       "199329    ฝาท่อชำรุด อาจเกิดอุบัติเหตุกับคนที่ผ่านไปมาได้  \n",
       "110637                           ถนนชำรุด ปากซอยพึ่งมี 29  \n",
       "182421  ไซท์งานข้างเคียงตอกเข็ม เสียงดังและสั่นสะเทือน...  \n",
       "84761                                    สายไฟ สายสื่อสาร  \n",
       "183380  ซอยเลียบคลองภาษีเจริญฝั่งเหนือ 12 ถนนเลียบคลอง...  \n",
       "52091   มอเตอร์ไซค์จอดบนทางเท้าทั้งกลางวันและกลางคืนบา...  \n",
       "188948     ไฟถนน ดูมืด อยากให้เปลี่ยนสีไฟให้สว่างขึ้นครับ  \n",
       "106144  ซอยประชาอุทิศ 24 ต้นซอยมีร้านขายของ และให้คนนั...  "
      ]
     },
     "execution_count": 104,
     "metadata": {},
     "output_type": "execute_result"
    }
   ],
   "source": [
    "tmp_df.sample(20)"
   ]
  },
  {
   "cell_type": "code",
   "execution_count": 105,
   "metadata": {},
   "outputs": [
    {
     "data": {
      "text/plain": [
       "type_ถนน            77609\n",
       "type_ทางเท้า        31816\n",
       "type_แสงสว่าง       22885\n",
       "type_ความปลอดภัย    20869\n",
       "type_ความสะอาด      20139\n",
       "type_น้ำท่วม        19197\n",
       "type_กีดขวาง        15699\n",
       "type_ท่อระบายน้ำ    14129\n",
       "type_สะพาน          12276\n",
       "type_จราจร          12252\n",
       "type_สายไฟ           9720\n",
       "type_เสียงรบกวน      8899\n",
       "type_คลอง            8762\n",
       "type_ต้นไม้          8171\n",
       "type_ป้าย            6609\n",
       "type_other           6558\n",
       "type_สัตว์จรจัด      4251\n",
       "dtype: int64"
      ]
     },
     "execution_count": 105,
     "metadata": {},
     "output_type": "execute_result"
    }
   ],
   "source": [
    "transformed_data = mlb.fit_transform(tmp_df['type'])\n",
    "\n",
    "dummy_df = pd.DataFrame(transformed_data, columns=[f'type_{label}' for label in mlb.classes_]).reset_index(drop=True)\n",
    "dummy_df.sum(axis=0).sort_values(ascending=False)"
   ]
  },
  {
   "cell_type": "code",
   "execution_count": 106,
   "metadata": {},
   "outputs": [],
   "source": [
    "# dummy_df.sum(axis=0).sort_values(ascending=True).index.tolist()"
   ]
  },
  {
   "cell_type": "code",
   "execution_count": 108,
   "metadata": {},
   "outputs": [
    {
     "data": {
      "text/plain": [
       "0           ความสะอาด\n",
       "1               สายไฟ\n",
       "2               สะพาน\n",
       "3             น้ำท่วม\n",
       "4             น้ำท่วม\n",
       "             ...     \n",
       "208994    ท่อระบายน้ำ\n",
       "208995      ความสะอาด\n",
       "208996           คลอง\n",
       "208997            ถนน\n",
       "208998            ถนน\n",
       "Name: type, Length: 208999, dtype: object"
      ]
     },
     "execution_count": 108,
     "metadata": {},
     "output_type": "execute_result"
    }
   ],
   "source": [
    "def apply_filter_type(x):\n",
    "    order_list = ['สัตว์จรจัด',\n",
    " 'other',\n",
    " 'ป้าย',\n",
    " 'ต้นไม้',\n",
    " 'คลอง',\n",
    " 'เสียงรบกวน',\n",
    " 'สายไฟ',\n",
    " 'จราจร',\n",
    " 'สะพาน',\n",
    " 'ท่อระบายน้ำ',\n",
    " 'กีดขวาง',\n",
    " 'น้ำท่วม',\n",
    " 'ความสะอาด',\n",
    " 'ความปลอดภัย',\n",
    " 'แสงสว่าง',\n",
    " 'ทางเท้า',\n",
    " 'ถนน']\n",
    "    for order in order_list:\n",
    "        if order in x:\n",
    "            return order\n",
    "    print(x)\n",
    "        \n",
    "tmp_df_2 = tmp_df.copy()\n",
    "tmp_df_2 = tmp_df_2[\"type\"].apply(apply_filter_type)\n",
    "tmp_df_2"
   ]
  }
 ],
 "metadata": {
  "kernelspec": {
   "display_name": "torch2",
   "language": "python",
   "name": "python3"
  },
  "language_info": {
   "codemirror_mode": {
    "name": "ipython",
    "version": 3
   },
   "file_extension": ".py",
   "mimetype": "text/x-python",
   "name": "python",
   "nbconvert_exporter": "python",
   "pygments_lexer": "ipython3",
   "version": "3.11.2"
  },
  "orig_nbformat": 4
 },
 "nbformat": 4,
 "nbformat_minor": 2
}
