{
 "cells": [
  {
   "cell_type": "code",
   "execution_count": 18,
   "metadata": {},
   "outputs": [],
   "source": [
    "import numpy as np\n",
    "import pandas as pd"
   ]
  },
  {
   "cell_type": "code",
   "execution_count": 19,
   "metadata": {},
   "outputs": [],
   "source": [
    "df = pd.read_csv(\"../data/bangkok_traffy.csv\")"
   ]
  },
  {
   "cell_type": "code",
   "execution_count": 20,
   "metadata": {},
   "outputs": [],
   "source": [
    "df = df.drop(['ticket_id','organization','comment','photo','photo_after','address','star','count_reopen'],axis=1)"
   ]
  },
  {
   "cell_type": "code",
   "execution_count": 21,
   "metadata": {},
   "outputs": [],
   "source": [
    "df = df[df['province'].str.contains('กรุงเทพ|bangkok',na=False,case=False)]"
   ]
  },
  {
   "cell_type": "code",
   "execution_count": 22,
   "metadata": {},
   "outputs": [],
   "source": [
    "df['timestamp'] = pd.to_datetime(df['timestamp'], utc=True)\n",
    "df['last_activity'] = pd.to_datetime(df['last_activity'], utc=True)"
   ]
  },
  {
   "cell_type": "code",
   "execution_count": 23,
   "metadata": {},
   "outputs": [],
   "source": [
    "df['time'] = (df['last_activity'] - df['timestamp']).dt.days"
   ]
  },
  {
   "cell_type": "code",
   "execution_count": 24,
   "metadata": {},
   "outputs": [],
   "source": [
    "df = df.drop(['timestamp','last_activity'],axis=1)"
   ]
  },
  {
   "cell_type": "code",
   "execution_count": 25,
   "metadata": {},
   "outputs": [
    {
     "data": {
      "text/plain": [
       "''"
      ]
     },
     "execution_count": 25,
     "metadata": {},
     "output_type": "execute_result"
    }
   ],
   "source": [
    "df['type'].str.strip('{}').loc[0]"
   ]
  },
  {
   "cell_type": "code",
   "execution_count": 26,
   "metadata": {},
   "outputs": [],
   "source": [
    "df['type'].dropna(axis=0, inplace=True)"
   ]
  },
  {
   "cell_type": "code",
   "execution_count": 27,
   "metadata": {},
   "outputs": [],
   "source": [
    "df['type'].fillna('', inplace=True) \n",
    "df['type'] = df['type'].astype(str) "
   ]
  },
  {
   "cell_type": "code",
   "execution_count": 28,
   "metadata": {},
   "outputs": [
    {
     "data": {
      "text/plain": [
       "0                          {}\n",
       "1                 {ความสะอาด}\n",
       "2                     {สายไฟ}\n",
       "3                 {ถนน,สะพาน}\n",
       "4         {น้ำท่วม,ร้องเรียน}\n",
       "                 ...         \n",
       "274113            {ความสะอาด}\n",
       "274114             {ถนน,คลอง}\n",
       "274115                  {ถนน}\n",
       "274116                     {}\n",
       "274117                  {ถนน}\n",
       "Name: type, Length: 273117, dtype: object"
      ]
     },
     "execution_count": 28,
     "metadata": {},
     "output_type": "execute_result"
    }
   ],
   "source": [
    "df['type']"
   ]
  },
  {
   "cell_type": "code",
   "execution_count": 29,
   "metadata": {},
   "outputs": [],
   "source": [
    "df['type'] = df['type'].str.strip('{}').apply(lambda x :[e for e in x.split(',') if e])"
   ]
  },
  {
   "cell_type": "code",
   "execution_count": 30,
   "metadata": {},
   "outputs": [
    {
     "data": {
      "text/plain": [
       "[]"
      ]
     },
     "execution_count": 30,
     "metadata": {},
     "output_type": "execute_result"
    }
   ],
   "source": [
    "df.type.loc[0]"
   ]
  },
  {
   "cell_type": "code",
   "execution_count": 31,
   "metadata": {},
   "outputs": [
    {
     "data": {
      "text/html": [
       "<div>\n",
       "<style scoped>\n",
       "    .dataframe tbody tr th:only-of-type {\n",
       "        vertical-align: middle;\n",
       "    }\n",
       "\n",
       "    .dataframe tbody tr th {\n",
       "        vertical-align: top;\n",
       "    }\n",
       "\n",
       "    .dataframe thead th {\n",
       "        text-align: right;\n",
       "    }\n",
       "</style>\n",
       "<table border=\"1\" class=\"dataframe\">\n",
       "  <thead>\n",
       "    <tr style=\"text-align: right;\">\n",
       "      <th></th>\n",
       "      <th>type</th>\n",
       "      <th>coords</th>\n",
       "      <th>subdistrict</th>\n",
       "      <th>district</th>\n",
       "      <th>province</th>\n",
       "      <th>state</th>\n",
       "      <th>time</th>\n",
       "    </tr>\n",
       "  </thead>\n",
       "  <tbody>\n",
       "    <tr>\n",
       "      <th>0</th>\n",
       "      <td>[]</td>\n",
       "      <td>100.48661,13.79386</td>\n",
       "      <td>บางพลัด</td>\n",
       "      <td>บางพลัด</td>\n",
       "      <td>กรุงเทพมหานคร</td>\n",
       "      <td>กำลังดำเนินการ</td>\n",
       "      <td>173</td>\n",
       "    </tr>\n",
       "    <tr>\n",
       "      <th>1</th>\n",
       "      <td>[ความสะอาด]</td>\n",
       "      <td>100.53084,13.81865</td>\n",
       "      <td>NaN</td>\n",
       "      <td>NaN</td>\n",
       "      <td>กรุงเทพมหานคร</td>\n",
       "      <td>เสร็จสิ้น</td>\n",
       "      <td>274</td>\n",
       "    </tr>\n",
       "    <tr>\n",
       "      <th>2</th>\n",
       "      <td>[สายไฟ]</td>\n",
       "      <td>100.57685,13.79704</td>\n",
       "      <td>สามเสนนอก</td>\n",
       "      <td>ห้วยขวาง</td>\n",
       "      <td>จังหวัดกรุงเทพมหานคร</td>\n",
       "      <td>กำลังดำเนินการ</td>\n",
       "      <td>155</td>\n",
       "    </tr>\n",
       "    <tr>\n",
       "      <th>3</th>\n",
       "      <td>[ถนน, สะพาน]</td>\n",
       "      <td>100.52916,13.72338</td>\n",
       "      <td>สีลม</td>\n",
       "      <td>บางรัก</td>\n",
       "      <td>กรุงเทพมหานคร</td>\n",
       "      <td>กำลังดำเนินการ</td>\n",
       "      <td>155</td>\n",
       "    </tr>\n",
       "    <tr>\n",
       "      <th>4</th>\n",
       "      <td>[น้ำท่วม, ร้องเรียน]</td>\n",
       "      <td>100.66709,13.67891</td>\n",
       "      <td>หนองบอน</td>\n",
       "      <td>ประเวศ</td>\n",
       "      <td>กรุงเทพมหานคร</td>\n",
       "      <td>เสร็จสิ้น</td>\n",
       "      <td>274</td>\n",
       "    </tr>\n",
       "    <tr>\n",
       "      <th>...</th>\n",
       "      <td>...</td>\n",
       "      <td>...</td>\n",
       "      <td>...</td>\n",
       "      <td>...</td>\n",
       "      <td>...</td>\n",
       "      <td>...</td>\n",
       "      <td>...</td>\n",
       "    </tr>\n",
       "    <tr>\n",
       "      <th>274113</th>\n",
       "      <td>[ความสะอาด]</td>\n",
       "      <td>100.52425,13.72797</td>\n",
       "      <td>สี่พระยา</td>\n",
       "      <td>บางรัก</td>\n",
       "      <td>กรุงเทพมหานคร</td>\n",
       "      <td>รอรับเรื่อง</td>\n",
       "      <td>0</td>\n",
       "    </tr>\n",
       "    <tr>\n",
       "      <th>274114</th>\n",
       "      <td>[ถนน, คลอง]</td>\n",
       "      <td>100.61866,13.84957</td>\n",
       "      <td>อนุสาวรีย์</td>\n",
       "      <td>บางเขน</td>\n",
       "      <td>กรุงเทพมหานคร</td>\n",
       "      <td>รอรับเรื่อง</td>\n",
       "      <td>0</td>\n",
       "    </tr>\n",
       "    <tr>\n",
       "      <th>274115</th>\n",
       "      <td>[ถนน]</td>\n",
       "      <td>100.57906,13.84481</td>\n",
       "      <td>เสนานิคม</td>\n",
       "      <td>จตุจักร</td>\n",
       "      <td>กรุงเทพมหานคร</td>\n",
       "      <td>รอรับเรื่อง</td>\n",
       "      <td>0</td>\n",
       "    </tr>\n",
       "    <tr>\n",
       "      <th>274116</th>\n",
       "      <td>[]</td>\n",
       "      <td>100.39249,13.78405</td>\n",
       "      <td>ศาลาธรรมสพน์</td>\n",
       "      <td>ทวีวัฒนา</td>\n",
       "      <td>กรุงเทพมหานคร</td>\n",
       "      <td>รอรับเรื่อง</td>\n",
       "      <td>0</td>\n",
       "    </tr>\n",
       "    <tr>\n",
       "      <th>274117</th>\n",
       "      <td>[ถนน]</td>\n",
       "      <td>100.60214,13.69477</td>\n",
       "      <td>บางจาก</td>\n",
       "      <td>พระโขนง</td>\n",
       "      <td>กรุงเทพมหานคร</td>\n",
       "      <td>รอรับเรื่อง</td>\n",
       "      <td>-1</td>\n",
       "    </tr>\n",
       "  </tbody>\n",
       "</table>\n",
       "<p>273117 rows × 7 columns</p>\n",
       "</div>"
      ],
      "text/plain": [
       "                        type              coords   subdistrict  district   \n",
       "0                         []  100.48661,13.79386       บางพลัด   บางพลัด  \\\n",
       "1                [ความสะอาด]  100.53084,13.81865           NaN       NaN   \n",
       "2                    [สายไฟ]  100.57685,13.79704     สามเสนนอก  ห้วยขวาง   \n",
       "3               [ถนน, สะพาน]  100.52916,13.72338          สีลม    บางรัก   \n",
       "4       [น้ำท่วม, ร้องเรียน]  100.66709,13.67891       หนองบอน    ประเวศ   \n",
       "...                      ...                 ...           ...       ...   \n",
       "274113           [ความสะอาด]  100.52425,13.72797      สี่พระยา    บางรัก   \n",
       "274114           [ถนน, คลอง]  100.61866,13.84957    อนุสาวรีย์    บางเขน   \n",
       "274115                 [ถนน]  100.57906,13.84481      เสนานิคม   จตุจักร   \n",
       "274116                    []  100.39249,13.78405  ศาลาธรรมสพน์  ทวีวัฒนา   \n",
       "274117                 [ถนน]  100.60214,13.69477        บางจาก   พระโขนง   \n",
       "\n",
       "                    province           state  time  \n",
       "0              กรุงเทพมหานคร  กำลังดำเนินการ   173  \n",
       "1              กรุงเทพมหานคร       เสร็จสิ้น   274  \n",
       "2       จังหวัดกรุงเทพมหานคร  กำลังดำเนินการ   155  \n",
       "3              กรุงเทพมหานคร  กำลังดำเนินการ   155  \n",
       "4              กรุงเทพมหานคร       เสร็จสิ้น   274  \n",
       "...                      ...             ...   ...  \n",
       "274113         กรุงเทพมหานคร     รอรับเรื่อง     0  \n",
       "274114         กรุงเทพมหานคร     รอรับเรื่อง     0  \n",
       "274115         กรุงเทพมหานคร     รอรับเรื่อง     0  \n",
       "274116         กรุงเทพมหานคร     รอรับเรื่อง     0  \n",
       "274117         กรุงเทพมหานคร     รอรับเรื่อง    -1  \n",
       "\n",
       "[273117 rows x 7 columns]"
      ]
     },
     "execution_count": 31,
     "metadata": {},
     "output_type": "execute_result"
    }
   ],
   "source": [
    "df"
   ]
  },
  {
   "cell_type": "code",
   "execution_count": 32,
   "metadata": {},
   "outputs": [],
   "source": [
    "df[['longitude', 'latitude']] = df['coords'].str.split(',', expand=True)\n"
   ]
  },
  {
   "cell_type": "code",
   "execution_count": 33,
   "metadata": {},
   "outputs": [],
   "source": [
    "# pip install openpyxl\n"
   ]
  },
  {
   "cell_type": "code",
   "execution_count": 34,
   "metadata": {},
   "outputs": [],
   "source": [
    "df.to_excel('../data/output.xlsx', index=False)"
   ]
  }
 ],
 "metadata": {
  "kernelspec": {
   "display_name": "Python 3",
   "language": "python",
   "name": "python3"
  },
  "language_info": {
   "codemirror_mode": {
    "name": "ipython",
    "version": 3
   },
   "file_extension": ".py",
   "mimetype": "text/x-python",
   "name": "python",
   "nbconvert_exporter": "python",
   "pygments_lexer": "ipython3",
   "version": "3.11.2"
  },
  "orig_nbformat": 4
 },
 "nbformat": 4,
 "nbformat_minor": 2
}
