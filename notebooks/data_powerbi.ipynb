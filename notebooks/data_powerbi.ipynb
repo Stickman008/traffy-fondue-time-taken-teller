{
 "cells": [
  {
   "cell_type": "code",
   "execution_count": 44,
   "metadata": {},
   "outputs": [],
   "source": [
    "import numpy as np\n",
    "import pandas as pd"
   ]
  },
  {
   "cell_type": "code",
   "execution_count": 45,
   "metadata": {},
   "outputs": [],
   "source": [
    "df = pd.read_csv(\"../data/bangkok_traffy.csv\")"
   ]
  },
  {
   "cell_type": "code",
   "execution_count": 46,
   "metadata": {},
   "outputs": [],
   "source": [
    "df = df.drop(['ticket_id','organization','comment','photo','photo_after','address','star','count_reopen'],axis=1)"
   ]
  },
  {
   "cell_type": "code",
   "execution_count": 47,
   "metadata": {},
   "outputs": [],
   "source": [
    "df = df[df['province'].str.contains('กรุงเทพ|bangkok',na=False,case=False)]"
   ]
  },
  {
   "cell_type": "code",
   "execution_count": 48,
   "metadata": {},
   "outputs": [],
   "source": [
    "df['timestamp'] = pd.to_datetime(df['timestamp'], utc=True)\n",
    "df['last_activity'] = pd.to_datetime(df['last_activity'], utc=True)"
   ]
  },
  {
   "cell_type": "code",
   "execution_count": 49,
   "metadata": {},
   "outputs": [],
   "source": [
    "df['time'] = (df['last_activity'] - df['timestamp']).dt.days"
   ]
  },
  {
   "cell_type": "code",
   "execution_count": 50,
   "metadata": {},
   "outputs": [],
   "source": [
    "df = df.drop(['timestamp','last_activity'],axis=1)"
   ]
  },
  {
   "cell_type": "code",
   "execution_count": 51,
   "metadata": {},
   "outputs": [
    {
     "data": {
      "text/plain": [
       "''"
      ]
     },
     "execution_count": 51,
     "metadata": {},
     "output_type": "execute_result"
    }
   ],
   "source": [
    "df['type'].str.strip('{}').loc[0]"
   ]
  },
  {
   "cell_type": "code",
   "execution_count": 52,
   "metadata": {},
   "outputs": [],
   "source": [
    "df['type'].dropna(axis=0, inplace=True)"
   ]
  },
  {
   "cell_type": "code",
   "execution_count": 53,
   "metadata": {},
   "outputs": [],
   "source": [
    "df['type'].fillna('', inplace=True) \n",
    "df['type'] = df['type'].astype(str) "
   ]
  },
  {
   "cell_type": "code",
   "execution_count": 54,
   "metadata": {},
   "outputs": [
    {
     "data": {
      "text/plain": [
       "0                                      {}\n",
       "1                             {ความสะอาด}\n",
       "2                                 {สายไฟ}\n",
       "3                             {ถนน,สะพาน}\n",
       "4                     {น้ำท่วม,ร้องเรียน}\n",
       "                       ...               \n",
       "271211                    {กีดขวาง,จราจร}\n",
       "271212                       {สัตว์จรจัด}\n",
       "271213                           {ต้นไม้}\n",
       "271214                    {ความสะอาด,ถนน}\n",
       "271215    {ห้องน้ำ,ร้องเรียน,ความปลอดภัย}\n",
       "Name: type, Length: 270223, dtype: object"
      ]
     },
     "execution_count": 54,
     "metadata": {},
     "output_type": "execute_result"
    }
   ],
   "source": [
    "df['type']"
   ]
  },
  {
   "cell_type": "code",
   "execution_count": 60,
   "metadata": {},
   "outputs": [],
   "source": [
    "df['type'] = df['type'].str.strip('{}').apply(lambda x :[e for e in x.split(',') if e])"
   ]
  },
  {
   "cell_type": "code",
   "execution_count": 61,
   "metadata": {},
   "outputs": [
    {
     "data": {
      "text/plain": [
       "[]"
      ]
     },
     "execution_count": 61,
     "metadata": {},
     "output_type": "execute_result"
    }
   ],
   "source": [
    "df.type.loc[0]"
   ]
  },
  {
   "cell_type": "code",
   "execution_count": 62,
   "metadata": {},
   "outputs": [
    {
     "data": {
      "text/html": [
       "<div>\n",
       "<style scoped>\n",
       "    .dataframe tbody tr th:only-of-type {\n",
       "        vertical-align: middle;\n",
       "    }\n",
       "\n",
       "    .dataframe tbody tr th {\n",
       "        vertical-align: top;\n",
       "    }\n",
       "\n",
       "    .dataframe thead th {\n",
       "        text-align: right;\n",
       "    }\n",
       "</style>\n",
       "<table border=\"1\" class=\"dataframe\">\n",
       "  <thead>\n",
       "    <tr style=\"text-align: right;\">\n",
       "      <th></th>\n",
       "      <th>type</th>\n",
       "      <th>coords</th>\n",
       "      <th>subdistrict</th>\n",
       "      <th>district</th>\n",
       "      <th>province</th>\n",
       "      <th>state</th>\n",
       "      <th>time</th>\n",
       "    </tr>\n",
       "  </thead>\n",
       "  <tbody>\n",
       "    <tr>\n",
       "      <th>0</th>\n",
       "      <td>[]</td>\n",
       "      <td>100.48661,13.79386</td>\n",
       "      <td>บางพลัด</td>\n",
       "      <td>บางพลัด</td>\n",
       "      <td>กรุงเทพมหานคร</td>\n",
       "      <td>กำลังดำเนินการ</td>\n",
       "      <td>173</td>\n",
       "    </tr>\n",
       "    <tr>\n",
       "      <th>1</th>\n",
       "      <td>[ความสะอาด]</td>\n",
       "      <td>100.53084,13.81865</td>\n",
       "      <td>NaN</td>\n",
       "      <td>NaN</td>\n",
       "      <td>กรุงเทพมหานคร</td>\n",
       "      <td>เสร็จสิ้น</td>\n",
       "      <td>274</td>\n",
       "    </tr>\n",
       "    <tr>\n",
       "      <th>2</th>\n",
       "      <td>[สายไฟ]</td>\n",
       "      <td>100.57685,13.79704</td>\n",
       "      <td>สามเสนนอก</td>\n",
       "      <td>ห้วยขวาง</td>\n",
       "      <td>จังหวัดกรุงเทพมหานคร</td>\n",
       "      <td>กำลังดำเนินการ</td>\n",
       "      <td>155</td>\n",
       "    </tr>\n",
       "    <tr>\n",
       "      <th>3</th>\n",
       "      <td>[ถนน, สะพาน]</td>\n",
       "      <td>100.52916,13.72338</td>\n",
       "      <td>สีลม</td>\n",
       "      <td>บางรัก</td>\n",
       "      <td>กรุงเทพมหานคร</td>\n",
       "      <td>กำลังดำเนินการ</td>\n",
       "      <td>155</td>\n",
       "    </tr>\n",
       "    <tr>\n",
       "      <th>4</th>\n",
       "      <td>[น้ำท่วม, ร้องเรียน]</td>\n",
       "      <td>100.66709,13.67891</td>\n",
       "      <td>หนองบอน</td>\n",
       "      <td>ประเวศ</td>\n",
       "      <td>กรุงเทพมหานคร</td>\n",
       "      <td>เสร็จสิ้น</td>\n",
       "      <td>274</td>\n",
       "    </tr>\n",
       "    <tr>\n",
       "      <th>...</th>\n",
       "      <td>...</td>\n",
       "      <td>...</td>\n",
       "      <td>...</td>\n",
       "      <td>...</td>\n",
       "      <td>...</td>\n",
       "      <td>...</td>\n",
       "      <td>...</td>\n",
       "    </tr>\n",
       "    <tr>\n",
       "      <th>271211</th>\n",
       "      <td>[กีดขวาง, จราจร]</td>\n",
       "      <td>100.54537,13.73165</td>\n",
       "      <td>ลุมพินี</td>\n",
       "      <td>ปทุมวัน</td>\n",
       "      <td>กรุงเทพมหานคร</td>\n",
       "      <td>รอรับเรื่อง</td>\n",
       "      <td>-1</td>\n",
       "    </tr>\n",
       "    <tr>\n",
       "      <th>271212</th>\n",
       "      <td>[สัตว์จรจัด]</td>\n",
       "      <td>100.53825,13.77764</td>\n",
       "      <td>สามเสนใน</td>\n",
       "      <td>พญาไท</td>\n",
       "      <td>กรุงเทพมหานคร</td>\n",
       "      <td>รอรับเรื่อง</td>\n",
       "      <td>-1</td>\n",
       "    </tr>\n",
       "    <tr>\n",
       "      <th>271213</th>\n",
       "      <td>[ต้นไม้]</td>\n",
       "      <td>100.53265,13.76495</td>\n",
       "      <td>ทุ่งพญาไท</td>\n",
       "      <td>ราชเทวี</td>\n",
       "      <td>กรุงเทพมหานคร</td>\n",
       "      <td>รอรับเรื่อง</td>\n",
       "      <td>-1</td>\n",
       "    </tr>\n",
       "    <tr>\n",
       "      <th>271214</th>\n",
       "      <td>[ความสะอาด, ถนน]</td>\n",
       "      <td>100.35403,13.70887</td>\n",
       "      <td>หนองค้างพลู</td>\n",
       "      <td>หนองแขม</td>\n",
       "      <td>กรุงเทพมหานคร</td>\n",
       "      <td>รอรับเรื่อง</td>\n",
       "      <td>0</td>\n",
       "    </tr>\n",
       "    <tr>\n",
       "      <th>271215</th>\n",
       "      <td>[ห้องน้ำ, ร้องเรียน, ความปลอดภัย]</td>\n",
       "      <td>100.36183,13.72002</td>\n",
       "      <td>หนองค้างพลู</td>\n",
       "      <td>หนองแขม</td>\n",
       "      <td>กรุงเทพมหานคร</td>\n",
       "      <td>รอรับเรื่อง</td>\n",
       "      <td>-1</td>\n",
       "    </tr>\n",
       "  </tbody>\n",
       "</table>\n",
       "<p>270223 rows × 7 columns</p>\n",
       "</div>"
      ],
      "text/plain": [
       "                                     type              coords  subdistrict  \\\n",
       "0                                      []  100.48661,13.79386      บางพลัด   \n",
       "1                             [ความสะอาด]  100.53084,13.81865          NaN   \n",
       "2                                 [สายไฟ]  100.57685,13.79704    สามเสนนอก   \n",
       "3                            [ถนน, สะพาน]  100.52916,13.72338         สีลม   \n",
       "4                    [น้ำท่วม, ร้องเรียน]  100.66709,13.67891      หนองบอน   \n",
       "...                                   ...                 ...          ...   \n",
       "271211                   [กีดขวาง, จราจร]  100.54537,13.73165      ลุมพินี   \n",
       "271212                       [สัตว์จรจัด]  100.53825,13.77764     สามเสนใน   \n",
       "271213                           [ต้นไม้]  100.53265,13.76495    ทุ่งพญาไท   \n",
       "271214                   [ความสะอาด, ถนน]  100.35403,13.70887  หนองค้างพลู   \n",
       "271215  [ห้องน้ำ, ร้องเรียน, ความปลอดภัย]  100.36183,13.72002  หนองค้างพลู   \n",
       "\n",
       "        district              province           state  time  \n",
       "0        บางพลัด         กรุงเทพมหานคร  กำลังดำเนินการ   173  \n",
       "1            NaN         กรุงเทพมหานคร       เสร็จสิ้น   274  \n",
       "2       ห้วยขวาง  จังหวัดกรุงเทพมหานคร  กำลังดำเนินการ   155  \n",
       "3         บางรัก         กรุงเทพมหานคร  กำลังดำเนินการ   155  \n",
       "4         ประเวศ         กรุงเทพมหานคร       เสร็จสิ้น   274  \n",
       "...          ...                   ...             ...   ...  \n",
       "271211   ปทุมวัน         กรุงเทพมหานคร     รอรับเรื่อง    -1  \n",
       "271212     พญาไท         กรุงเทพมหานคร     รอรับเรื่อง    -1  \n",
       "271213   ราชเทวี         กรุงเทพมหานคร     รอรับเรื่อง    -1  \n",
       "271214   หนองแขม         กรุงเทพมหานคร     รอรับเรื่อง     0  \n",
       "271215   หนองแขม         กรุงเทพมหานคร     รอรับเรื่อง    -1  \n",
       "\n",
       "[270223 rows x 7 columns]"
      ]
     },
     "execution_count": 62,
     "metadata": {},
     "output_type": "execute_result"
    }
   ],
   "source": [
    "df"
   ]
  },
  {
   "cell_type": "code",
   "execution_count": 69,
   "metadata": {},
   "outputs": [],
   "source": [
    "df[['longitude', 'latitude']] = df['coords'].str.split(',', expand=True)\n"
   ]
  },
  {
   "cell_type": "code",
   "execution_count": 65,
   "metadata": {},
   "outputs": [
    {
     "name": "stdout",
     "output_type": "stream",
     "text": [
      "Collecting openpyxl\n",
      "  Downloading openpyxl-3.1.2-py2.py3-none-any.whl (249 kB)\n",
      "     ---------------------------------------- 0.0/250.0 kB ? eta -:--:--\n",
      "     ------------------------------------- 250.0/250.0 kB 16.0 MB/s eta 0:00:00\n",
      "Collecting et-xmlfile\n",
      "  Downloading et_xmlfile-1.1.0-py3-none-any.whl (4.7 kB)\n",
      "Installing collected packages: et-xmlfile, openpyxl\n",
      "Successfully installed et-xmlfile-1.1.0 openpyxl-3.1.2\n",
      "Note: you may need to restart the kernel to use updated packages.\n"
     ]
    },
    {
     "name": "stderr",
     "output_type": "stream",
     "text": [
      "\n",
      "[notice] A new release of pip is available: 23.0 -> 23.1.2\n",
      "[notice] To update, run: python.exe -m pip install --upgrade pip\n"
     ]
    }
   ],
   "source": [
    "pip install openpyxl\n"
   ]
  },
  {
   "cell_type": "code",
   "execution_count": 66,
   "metadata": {},
   "outputs": [],
   "source": [
    "df.to_excel('output.xlsx', index=False)"
   ]
  }
 ],
 "metadata": {
  "kernelspec": {
   "display_name": "Python 3",
   "language": "python",
   "name": "python3"
  },
  "language_info": {
   "codemirror_mode": {
    "name": "ipython",
    "version": 3
   },
   "file_extension": ".py",
   "mimetype": "text/x-python",
   "name": "python",
   "nbconvert_exporter": "python",
   "pygments_lexer": "ipython3",
   "version": "3.11.0"
  },
  "orig_nbformat": 4
 },
 "nbformat": 4,
 "nbformat_minor": 2
}
