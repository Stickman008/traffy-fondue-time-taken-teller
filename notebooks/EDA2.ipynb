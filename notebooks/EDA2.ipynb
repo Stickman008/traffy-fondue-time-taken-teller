{
 "cells": [
  {
   "cell_type": "code",
   "execution_count": 2,
   "metadata": {},
   "outputs": [],
   "source": [
    "import numpy as np\n",
    "import pandas as pd"
   ]
  },
  {
   "cell_type": "code",
   "execution_count": 3,
   "metadata": {},
   "outputs": [],
   "source": [
    "df = pd.read_csv(\"../data/bangkok_traffy.csv\")"
   ]
  },
  {
   "cell_type": "code",
   "execution_count": 4,
   "metadata": {},
   "outputs": [],
   "source": [
    "df = df.drop(['organization','comment','photo','photo_after','coords','address','star','count_reopen'],axis=1)"
   ]
  },
  {
   "cell_type": "code",
   "execution_count": 5,
   "metadata": {},
   "outputs": [
    {
     "data": {
      "text/html": [
       "<div>\n",
       "<style scoped>\n",
       "    .dataframe tbody tr th:only-of-type {\n",
       "        vertical-align: middle;\n",
       "    }\n",
       "\n",
       "    .dataframe tbody tr th {\n",
       "        vertical-align: top;\n",
       "    }\n",
       "\n",
       "    .dataframe thead th {\n",
       "        text-align: right;\n",
       "    }\n",
       "</style>\n",
       "<table border=\"1\" class=\"dataframe\">\n",
       "  <thead>\n",
       "    <tr style=\"text-align: right;\">\n",
       "      <th></th>\n",
       "      <th>ticket_id</th>\n",
       "      <th>type</th>\n",
       "      <th>subdistrict</th>\n",
       "      <th>district</th>\n",
       "      <th>province</th>\n",
       "      <th>timestamp</th>\n",
       "      <th>state</th>\n",
       "      <th>last_activity</th>\n",
       "    </tr>\n",
       "  </thead>\n",
       "  <tbody>\n",
       "    <tr>\n",
       "      <th>0</th>\n",
       "      <td>2021-9LHDM6</td>\n",
       "      <td>{}</td>\n",
       "      <td>บางพลัด</td>\n",
       "      <td>บางพลัด</td>\n",
       "      <td>กรุงเทพมหานคร</td>\n",
       "      <td>2021-09-01 10:44:55.353209+00</td>\n",
       "      <td>กำลังดำเนินการ</td>\n",
       "      <td>2022-02-22 04:59:58.622268+00</td>\n",
       "    </tr>\n",
       "    <tr>\n",
       "      <th>1</th>\n",
       "      <td>2021-FYJTFP</td>\n",
       "      <td>{ความสะอาด}</td>\n",
       "      <td>NaN</td>\n",
       "      <td>NaN</td>\n",
       "      <td>กรุงเทพมหานคร</td>\n",
       "      <td>2021-09-03 12:51:09.453003+00</td>\n",
       "      <td>เสร็จสิ้น</td>\n",
       "      <td>2022-06-04 15:34:14.609206+00</td>\n",
       "    </tr>\n",
       "    <tr>\n",
       "      <th>2</th>\n",
       "      <td>2021-8GKAR9</td>\n",
       "      <td>{สายไฟ}</td>\n",
       "      <td>สามเสนนอก</td>\n",
       "      <td>ห้วยขวาง</td>\n",
       "      <td>จังหวัดกรุงเทพมหานคร</td>\n",
       "      <td>2021-09-19 06:47:50.488685+00</td>\n",
       "      <td>กำลังดำเนินการ</td>\n",
       "      <td>2022-02-22 04:30:07.293416+00</td>\n",
       "    </tr>\n",
       "    <tr>\n",
       "      <th>3</th>\n",
       "      <td>2021-AFPUXZ</td>\n",
       "      <td>{ถนน,สะพาน}</td>\n",
       "      <td>สีลม</td>\n",
       "      <td>บางรัก</td>\n",
       "      <td>กรุงเทพมหานคร</td>\n",
       "      <td>2021-09-19 07:40:30.000781+00</td>\n",
       "      <td>กำลังดำเนินการ</td>\n",
       "      <td>2022-02-22 04:30:04.507406+00</td>\n",
       "    </tr>\n",
       "    <tr>\n",
       "      <th>4</th>\n",
       "      <td>2021-CGPMUN</td>\n",
       "      <td>{น้ำท่วม,ร้องเรียน}</td>\n",
       "      <td>หนองบอน</td>\n",
       "      <td>ประเวศ</td>\n",
       "      <td>กรุงเทพมหานคร</td>\n",
       "      <td>2021-09-19 14:56:08.924992+00</td>\n",
       "      <td>เสร็จสิ้น</td>\n",
       "      <td>2022-06-21 08:21:09.532782+00</td>\n",
       "    </tr>\n",
       "  </tbody>\n",
       "</table>\n",
       "</div>"
      ],
      "text/plain": [
       "     ticket_id                 type subdistrict  district  \\\n",
       "0  2021-9LHDM6                   {}     บางพลัด   บางพลัด   \n",
       "1  2021-FYJTFP          {ความสะอาด}         NaN       NaN   \n",
       "2  2021-8GKAR9              {สายไฟ}   สามเสนนอก  ห้วยขวาง   \n",
       "3  2021-AFPUXZ          {ถนน,สะพาน}        สีลม    บางรัก   \n",
       "4  2021-CGPMUN  {น้ำท่วม,ร้องเรียน}     หนองบอน    ประเวศ   \n",
       "\n",
       "               province                      timestamp           state  \\\n",
       "0         กรุงเทพมหานคร  2021-09-01 10:44:55.353209+00  กำลังดำเนินการ   \n",
       "1         กรุงเทพมหานคร  2021-09-03 12:51:09.453003+00       เสร็จสิ้น   \n",
       "2  จังหวัดกรุงเทพมหานคร  2021-09-19 06:47:50.488685+00  กำลังดำเนินการ   \n",
       "3         กรุงเทพมหานคร  2021-09-19 07:40:30.000781+00  กำลังดำเนินการ   \n",
       "4         กรุงเทพมหานคร  2021-09-19 14:56:08.924992+00       เสร็จสิ้น   \n",
       "\n",
       "                   last_activity  \n",
       "0  2022-02-22 04:59:58.622268+00  \n",
       "1  2022-06-04 15:34:14.609206+00  \n",
       "2  2022-02-22 04:30:07.293416+00  \n",
       "3  2022-02-22 04:30:04.507406+00  \n",
       "4  2022-06-21 08:21:09.532782+00  "
      ]
     },
     "execution_count": 5,
     "metadata": {},
     "output_type": "execute_result"
    }
   ],
   "source": [
    "df.head()"
   ]
  },
  {
   "cell_type": "code",
   "execution_count": 6,
   "metadata": {},
   "outputs": [
    {
     "data": {
      "text/plain": [
       "ticket_id        2658\n",
       "type               97\n",
       "subdistrict        72\n",
       "district           74\n",
       "province           25\n",
       "timestamp           0\n",
       "state               0\n",
       "last_activity       0\n",
       "dtype: int64"
      ]
     },
     "execution_count": 6,
     "metadata": {},
     "output_type": "execute_result"
    }
   ],
   "source": [
    "df.isna().sum()"
   ]
  },
  {
   "cell_type": "code",
   "execution_count": 7,
   "metadata": {},
   "outputs": [
    {
     "data": {
      "text/plain": [
       "array(['กรุงเทพมหานคร', 'จังหวัดกรุงเทพมหานคร', 'นนทบุรี', 'นครปฐม',\n",
       "       'ศรีสะเกษ', 'สมุทรปราการ', 'เชียงใหม่', 'ปทุมธานี', 'สมุทรสาคร',\n",
       "       'อ่างทอง', 'ชลบุรี', 'ภูเก็ต', 'ยะลา', 'ลำปาง', 'พระนครศรีอยุธยา',\n",
       "       'ตาก', 'อุบลราชธานี', 'ฉะเชิงเทรา', 'ขอนแก่น', 'นครศรีธรรมราช',\n",
       "       'เชียงราย', nan, 'จันทบุรี', 'สงขลา', 'นครราชสีมา', 'ปราจีนบุรี',\n",
       "       'กาฬสินธุ์', 'พิจิตร', 'อุตรดิตถ์', 'ราชบุรี', 'กาญจนบุรี',\n",
       "       'ชัยนาท', 'อุทัยธานี', 'สุพรรณบุรี', 'ลพบุรี', 'นครสวรรค์',\n",
       "       'นครนายก', 'สกลนคร', 'สตูล', 'อุดรธานี', 'เพชรบุรี', 'ตรัง',\n",
       "       'สุรินทร์', 'อำนาจเจริญ', 'บุรีรัมย์', 'สุโขทัย', 'สุราษฎร์ธานี',\n",
       "       'พิษณุโลก', 'มหาสารคาม', 'ร้อยเอ็ด', 'แพร่', 'สมุทรสงคราม',\n",
       "       'สิงห์บุรี', 'ลำพูน', 'ระยอง', 'ยโสธร', 'นครพนม', 'น่าน',\n",
       "       'หนองบัวลำภู', 'จังหวัดชลบุรี', 'จังหวัดจังหวัด กรุงเทพมหานคร',\n",
       "       'จังหวัดพระนครศรีอยุธยา', 'จังหวัดสมุทรปราการ', 'จังหวัดLac',\n",
       "       'จังหวัดฉะเชิงเทรา', 'จังหวัดนนทบุรี', 'จังหวัดBangkok',\n",
       "       'จังหวัดจังหวัดกรุงเทพมหานคร', 'ตราด', 'เพชรบูรณ์',\n",
       "       'ประจวบคีรีขันธ์', 'จังหวัดปทุมธานี', 'จังหวัดสมุทรสาคร',\n",
       "       'ปัตตานี', 'จังหวัดจ.ฉะเชิงเทรา', 'จังหวัดสระบุรี',\n",
       "       'จังหวัดประจวบคีรีขันธ์', 'สระบุรี', 'จังหวัดลพบุรี', 'พะเยา'],\n",
       "      dtype=object)"
      ]
     },
     "execution_count": 7,
     "metadata": {},
     "output_type": "execute_result"
    }
   ],
   "source": [
    "df['province'].unique()"
   ]
  },
  {
   "cell_type": "code",
   "execution_count": 8,
   "metadata": {},
   "outputs": [],
   "source": [
    "df = df[df['province'].str.contains('กรุงเทพ|bangkok',na=False,case=False)]"
   ]
  },
  {
   "cell_type": "code",
   "execution_count": 9,
   "metadata": {},
   "outputs": [],
   "source": [
    "# df[df['type']=='{}'].time.value_counts()"
   ]
  },
  {
   "cell_type": "code",
   "execution_count": 10,
   "metadata": {},
   "outputs": [],
   "source": [
    "df = df.dropna(subset=['subdistrict', 'district'] )"
   ]
  },
  {
   "cell_type": "code",
   "execution_count": 11,
   "metadata": {},
   "outputs": [
    {
     "data": {
      "text/plain": [
       "ticket_id        2633\n",
       "type               97\n",
       "subdistrict         0\n",
       "district            0\n",
       "province            0\n",
       "timestamp           0\n",
       "state               0\n",
       "last_activity       0\n",
       "dtype: int64"
      ]
     },
     "execution_count": 11,
     "metadata": {},
     "output_type": "execute_result"
    }
   ],
   "source": [
    "df.isna().sum()"
   ]
  },
  {
   "cell_type": "code",
   "execution_count": 12,
   "metadata": {},
   "outputs": [],
   "source": [
    "df = df[df['state'].str.contains('เสร็จ',na=False,case=False)]"
   ]
  },
  {
   "cell_type": "code",
   "execution_count": 13,
   "metadata": {},
   "outputs": [
    {
     "data": {
      "text/plain": [
       "array(['{น้ำท่วม,ร้องเรียน}', '{สะพาน}', '{น้ำท่วม,ถนน}', ...,\n",
       "       '{ถนน,จราจร,เสนอแนะ,ห้องน้ำ}',\n",
       "       '{คนจรจัด,ความสะอาด,กีดขวาง,ทางเท้า,ร้องเรียน}',\n",
       "       '{ถนน,ทางเท้า,PM2.5,ความปลอดภัย}'], dtype=object)"
      ]
     },
     "execution_count": 13,
     "metadata": {},
     "output_type": "execute_result"
    }
   ],
   "source": [
    "df.type.unique()"
   ]
  },
  {
   "cell_type": "code",
   "execution_count": 14,
   "metadata": {},
   "outputs": [
    {
     "data": {
      "text/plain": [
       "จตุจักร              10049\n",
       "ประเวศ                8858\n",
       "บางแค                 7816\n",
       "บางเขน                6872\n",
       "ลาดกระบัง             6615\n",
       "บางกะปิ               6555\n",
       "วัฒนา                 6406\n",
       "คลองเตย               6080\n",
       "สวนหลวง               5745\n",
       "บางขุนเทียน           5136\n",
       "บึงกุ่ม               4895\n",
       "บางซื่อ               4719\n",
       "ราชเทวี               4582\n",
       "ปทุมวัน               4567\n",
       "ดินแดง                4443\n",
       "บางกอกน้อย            4360\n",
       "ลาดพร้าว              4308\n",
       "สาทร                  4292\n",
       "บางรัก                4262\n",
       "วังทองหลาง            4217\n",
       "พญาไท                 4060\n",
       "ธนบุรี                3986\n",
       "บางนา                 3819\n",
       "สายไหม                3797\n",
       "พระนคร                3755\n",
       "คลองสามวา             3735\n",
       "มีนบุรี               3572\n",
       "ห้วยขวาง              3481\n",
       "บางพลัด               3434\n",
       "ภาษีเจริญ             3426\n",
       "สะพานสูง              3259\n",
       "หนองจอก               3255\n",
       "พระโขนง               3194\n",
       "หลักสี่               3188\n",
       "ดอนเมือง              3146\n",
       "จอมทอง                3145\n",
       "ตลิ่งชัน              2874\n",
       "ทุ่งครุ               2733\n",
       "หนองแขม               2732\n",
       "ป้อมปราบศัตรูพ่าย     2701\n",
       "ยานนาวา               2660\n",
       "บางคอแหลม             2475\n",
       "บางบอน                2432\n",
       "คลองสาน               2230\n",
       "ดุสิต                 2200\n",
       "ราษฎร์บูรณะ           2084\n",
       "คันนายาว              1974\n",
       "ทวีวัฒนา              1972\n",
       "บางกอกใหญ่            1598\n",
       "สัมพันธวงศ์           1079\n",
       "Name: district, dtype: int64"
      ]
     },
     "execution_count": 14,
     "metadata": {},
     "output_type": "execute_result"
    }
   ],
   "source": [
    "df.district.value_counts()"
   ]
  },
  {
   "cell_type": "code",
   "execution_count": 15,
   "metadata": {},
   "outputs": [
    {
     "data": {
      "text/html": [
       "<div>\n",
       "<style scoped>\n",
       "    .dataframe tbody tr th:only-of-type {\n",
       "        vertical-align: middle;\n",
       "    }\n",
       "\n",
       "    .dataframe tbody tr th {\n",
       "        vertical-align: top;\n",
       "    }\n",
       "\n",
       "    .dataframe thead th {\n",
       "        text-align: right;\n",
       "    }\n",
       "</style>\n",
       "<table border=\"1\" class=\"dataframe\">\n",
       "  <thead>\n",
       "    <tr style=\"text-align: right;\">\n",
       "      <th></th>\n",
       "      <th>subdistrict</th>\n",
       "      <th>district</th>\n",
       "    </tr>\n",
       "  </thead>\n",
       "  <tbody>\n",
       "    <tr>\n",
       "      <th>4</th>\n",
       "      <td>หนองบอน</td>\n",
       "      <td>ประเวศ</td>\n",
       "    </tr>\n",
       "    <tr>\n",
       "      <th>10</th>\n",
       "      <td>ยานนาวา</td>\n",
       "      <td>สาทร</td>\n",
       "    </tr>\n",
       "    <tr>\n",
       "      <th>25</th>\n",
       "      <td>ลาดพร้าว</td>\n",
       "      <td>ลาดพร้าว</td>\n",
       "    </tr>\n",
       "    <tr>\n",
       "      <th>64</th>\n",
       "      <td>ลาดพร้าว</td>\n",
       "      <td>ลาดพร้าว</td>\n",
       "    </tr>\n",
       "    <tr>\n",
       "      <th>102</th>\n",
       "      <td>ดุสิต</td>\n",
       "      <td>ดุสิต</td>\n",
       "    </tr>\n",
       "    <tr>\n",
       "      <th>...</th>\n",
       "      <td>...</td>\n",
       "      <td>...</td>\n",
       "    </tr>\n",
       "    <tr>\n",
       "      <th>270961</th>\n",
       "      <td>สีลม</td>\n",
       "      <td>บางรัก</td>\n",
       "    </tr>\n",
       "    <tr>\n",
       "      <th>270979</th>\n",
       "      <td>ทุ่งครุ</td>\n",
       "      <td>ทุ่งครุ</td>\n",
       "    </tr>\n",
       "    <tr>\n",
       "      <th>271016</th>\n",
       "      <td>ประเวศ</td>\n",
       "      <td>ประเวศ</td>\n",
       "    </tr>\n",
       "    <tr>\n",
       "      <th>271018</th>\n",
       "      <td>บางยี่ขัน</td>\n",
       "      <td>บางพลัด</td>\n",
       "    </tr>\n",
       "    <tr>\n",
       "      <th>271163</th>\n",
       "      <td>บางปะกอก</td>\n",
       "      <td>ราษฎร์บูรณะ</td>\n",
       "    </tr>\n",
       "  </tbody>\n",
       "</table>\n",
       "<p>202773 rows × 2 columns</p>\n",
       "</div>"
      ],
      "text/plain": [
       "       subdistrict     district\n",
       "4          หนองบอน       ประเวศ\n",
       "10         ยานนาวา         สาทร\n",
       "25        ลาดพร้าว     ลาดพร้าว\n",
       "64        ลาดพร้าว     ลาดพร้าว\n",
       "102          ดุสิต        ดุสิต\n",
       "...            ...          ...\n",
       "270961        สีลม       บางรัก\n",
       "270979     ทุ่งครุ      ทุ่งครุ\n",
       "271016      ประเวศ       ประเวศ\n",
       "271018   บางยี่ขัน      บางพลัด\n",
       "271163    บางปะกอก  ราษฎร์บูรณะ\n",
       "\n",
       "[202773 rows x 2 columns]"
      ]
     },
     "execution_count": 15,
     "metadata": {},
     "output_type": "execute_result"
    }
   ],
   "source": [
    "df[['subdistrict','district']]"
   ]
  },
  {
   "cell_type": "code",
   "execution_count": 16,
   "metadata": {},
   "outputs": [],
   "source": [
    "df['timestamp'] = pd.to_datetime(df['timestamp'], utc=True)\n",
    "df['last_activity'] = pd.to_datetime(df['last_activity'], utc=True)"
   ]
  },
  {
   "cell_type": "code",
   "execution_count": 17,
   "metadata": {},
   "outputs": [],
   "source": [
    "df['time'] =  (df['last_activity'] - df['timestamp']).dt.days"
   ]
  },
  {
   "cell_type": "code",
   "execution_count": 18,
   "metadata": {},
   "outputs": [],
   "source": [
    "type_con = df['type'].str.strip('{}').str.get_dummies(',')"
   ]
  },
  {
   "cell_type": "code",
   "execution_count": 19,
   "metadata": {},
   "outputs": [],
   "source": [
    "df = pd.concat([df,type_con],axis=1)"
   ]
  },
  {
   "cell_type": "code",
   "execution_count": 20,
   "metadata": {},
   "outputs": [],
   "source": [
    "district_hot =  pd.get_dummies(df['district'])"
   ]
  },
  {
   "cell_type": "code",
   "execution_count": 21,
   "metadata": {},
   "outputs": [],
   "source": [
    "df = pd.concat([df,district_hot],axis=1)"
   ]
  },
  {
   "cell_type": "code",
   "execution_count": 22,
   "metadata": {},
   "outputs": [],
   "source": [
    "df = df.drop(['ticket_id','type','subdistrict','district','province','timestamp','state','last_activity'],axis=1)"
   ]
  },
  {
   "cell_type": "code",
   "execution_count": 23,
   "metadata": {},
   "outputs": [
    {
     "data": {
      "text/html": [
       "<div>\n",
       "<style scoped>\n",
       "    .dataframe tbody tr th:only-of-type {\n",
       "        vertical-align: middle;\n",
       "    }\n",
       "\n",
       "    .dataframe tbody tr th {\n",
       "        vertical-align: top;\n",
       "    }\n",
       "\n",
       "    .dataframe thead th {\n",
       "        text-align: right;\n",
       "    }\n",
       "</style>\n",
       "<table border=\"1\" class=\"dataframe\">\n",
       "  <thead>\n",
       "    <tr style=\"text-align: right;\">\n",
       "      <th></th>\n",
       "      <th>time</th>\n",
       "    </tr>\n",
       "  </thead>\n",
       "  <tbody>\n",
       "    <tr>\n",
       "      <th>count</th>\n",
       "      <td>202773.000000</td>\n",
       "    </tr>\n",
       "    <tr>\n",
       "      <th>mean</th>\n",
       "      <td>43.205284</td>\n",
       "    </tr>\n",
       "    <tr>\n",
       "      <th>std</th>\n",
       "      <td>69.637659</td>\n",
       "    </tr>\n",
       "    <tr>\n",
       "      <th>min</th>\n",
       "      <td>0.000000</td>\n",
       "    </tr>\n",
       "    <tr>\n",
       "      <th>25%</th>\n",
       "      <td>1.000000</td>\n",
       "    </tr>\n",
       "    <tr>\n",
       "      <th>50%</th>\n",
       "      <td>8.000000</td>\n",
       "    </tr>\n",
       "    <tr>\n",
       "      <th>75%</th>\n",
       "      <td>52.000000</td>\n",
       "    </tr>\n",
       "    <tr>\n",
       "      <th>max</th>\n",
       "      <td>464.000000</td>\n",
       "    </tr>\n",
       "  </tbody>\n",
       "</table>\n",
       "</div>"
      ],
      "text/plain": [
       "                time\n",
       "count  202773.000000\n",
       "mean       43.205284\n",
       "std        69.637659\n",
       "min         0.000000\n",
       "25%         1.000000\n",
       "50%         8.000000\n",
       "75%        52.000000\n",
       "max       464.000000"
      ]
     },
     "execution_count": 23,
     "metadata": {},
     "output_type": "execute_result"
    }
   ],
   "source": [
    "df[['time']].describe()"
   ]
  },
  {
   "cell_type": "code",
   "execution_count": 24,
   "metadata": {},
   "outputs": [
    {
     "data": {
      "text/plain": [
       "<AxesSubplot:xlabel='time', ylabel='Density'>"
      ]
     },
     "execution_count": 24,
     "metadata": {},
     "output_type": "execute_result"
    },
    {
     "data": {
      "image/png": "[encoded data removed]",
      "text/plain": [
       "<Figure size 432x288 with 1 Axes>"
      ]
     },
     "metadata": {
      "needs_background": "light"
     },
     "output_type": "display_data"
    }
   ],
   "source": [
    "import seaborn as sns\n",
    "sns.kdeplot(data=df, x=\"time\")"
   ]
  },
  {
   "cell_type": "code",
   "execution_count": 25,
   "metadata": {},
   "outputs": [],
   "source": [
    "# Q1 = df['time'].quantile(0.25)\n",
    "# Q3 = df['time'].quantile(0.75)\n",
    "# IQR = Q3 - Q1\n",
    "# df = df.query('(@Q1 - 1.5 * @IQR) <= time <= (@Q3 + 1.5 * @IQR)')"
   ]
  },
  {
   "cell_type": "code",
   "execution_count": 26,
   "metadata": {},
   "outputs": [
    {
     "data": {
      "text/html": [
       "<div>\n",
       "<style scoped>\n",
       "    .dataframe tbody tr th:only-of-type {\n",
       "        vertical-align: middle;\n",
       "    }\n",
       "\n",
       "    .dataframe tbody tr th {\n",
       "        vertical-align: top;\n",
       "    }\n",
       "\n",
       "    .dataframe thead th {\n",
       "        text-align: right;\n",
       "    }\n",
       "</style>\n",
       "<table border=\"1\" class=\"dataframe\">\n",
       "  <thead>\n",
       "    <tr style=\"text-align: right;\">\n",
       "      <th></th>\n",
       "      <th>time</th>\n",
       "    </tr>\n",
       "  </thead>\n",
       "  <tbody>\n",
       "    <tr>\n",
       "      <th>count</th>\n",
       "      <td>202773.000000</td>\n",
       "    </tr>\n",
       "    <tr>\n",
       "      <th>mean</th>\n",
       "      <td>43.205284</td>\n",
       "    </tr>\n",
       "    <tr>\n",
       "      <th>std</th>\n",
       "      <td>69.637659</td>\n",
       "    </tr>\n",
       "    <tr>\n",
       "      <th>min</th>\n",
       "      <td>0.000000</td>\n",
       "    </tr>\n",
       "    <tr>\n",
       "      <th>25%</th>\n",
       "      <td>1.000000</td>\n",
       "    </tr>\n",
       "    <tr>\n",
       "      <th>50%</th>\n",
       "      <td>8.000000</td>\n",
       "    </tr>\n",
       "    <tr>\n",
       "      <th>75%</th>\n",
       "      <td>52.000000</td>\n",
       "    </tr>\n",
       "    <tr>\n",
       "      <th>max</th>\n",
       "      <td>464.000000</td>\n",
       "    </tr>\n",
       "  </tbody>\n",
       "</table>\n",
       "</div>"
      ],
      "text/plain": [
       "                time\n",
       "count  202773.000000\n",
       "mean       43.205284\n",
       "std        69.637659\n",
       "min         0.000000\n",
       "25%         1.000000\n",
       "50%         8.000000\n",
       "75%        52.000000\n",
       "max       464.000000"
      ]
     },
     "execution_count": 26,
     "metadata": {},
     "output_type": "execute_result"
    }
   ],
   "source": [
    "df[['time']].describe()"
   ]
  },
  {
   "cell_type": "code",
   "execution_count": 27,
   "metadata": {},
   "outputs": [
    {
     "data": {
      "text/plain": [
       "<AxesSubplot:xlabel='time', ylabel='Density'>"
      ]
     },
     "execution_count": 27,
     "metadata": {},
     "output_type": "execute_result"
    },
    {
     "data": {
      "image/png": "[encoded data removed]",
      "text/plain": [
       "<Figure size 432x288 with 1 Axes>"
      ]
     },
     "metadata": {
      "needs_background": "light"
     },
     "output_type": "display_data"
    }
   ],
   "source": [
    "sns.kdeplot(data=df, x=\"time\")"
   ]
  },
  {
   "cell_type": "code",
   "execution_count": 44,
   "metadata": {},
   "outputs": [],
   "source": [
    "df.loc[df['time'].between(0, 0, 'both'), 'time_class'] = 'same day'\n",
    "df.loc[df['time'].between(0, 1, 'right'), 'time_class'] = '1 day'\n",
    "df.loc[df['time'].between(1, 3, 'right'), 'time_class'] = '3 days'\n",
    "df.loc[df['time'].between(3, 7, 'right'), 'time_class'] = '1 week'\n",
    "df.loc[df['time'].between(7, 15, 'right'), 'time_class'] = 'half month'\n",
    "df.loc[df['time'].between(15, 30, 'right'), 'time_class'] = '1 month'\n",
    "df.loc[df['time'].between(30, 60, 'right'), 'time_class'] = '2 month'\n",
    "df.loc[df['time'].between(60, 90, 'right'), 'time_class'] = '3 month'\n",
    "df.loc[df['time'].between(90, 120, 'right'), 'time_class'] = '4 month'\n",
    "df.loc[df['time'].between(120, 500, 'right'), 'time_class'] = 'other'"
   ]
  },
  {
   "cell_type": "code",
   "execution_count": 45,
   "metadata": {},
   "outputs": [
    {
     "data": {
      "text/html": [
       "<div>\n",
       "<style scoped>\n",
       "    .dataframe tbody tr th:only-of-type {\n",
       "        vertical-align: middle;\n",
       "    }\n",
       "\n",
       "    .dataframe tbody tr th {\n",
       "        vertical-align: top;\n",
       "    }\n",
       "\n",
       "    .dataframe thead th {\n",
       "        text-align: right;\n",
       "    }\n",
       "</style>\n",
       "<table border=\"1\" class=\"dataframe\">\n",
       "  <thead>\n",
       "    <tr style=\"text-align: right;\">\n",
       "      <th></th>\n",
       "      <th>time_class</th>\n",
       "    </tr>\n",
       "  </thead>\n",
       "  <tbody>\n",
       "    <tr>\n",
       "      <th>4</th>\n",
       "      <td>other</td>\n",
       "    </tr>\n",
       "    <tr>\n",
       "      <th>10</th>\n",
       "      <td>other</td>\n",
       "    </tr>\n",
       "    <tr>\n",
       "      <th>25</th>\n",
       "      <td>other</td>\n",
       "    </tr>\n",
       "    <tr>\n",
       "      <th>64</th>\n",
       "      <td>other</td>\n",
       "    </tr>\n",
       "    <tr>\n",
       "      <th>102</th>\n",
       "      <td>other</td>\n",
       "    </tr>\n",
       "    <tr>\n",
       "      <th>...</th>\n",
       "      <td>...</td>\n",
       "    </tr>\n",
       "    <tr>\n",
       "      <th>270961</th>\n",
       "      <td>same day</td>\n",
       "    </tr>\n",
       "    <tr>\n",
       "      <th>270979</th>\n",
       "      <td>same day</td>\n",
       "    </tr>\n",
       "    <tr>\n",
       "      <th>271016</th>\n",
       "      <td>same day</td>\n",
       "    </tr>\n",
       "    <tr>\n",
       "      <th>271018</th>\n",
       "      <td>same day</td>\n",
       "    </tr>\n",
       "    <tr>\n",
       "      <th>271163</th>\n",
       "      <td>same day</td>\n",
       "    </tr>\n",
       "  </tbody>\n",
       "</table>\n",
       "<p>202773 rows × 1 columns</p>\n",
       "</div>"
      ],
      "text/plain": [
       "       time_class\n",
       "4           other\n",
       "10          other\n",
       "25          other\n",
       "64          other\n",
       "102         other\n",
       "...           ...\n",
       "270961   same day\n",
       "270979   same day\n",
       "271016   same day\n",
       "271018   same day\n",
       "271163   same day\n",
       "\n",
       "[202773 rows x 1 columns]"
      ]
     },
     "execution_count": 45,
     "metadata": {},
     "output_type": "execute_result"
    }
   ],
   "source": [
    "df[['time_class']]"
   ]
  },
  {
   "cell_type": "code",
   "execution_count": 46,
   "metadata": {},
   "outputs": [
    {
     "data": {
      "text/plain": [
       "same day      33827\n",
       "other         27538\n",
       "1 week        24133\n",
       "3 days        22483\n",
       "half month    20707\n",
       "1 day         19806\n",
       "2 month       17763\n",
       "1 month       17456\n",
       "3 month       11568\n",
       "4 month        7492\n",
       "Name: time_class, dtype: int64"
      ]
     },
     "execution_count": 46,
     "metadata": {},
     "output_type": "execute_result"
    }
   ],
   "source": [
    "df.time_class.value_counts()"
   ]
  },
  {
   "cell_type": "code",
   "execution_count": 47,
   "metadata": {},
   "outputs": [
    {
     "data": {
      "text/plain": [
       "<AxesSubplot:>"
      ]
     },
     "execution_count": 47,
     "metadata": {},
     "output_type": "execute_result"
    },
    {
     "data": {
      "image/png": "[encoded data removed]",
      "text/plain": [
       "<Figure size 432x288 with 1 Axes>"
      ]
     },
     "metadata": {
      "needs_background": "light"
     },
     "output_type": "display_data"
    }
   ],
   "source": [
    "df['time_class'].value_counts().plot(kind='barh')\n"
   ]
  },
  {
   "cell_type": "code",
   "execution_count": null,
   "metadata": {},
   "outputs": [],
   "source": []
  }
 ],
 "metadata": {
  "kernelspec": {
   "display_name": "torch2",
   "language": "python",
   "name": "python3"
  },
  "language_info": {
   "codemirror_mode": {
    "name": "ipython",
    "version": 3
   },
   "file_extension": ".py",
   "mimetype": "text/x-python",
   "name": "python",
   "nbconvert_exporter": "python",
   "pygments_lexer": "ipython3",
   "version": "3.9.7"
  },
  "orig_nbformat": 4
 },
 "nbformat": 4,
 "nbformat_minor": 2
}
