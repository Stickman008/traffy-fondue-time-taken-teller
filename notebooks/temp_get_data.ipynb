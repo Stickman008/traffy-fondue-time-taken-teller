{
 "cells": [
  {
   "cell_type": "code",
   "execution_count": 1,
   "metadata": {},
   "outputs": [
    {
     "ename": "FileNotFoundError",
     "evalue": "[Errno 2] No such file or directory: 'data/bangkok_traffy.csv'",
     "output_type": "error",
     "traceback": [
      "\u001b[0;31m---------------------------------------------------------------------------\u001b[0m",
      "\u001b[0;31mFileNotFoundError\u001b[0m                         Traceback (most recent call last)",
      "\u001b[1;32m/Users/podeiei/Documents/code/datasci_proj/traffy-fondue-time-taken-teller/notebooks/temp_get_data.ipynb Cell 1\u001b[0m in \u001b[0;36m<cell line: 6>\u001b[0;34m()\u001b[0m\n\u001b[1;32m      <a href='vscode-notebook-cell:/Users/podeiei/Documents/code/datasci_proj/traffy-fondue-time-taken-teller/notebooks/temp_get_data.ipynb#W0sZmlsZQ%3D%3D?line=3'>4</a>\u001b[0m response \u001b[39m=\u001b[39m requests\u001b[39m.\u001b[39mget(url)\n\u001b[1;32m      <a href='vscode-notebook-cell:/Users/podeiei/Documents/code/datasci_proj/traffy-fondue-time-taken-teller/notebooks/temp_get_data.ipynb#W0sZmlsZQ%3D%3D?line=5'>6</a>\u001b[0m \u001b[39mif\u001b[39;00m response\u001b[39m.\u001b[39mstatus_code \u001b[39m==\u001b[39m \u001b[39m200\u001b[39m:\n\u001b[0;32m----> <a href='vscode-notebook-cell:/Users/podeiei/Documents/code/datasci_proj/traffy-fondue-time-taken-teller/notebooks/temp_get_data.ipynb#W0sZmlsZQ%3D%3D?line=6'>7</a>\u001b[0m     \u001b[39mwith\u001b[39;00m \u001b[39mopen\u001b[39;49m(\u001b[39m\"\u001b[39;49m\u001b[39mdata/bangkok_traffy.csv\u001b[39;49m\u001b[39m\"\u001b[39;49m, \u001b[39m\"\u001b[39;49m\u001b[39mwb\u001b[39;49m\u001b[39m\"\u001b[39;49m) \u001b[39mas\u001b[39;00m f:\n\u001b[1;32m      <a href='vscode-notebook-cell:/Users/podeiei/Documents/code/datasci_proj/traffy-fondue-time-taken-teller/notebooks/temp_get_data.ipynb#W0sZmlsZQ%3D%3D?line=7'>8</a>\u001b[0m         f\u001b[39m.\u001b[39mwrite(response\u001b[39m.\u001b[39mcontent)\n\u001b[1;32m      <a href='vscode-notebook-cell:/Users/podeiei/Documents/code/datasci_proj/traffy-fondue-time-taken-teller/notebooks/temp_get_data.ipynb#W0sZmlsZQ%3D%3D?line=8'>9</a>\u001b[0m     \u001b[39mprint\u001b[39m(\u001b[39m\"\u001b[39m\u001b[39mData downloaded successfully.\u001b[39m\u001b[39m\"\u001b[39m)\n",
      "\u001b[0;31mFileNotFoundError\u001b[0m: [Errno 2] No such file or directory: 'data/bangkok_traffy.csv'"
     ]
    }
   ],
   "source": [
    "import requests\n",
    "\n",
    "url = \"https://publicapi.traffy.in.th/dump-csv-chadchart/bangkok_traffy.csv\"\n",
    "response = requests.get(url)\n",
    "\n",
    "if response.status_code == 200:\n",
    "    with open(\"data/bangkok_traffy.csv\", \"wb\") as f:\n",
    "        f.write(response.content)\n",
    "    print(\"Data downloaded successfully.\")\n",
    "else:\n",
    "    print(f\"Failed to download data. Status code: {response.status_code}\")\n"
   ]
  }
 ],
 "metadata": {
  "kernelspec": {
   "display_name": "torch2",
   "language": "python",
   "name": "python3"
  },
  "language_info": {
   "codemirror_mode": {
    "name": "ipython",
    "version": 3
   },
   "file_extension": ".py",
   "mimetype": "text/x-python",
   "name": "python",
   "nbconvert_exporter": "python",
   "pygments_lexer": "ipython3",
   "version": "3.10.5"
  },
  "orig_nbformat": 4
 },
 "nbformat": 4,
 "nbformat_minor": 2
}
