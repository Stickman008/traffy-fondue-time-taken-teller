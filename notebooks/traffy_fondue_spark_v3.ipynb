{
  "nbformat": 4,
  "nbformat_minor": 0,
  "metadata": {
    "colab": {
      "provenance": []
    },
    "kernelspec": {
      "name": "python3",
      "display_name": "Python 3"
    },
    "language_info": {
      "name": "python"
    }
  },
  "cells": [
    {
      "cell_type": "code",
      "source": [
        "# !gdown 1uNAYBPerV6IaiWXLPF4Efkxb4Gg-U4Cz\n",
        "!gdown 1uBvcov6itBsoW5fX-hiF_EZrD7QeOi8z"
      ],
      "metadata": {
        "colab": {
          "base_uri": "https://localhost:8080/"
        },
        "id": "s-TO1bftAQs5",
        "outputId": "f7724345-d344-4f6f-a57b-e56418346819"
      },
      "execution_count": 1,
      "outputs": [
        {
          "output_type": "stream",
          "name": "stdout",
          "text": [
            "Downloading...\n",
            "From: https://drive.google.com/uc?id=1uBvcov6itBsoW5fX-hiF_EZrD7QeOi8z\n",
            "To: /content/imputed_type_bangkok_traffy.csv\n",
            "100% 358M/358M [00:01<00:00, 180MB/s]\n"
          ]
        }
      ]
    },
    {
      "cell_type": "code",
      "execution_count": 2,
      "metadata": {
        "id": "fl3Vt5VmgLwq"
      },
      "outputs": [],
      "source": [
        "try:\n",
        "  import google.colab\n",
        "  IN_COLAB = True\n",
        "except:\n",
        "  IN_COLAB = False"
      ]
    },
    {
      "cell_type": "code",
      "source": [
        "if IN_COLAB:\n",
        "    !apt-get install openjdk-8-jdk-headless -qq > /dev/null\n",
        "    !wget -q https://dlcdn.apache.org/spark/spark-3.3.2/spark-3.3.2-bin-hadoop3.tgz\n",
        "    !tar xf spark-3.3.2-bin-hadoop3.tgz\n",
        "    !mv spark-3.3.2-bin-hadoop3 spark\n",
        "    !pip install -q findspark\n",
        "    import os\n",
        "    os.environ[\"JAVA_HOME\"] = \"/usr/lib/jvm/java-8-openjdk-amd64\"\n",
        "    os.environ[\"SPARK_HOME\"] = \"/content/spark\""
      ],
      "metadata": {
        "id": "AUkD9aFIiLBY",
        "colab": {
          "base_uri": "https://localhost:8080/"
        },
        "outputId": "30be1e24-6ed8-4a24-f9c6-01cbdf509acf"
      },
      "execution_count": 3,
      "outputs": [
        {
          "output_type": "stream",
          "name": "stdout",
          "text": [
            "mv: cannot move 'spark-3.3.2-bin-hadoop3' to 'spark/spark-3.3.2-bin-hadoop3': Directory not empty\n"
          ]
        }
      ]
    },
    {
      "cell_type": "code",
      "source": [
        "import findspark\n",
        "findspark.init()"
      ],
      "metadata": {
        "id": "KX6gMQ6tBG-P"
      },
      "execution_count": 4,
      "outputs": []
    },
    {
      "cell_type": "code",
      "source": [
        "spark_url = 'local'"
      ],
      "metadata": {
        "id": "XsAyphMiBH5w"
      },
      "execution_count": 5,
      "outputs": []
    },
    {
      "cell_type": "code",
      "source": [
        "from pyspark.sql import SparkSession\n",
        "from pyspark.sql import SQLContext\n",
        "\n",
        "spark = SparkSession.builder\\\n",
        "        .master(spark_url)\\\n",
        "        .appName('time-taken-teller')\\\n",
        "        .config('spark.ui.port', '4040')\\\n",
        "        .getOrCreate()"
      ],
      "metadata": {
        "id": "03_dzgDqiMgv"
      },
      "execution_count": 6,
      "outputs": []
    },
    {
      "cell_type": "code",
      "source": [
        "from pyspark.sql import SparkSession\n",
        "from pyspark.sql.functions import col"
      ],
      "metadata": {
        "id": "0fdqyNUIiRZT"
      },
      "execution_count": 7,
      "outputs": []
    },
    {
      "cell_type": "code",
      "source": [
        "spark = SparkSession.builder\\\n",
        "        .master(spark_url)\\\n",
        "        .appName('time-taken-teller')\\\n",
        "        .getOrCreate()"
      ],
      "metadata": {
        "id": "cKqo-RTyiSou"
      },
      "execution_count": 8,
      "outputs": []
    },
    {
      "cell_type": "code",
      "source": [
        "path = 'imputed_type_bangkok_traffy.csv'\n",
        "df = spark.read.csv(path, header=True, inferSchema=True,multiLine = True,escape=\"\\\"\",sep=\",\",encoding='utf-8')\n"
      ],
      "metadata": {
        "id": "ndnzcUjViT1u"
      },
      "execution_count": 9,
      "outputs": []
    },
    {
      "cell_type": "code",
      "source": [
        "df.filter(col('type').isNull()).count()"
      ],
      "metadata": {
        "colab": {
          "base_uri": "https://localhost:8080/"
        },
        "id": "1eHNoqiwngbI",
        "outputId": "7766afa8-4870-479b-99ac-aa115addb06e"
      },
      "execution_count": 10,
      "outputs": [
        {
          "output_type": "execute_result",
          "data": {
            "text/plain": [
              "97"
            ]
          },
          "metadata": {},
          "execution_count": 10
        }
      ]
    },
    {
      "cell_type": "code",
      "source": [
        "df = df.dropna(subset=['type'])"
      ],
      "metadata": {
        "id": "PU8S3Cwontyy"
      },
      "execution_count": 11,
      "outputs": []
    },
    {
      "cell_type": "code",
      "source": [
        "df"
      ],
      "metadata": {
        "colab": {
          "base_uri": "https://localhost:8080/"
        },
        "id": "OfgjR65TAJXz",
        "outputId": "3440067c-c51c-42dc-f7c6-df684cfe5b2a"
      },
      "execution_count": 12,
      "outputs": [
        {
          "output_type": "execute_result",
          "data": {
            "text/plain": [
              "DataFrame[_c0: int, ticket_id: string, type: string, organization: string, comment: string, photo: string, photo_after: string, coords: string, address: string, subdistrict: string, district: string, province: string, timestamp: timestamp, state: string, star: double, count_reopen: double, last_activity: timestamp]"
            ]
          },
          "metadata": {},
          "execution_count": 12
        }
      ]
    },
    {
      "cell_type": "code",
      "source": [
        "# columns_to_drop = ['photo', 'photo_after', 'address', 'star']\n",
        "columns_to_drop = ['ticket_id', 'organization','comment','photo','photo_after','coords','address','star','count_reopen']\n",
        "df = df.drop(*columns_to_drop)"
      ],
      "metadata": {
        "id": "mqfJL2nwDQWF"
      },
      "execution_count": 13,
      "outputs": []
    },
    {
      "cell_type": "code",
      "source": [
        "df.show(5)"
      ],
      "metadata": {
        "colab": {
          "base_uri": "https://localhost:8080/"
        },
        "id": "POdPXRegBhDt",
        "outputId": "e94a973c-1536-4c86-ef6c-47e447dccf9f"
      },
      "execution_count": 14,
      "outputs": [
        {
          "output_type": "stream",
          "name": "stdout",
          "text": [
            "+---+-------------------+-----------+--------+--------------------+--------------------+--------------+--------------------+\n",
            "|_c0|               type|subdistrict|district|            province|           timestamp|         state|       last_activity|\n",
            "+---+-------------------+-----------+--------+--------------------+--------------------+--------------+--------------------+\n",
            "|  0|         {แสงสว่าง}|    บางพลัด| บางพลัด|       กรุงเทพมหานคร|2021-09-01 10:44:...|กำลังดำเนินการ|2022-02-22 04:59:...|\n",
            "|  1|        {ความสะอาด}|       null|    null|       กรุงเทพมหานคร|2021-09-03 12:51:...|     เสร็จสิ้น|2022-06-04 15:34:...|\n",
            "|  2|            {สายไฟ}|  สามเสนนอก|ห้วยขวาง|จังหวัดกรุงเทพมหานคร|2021-09-19 06:47:...|กำลังดำเนินการ|2022-02-22 04:30:...|\n",
            "|  3|        {ถนน,สะพาน}|       สีลม|  บางรัก|       กรุงเทพมหานคร|2021-09-19 07:40:...|กำลังดำเนินการ|2022-02-22 04:30:...|\n",
            "|  4|{น้ำท่วม,ร้องเรียน}|    หนองบอน|  ประเวศ|       กรุงเทพมหานคร|2021-09-19 14:56:...|     เสร็จสิ้น|2022-06-21 08:21:...|\n",
            "+---+-------------------+-----------+--------+--------------------+--------------------+--------------+--------------------+\n",
            "only showing top 5 rows\n",
            "\n"
          ]
        }
      ]
    },
    {
      "cell_type": "code",
      "source": [
        "from pyspark.sql.functions import avg, min, max, countDistinct, split, explode\n",
        "from pyspark.sql.functions import col\n",
        "from pyspark.sql.types import ArrayType, StringType\n",
        "from pyspark.sql.functions import col, udf"
      ],
      "metadata": {
        "id": "6du1T_8wBmTu"
      },
      "execution_count": 15,
      "outputs": []
    },
    {
      "cell_type": "code",
      "source": [
        "df.show(5), df.count()"
      ],
      "metadata": {
        "colab": {
          "base_uri": "https://localhost:8080/"
        },
        "id": "P40q7ClLCOVV",
        "outputId": "9fafbce2-0603-4d34-f9dc-88b74556ca4d"
      },
      "execution_count": 16,
      "outputs": [
        {
          "output_type": "stream",
          "name": "stdout",
          "text": [
            "+---+-------------------+-----------+--------+--------------------+--------------------+--------------+--------------------+\n",
            "|_c0|               type|subdistrict|district|            province|           timestamp|         state|       last_activity|\n",
            "+---+-------------------+-----------+--------+--------------------+--------------------+--------------+--------------------+\n",
            "|  0|         {แสงสว่าง}|    บางพลัด| บางพลัด|       กรุงเทพมหานคร|2021-09-01 10:44:...|กำลังดำเนินการ|2022-02-22 04:59:...|\n",
            "|  1|        {ความสะอาด}|       null|    null|       กรุงเทพมหานคร|2021-09-03 12:51:...|     เสร็จสิ้น|2022-06-04 15:34:...|\n",
            "|  2|            {สายไฟ}|  สามเสนนอก|ห้วยขวาง|จังหวัดกรุงเทพมหานคร|2021-09-19 06:47:...|กำลังดำเนินการ|2022-02-22 04:30:...|\n",
            "|  3|        {ถนน,สะพาน}|       สีลม|  บางรัก|       กรุงเทพมหานคร|2021-09-19 07:40:...|กำลังดำเนินการ|2022-02-22 04:30:...|\n",
            "|  4|{น้ำท่วม,ร้องเรียน}|    หนองบอน|  ประเวศ|       กรุงเทพมหานคร|2021-09-19 14:56:...|     เสร็จสิ้น|2022-06-21 08:21:...|\n",
            "+---+-------------------+-----------+--------+--------------------+--------------------+--------------+--------------------+\n",
            "only showing top 5 rows\n",
            "\n"
          ]
        },
        {
          "output_type": "execute_result",
          "data": {
            "text/plain": [
              "(None, 269828)"
            ]
          },
          "metadata": {},
          "execution_count": 16
        }
      ]
    },
    {
      "cell_type": "code",
      "source": [
        "df = df.filter((col('province').rlike('กรุงเทพ|bangkok')) & (col('province').isNotNull()))\n",
        "df = df.drop(*['province'])"
      ],
      "metadata": {
        "id": "U68pITnbBvBY"
      },
      "execution_count": 17,
      "outputs": []
    },
    {
      "cell_type": "code",
      "source": [
        "# df.show(5), df.count()"
      ],
      "metadata": {
        "id": "evRDp6P-B9o7"
      },
      "execution_count": 18,
      "outputs": []
    },
    {
      "cell_type": "code",
      "source": [
        "df = df.dropna(subset=['subdistrict', 'district'])\n",
        "df.show(5), df.count()"
      ],
      "metadata": {
        "colab": {
          "base_uri": "https://localhost:8080/"
        },
        "id": "85zAxYBRMNcE",
        "outputId": "f6fccb1e-4ea8-44f9-9338-4e11d455899f"
      },
      "execution_count": 19,
      "outputs": [
        {
          "output_type": "stream",
          "name": "stdout",
          "text": [
            "+---+--------------------+-----------+---------+--------------------+--------------+--------------------+\n",
            "|_c0|                type|subdistrict| district|           timestamp|         state|       last_activity|\n",
            "+---+--------------------+-----------+---------+--------------------+--------------+--------------------+\n",
            "|  0|          {แสงสว่าง}|    บางพลัด|  บางพลัด|2021-09-01 10:44:...|กำลังดำเนินการ|2022-02-22 04:59:...|\n",
            "|  2|             {สายไฟ}|  สามเสนนอก| ห้วยขวาง|2021-09-19 06:47:...|กำลังดำเนินการ|2022-02-22 04:30:...|\n",
            "|  3|         {ถนน,สะพาน}|       สีลม|   บางรัก|2021-09-19 07:40:...|กำลังดำเนินการ|2022-02-22 04:30:...|\n",
            "|  4| {น้ำท่วม,ร้องเรียน}|    หนองบอน|   ประเวศ|2021-09-19 14:56:...|     เสร็จสิ้น|2022-06-21 08:21:...|\n",
            "|  5|{ถนน,ร้องเรียน,น้...|     ขุมทอง|ลาดกระบัง|2021-09-20 00:24:...|กำลังดำเนินการ|2022-02-22 04:29:...|\n",
            "+---+--------------------+-----------+---------+--------------------+--------------+--------------------+\n",
            "only showing top 5 rows\n",
            "\n"
          ]
        },
        {
          "output_type": "execute_result",
          "data": {
            "text/plain": [
              "(None, 268795)"
            ]
          },
          "metadata": {},
          "execution_count": 19
        }
      ]
    },
    {
      "cell_type": "code",
      "source": [
        "df.show(5), df.count()"
      ],
      "metadata": {
        "colab": {
          "base_uri": "https://localhost:8080/"
        },
        "id": "tc0XwbGnCs6v",
        "outputId": "fafd65d3-624c-4208-d18b-8bb2b51fbb99"
      },
      "execution_count": 21,
      "outputs": [
        {
          "output_type": "stream",
          "name": "stdout",
          "text": [
            "+---+--------------------+-----------+---------+--------------------+--------------+--------------------+\n",
            "|_c0|                type|subdistrict| district|           timestamp|         state|       last_activity|\n",
            "+---+--------------------+-----------+---------+--------------------+--------------+--------------------+\n",
            "|  0|          {แสงสว่าง}|    บางพลัด|  บางพลัด|2021-09-01 10:44:...|กำลังดำเนินการ|2022-02-22 04:59:...|\n",
            "|  2|             {สายไฟ}|  สามเสนนอก| ห้วยขวาง|2021-09-19 06:47:...|กำลังดำเนินการ|2022-02-22 04:30:...|\n",
            "|  3|         {ถนน,สะพาน}|       สีลม|   บางรัก|2021-09-19 07:40:...|กำลังดำเนินการ|2022-02-22 04:30:...|\n",
            "|  4| {น้ำท่วม,ร้องเรียน}|    หนองบอน|   ประเวศ|2021-09-19 14:56:...|     เสร็จสิ้น|2022-06-21 08:21:...|\n",
            "|  5|{ถนน,ร้องเรียน,น้...|     ขุมทอง|ลาดกระบัง|2021-09-20 00:24:...|กำลังดำเนินการ|2022-02-22 04:29:...|\n",
            "+---+--------------------+-----------+---------+--------------------+--------------+--------------------+\n",
            "only showing top 5 rows\n",
            "\n"
          ]
        },
        {
          "output_type": "execute_result",
          "data": {
            "text/plain": [
              "(None, 268795)"
            ]
          },
          "metadata": {},
          "execution_count": 21
        }
      ]
    },
    {
      "cell_type": "code",
      "source": [
        "df = df.filter(col('state').rlike('เสร็จ'))"
      ],
      "metadata": {
        "id": "QwRQQWFGEeeV"
      },
      "execution_count": 22,
      "outputs": []
    },
    {
      "cell_type": "code",
      "source": [
        "from pyspark.sql.functions import col, datediff\n",
        "\n",
        "# Convert 'timestamp' and 'last_activity' columns to datetime\n",
        "df = df.withColumn('timestamp', col('timestamp').cast('timestamp'))\n",
        "df = df.withColumn('last_activity', col('last_activity').cast('timestamp'))\n",
        "\n",
        "# Calculate the difference in days\n",
        "df = df.withColumn('time', datediff(col('last_activity'), col('timestamp')))"
      ],
      "metadata": {
        "id": "E2dztNvdE-oj"
      },
      "execution_count": 23,
      "outputs": []
    },
    {
      "cell_type": "code",
      "source": [
        "df.show(5)"
      ],
      "metadata": {
        "colab": {
          "base_uri": "https://localhost:8080/"
        },
        "id": "lq0bNwJJFBdF",
        "outputId": "e7dbfebd-1db1-475d-ba83-3c26ae23ef5f"
      },
      "execution_count": 24,
      "outputs": [
        {
          "output_type": "stream",
          "name": "stdout",
          "text": [
            "+---+-------------------+-----------+--------+--------------------+---------+--------------------+----+\n",
            "|_c0|               type|subdistrict|district|           timestamp|    state|       last_activity|time|\n",
            "+---+-------------------+-----------+--------+--------------------+---------+--------------------+----+\n",
            "|  4|{น้ำท่วม,ร้องเรียน}|    หนองบอน|  ประเวศ|2021-09-19 14:56:...|เสร็จสิ้น|2022-06-21 08:21:...| 275|\n",
            "| 10|            {สะพาน}|    ยานนาวา|    สาทร|2021-09-26 05:03:...|เสร็จสิ้น|2022-06-06 01:17:...| 253|\n",
            "| 25|      {น้ำท่วม,ถนน}|   ลาดพร้าว|ลาดพร้าว|2021-12-09 12:29:...|เสร็จสิ้น|2022-08-12 07:18:...| 246|\n",
            "| 64|            {สายไฟ}|   ลาดพร้าว|ลาดพร้าว|2021-12-13 05:53:...|เสร็จสิ้น|2023-03-14 12:09:...| 456|\n",
            "|102|       {เสียงรบกวน}|      ดุสิต|   ดุสิต|2021-12-17 08:46:...|เสร็จสิ้น|2022-06-01 03:16:...| 166|\n",
            "+---+-------------------+-----------+--------+--------------------+---------+--------------------+----+\n",
            "only showing top 5 rows\n",
            "\n"
          ]
        }
      ]
    },
    {
      "cell_type": "code",
      "source": [
        "from pyspark.sql.functions import col, month, year, quarter, dayofweek\n",
        "\n",
        "# Extract the month\n",
        "df = df.withColumn('month', month(col('timestamp')))\n",
        "\n",
        "# Extract the year\n",
        "df = df.withColumn('year', year(col('timestamp')))\n",
        "\n",
        "# Extract the quarter of the year\n",
        "df = df.withColumn('quarter', quarter(col('timestamp')))\n",
        "\n",
        "# Determine if the day is a weekend\n",
        "df = df.withColumn('is_weekend', (dayofweek(col('timestamp')) >= 6).cast('integer'))"
      ],
      "metadata": {
        "id": "R3kSRIdwGQMY"
      },
      "execution_count": 25,
      "outputs": []
    },
    {
      "cell_type": "code",
      "source": [
        "df.show(5)"
      ],
      "metadata": {
        "colab": {
          "base_uri": "https://localhost:8080/"
        },
        "id": "EGN52yxjIQ9O",
        "outputId": "373067d5-9a74-4345-c91e-cf58a383a428"
      },
      "execution_count": 26,
      "outputs": [
        {
          "output_type": "stream",
          "name": "stdout",
          "text": [
            "+---+-------------------+-----------+--------+--------------------+---------+--------------------+----+-----+----+-------+----------+\n",
            "|_c0|               type|subdistrict|district|           timestamp|    state|       last_activity|time|month|year|quarter|is_weekend|\n",
            "+---+-------------------+-----------+--------+--------------------+---------+--------------------+----+-----+----+-------+----------+\n",
            "|  4|{น้ำท่วม,ร้องเรียน}|    หนองบอน|  ประเวศ|2021-09-19 14:56:...|เสร็จสิ้น|2022-06-21 08:21:...| 275|    9|2021|      3|         0|\n",
            "| 10|            {สะพาน}|    ยานนาวา|    สาทร|2021-09-26 05:03:...|เสร็จสิ้น|2022-06-06 01:17:...| 253|    9|2021|      3|         0|\n",
            "| 25|      {น้ำท่วม,ถนน}|   ลาดพร้าว|ลาดพร้าว|2021-12-09 12:29:...|เสร็จสิ้น|2022-08-12 07:18:...| 246|   12|2021|      4|         0|\n",
            "| 64|            {สายไฟ}|   ลาดพร้าว|ลาดพร้าว|2021-12-13 05:53:...|เสร็จสิ้น|2023-03-14 12:09:...| 456|   12|2021|      4|         0|\n",
            "|102|       {เสียงรบกวน}|      ดุสิต|   ดุสิต|2021-12-17 08:46:...|เสร็จสิ้น|2022-06-01 03:16:...| 166|   12|2021|      4|         1|\n",
            "+---+-------------------+-----------+--------+--------------------+---------+--------------------+----+-----+----+-------+----------+\n",
            "only showing top 5 rows\n",
            "\n"
          ]
        }
      ]
    },
    {
      "cell_type": "code",
      "source": [
        "df.dtypes"
      ],
      "metadata": {
        "colab": {
          "base_uri": "https://localhost:8080/"
        },
        "id": "kYCC4GsaFw_w",
        "outputId": "5afd035e-718c-4e23-9c3c-380fa071d3e3"
      },
      "execution_count": 27,
      "outputs": [
        {
          "output_type": "execute_result",
          "data": {
            "text/plain": [
              "[('_c0', 'int'),\n",
              " ('type', 'string'),\n",
              " ('subdistrict', 'string'),\n",
              " ('district', 'string'),\n",
              " ('timestamp', 'timestamp'),\n",
              " ('state', 'string'),\n",
              " ('last_activity', 'timestamp'),\n",
              " ('time', 'int'),\n",
              " ('month', 'int'),\n",
              " ('year', 'int'),\n",
              " ('quarter', 'int'),\n",
              " ('is_weekend', 'int')]"
            ]
          },
          "metadata": {},
          "execution_count": 27
        }
      ]
    },
    {
      "cell_type": "code",
      "source": [
        "df.show(5)"
      ],
      "metadata": {
        "colab": {
          "base_uri": "https://localhost:8080/"
        },
        "id": "6tuW_kKQP_JZ",
        "outputId": "90e9324b-93f5-4647-bbb2-ed1a83dd9ab2"
      },
      "execution_count": 30,
      "outputs": [
        {
          "output_type": "stream",
          "name": "stdout",
          "text": [
            "+---+-------------------+-----------+--------+--------------------+---------+--------------------+----+-----+----+-------+----------+\n",
            "|_c0|               type|subdistrict|district|           timestamp|    state|       last_activity|time|month|year|quarter|is_weekend|\n",
            "+---+-------------------+-----------+--------+--------------------+---------+--------------------+----+-----+----+-------+----------+\n",
            "|  4|{น้ำท่วม,ร้องเรียน}|    หนองบอน|  ประเวศ|2021-09-19 14:56:...|เสร็จสิ้น|2022-06-21 08:21:...| 275|    9|2021|      3|         0|\n",
            "| 10|            {สะพาน}|    ยานนาวา|    สาทร|2021-09-26 05:03:...|เสร็จสิ้น|2022-06-06 01:17:...| 253|    9|2021|      3|         0|\n",
            "| 25|      {น้ำท่วม,ถนน}|   ลาดพร้าว|ลาดพร้าว|2021-12-09 12:29:...|เสร็จสิ้น|2022-08-12 07:18:...| 246|   12|2021|      4|         0|\n",
            "| 64|            {สายไฟ}|   ลาดพร้าว|ลาดพร้าว|2021-12-13 05:53:...|เสร็จสิ้น|2023-03-14 12:09:...| 456|   12|2021|      4|         0|\n",
            "|102|       {เสียงรบกวน}|      ดุสิต|   ดุสิต|2021-12-17 08:46:...|เสร็จสิ้น|2022-06-01 03:16:...| 166|   12|2021|      4|         1|\n",
            "+---+-------------------+-----------+--------+--------------------+---------+--------------------+----+-----+----+-------+----------+\n",
            "only showing top 5 rows\n",
            "\n"
          ]
        }
      ]
    },
    {
      "cell_type": "code",
      "source": [
        "df.columns"
      ],
      "metadata": {
        "colab": {
          "base_uri": "https://localhost:8080/"
        },
        "id": "AQgfhbeiQ4Cy",
        "outputId": "3d559ff3-a6ba-4212-9c06-9f7444f0a526"
      },
      "execution_count": 31,
      "outputs": [
        {
          "output_type": "execute_result",
          "data": {
            "text/plain": [
              "['_c0',\n",
              " 'type',\n",
              " 'subdistrict',\n",
              " 'district',\n",
              " 'timestamp',\n",
              " 'state',\n",
              " 'last_activity',\n",
              " 'time',\n",
              " 'month',\n",
              " 'year',\n",
              " 'quarter',\n",
              " 'is_weekend']"
            ]
          },
          "metadata": {},
          "execution_count": 31
        }
      ]
    },
    {
      "cell_type": "code",
      "source": [
        "df.na.drop(subset=['type',\n",
        " 'subdistrict',\n",
        " 'district',\n",
        " 'timestamp',\n",
        " 'state',\n",
        " 'last_activity',\n",
        " 'time',\n",
        " 'month',\n",
        " 'year',\n",
        " 'quarter',\n",
        " 'is_weekend'])"
      ],
      "metadata": {
        "colab": {
          "base_uri": "https://localhost:8080/"
        },
        "id": "Lq1J_kgAXAz_",
        "outputId": "7320c2f3-cb60-4504-80aa-390e4496226d"
      },
      "execution_count": 32,
      "outputs": [
        {
          "output_type": "execute_result",
          "data": {
            "text/plain": [
              "DataFrame[_c0: int, type: string, subdistrict: string, district: string, timestamp: timestamp, state: string, last_activity: timestamp, time: int, month: int, year: int, quarter: int, is_weekend: int]"
            ]
          },
          "metadata": {},
          "execution_count": 32
        }
      ]
    },
    {
      "cell_type": "code",
      "source": [
        "df.show(5)"
      ],
      "metadata": {
        "colab": {
          "base_uri": "https://localhost:8080/"
        },
        "id": "ct2WPeuleJ-h",
        "outputId": "3076002b-0b28-4a06-de49-12bc573d14a1"
      },
      "execution_count": 33,
      "outputs": [
        {
          "output_type": "stream",
          "name": "stdout",
          "text": [
            "+---+-------------------+-----------+--------+--------------------+---------+--------------------+----+-----+----+-------+----------+\n",
            "|_c0|               type|subdistrict|district|           timestamp|    state|       last_activity|time|month|year|quarter|is_weekend|\n",
            "+---+-------------------+-----------+--------+--------------------+---------+--------------------+----+-----+----+-------+----------+\n",
            "|  4|{น้ำท่วม,ร้องเรียน}|    หนองบอน|  ประเวศ|2021-09-19 14:56:...|เสร็จสิ้น|2022-06-21 08:21:...| 275|    9|2021|      3|         0|\n",
            "| 10|            {สะพาน}|    ยานนาวา|    สาทร|2021-09-26 05:03:...|เสร็จสิ้น|2022-06-06 01:17:...| 253|    9|2021|      3|         0|\n",
            "| 25|      {น้ำท่วม,ถนน}|   ลาดพร้าว|ลาดพร้าว|2021-12-09 12:29:...|เสร็จสิ้น|2022-08-12 07:18:...| 246|   12|2021|      4|         0|\n",
            "| 64|            {สายไฟ}|   ลาดพร้าว|ลาดพร้าว|2021-12-13 05:53:...|เสร็จสิ้น|2023-03-14 12:09:...| 456|   12|2021|      4|         0|\n",
            "|102|       {เสียงรบกวน}|      ดุสิต|   ดุสิต|2021-12-17 08:46:...|เสร็จสิ้น|2022-06-01 03:16:...| 166|   12|2021|      4|         1|\n",
            "+---+-------------------+-----------+--------+--------------------+---------+--------------------+----+-----+----+-------+----------+\n",
            "only showing top 5 rows\n",
            "\n"
          ]
        }
      ]
    },
    {
      "cell_type": "code",
      "source": [
        "column_names = df.columns\n",
        "print(column_names)"
      ],
      "metadata": {
        "colab": {
          "base_uri": "https://localhost:8080/"
        },
        "id": "A6l2a0-xfXJO",
        "outputId": "a70a5803-2f9f-4fad-c3af-d89a0adc28e9"
      },
      "execution_count": 34,
      "outputs": [
        {
          "output_type": "stream",
          "name": "stdout",
          "text": [
            "['_c0', 'type', 'subdistrict', 'district', 'timestamp', 'state', 'last_activity', 'time', 'month', 'year', 'quarter', 'is_weekend']\n"
          ]
        }
      ]
    },
    {
      "cell_type": "code",
      "source": [
        "df.printSchema()"
      ],
      "metadata": {
        "colab": {
          "base_uri": "https://localhost:8080/"
        },
        "id": "W9I3NuDieQFn",
        "outputId": "d15baa75-25f2-4e55-b34a-276435b86a21"
      },
      "execution_count": 35,
      "outputs": [
        {
          "output_type": "stream",
          "name": "stdout",
          "text": [
            "root\n",
            " |-- _c0: integer (nullable = true)\n",
            " |-- type: string (nullable = true)\n",
            " |-- subdistrict: string (nullable = true)\n",
            " |-- district: string (nullable = true)\n",
            " |-- timestamp: timestamp (nullable = true)\n",
            " |-- state: string (nullable = true)\n",
            " |-- last_activity: timestamp (nullable = true)\n",
            " |-- time: integer (nullable = true)\n",
            " |-- month: integer (nullable = true)\n",
            " |-- year: integer (nullable = true)\n",
            " |-- quarter: integer (nullable = true)\n",
            " |-- is_weekend: integer (nullable = true)\n",
            "\n"
          ]
        }
      ]
    },
    {
      "cell_type": "code",
      "source": [
        "df.show(10)"
      ],
      "metadata": {
        "colab": {
          "base_uri": "https://localhost:8080/"
        },
        "id": "3CvpPhfalOQk",
        "outputId": "778653e1-5003-4d89-f1dc-fea7ffd30651"
      },
      "execution_count": 36,
      "outputs": [
        {
          "output_type": "stream",
          "name": "stdout",
          "text": [
            "+---+-------------------+-----------+--------+--------------------+---------+--------------------+----+-----+----+-------+----------+\n",
            "|_c0|               type|subdistrict|district|           timestamp|    state|       last_activity|time|month|year|quarter|is_weekend|\n",
            "+---+-------------------+-----------+--------+--------------------+---------+--------------------+----+-----+----+-------+----------+\n",
            "|  4|{น้ำท่วม,ร้องเรียน}|    หนองบอน|  ประเวศ|2021-09-19 14:56:...|เสร็จสิ้น|2022-06-21 08:21:...| 275|    9|2021|      3|         0|\n",
            "| 10|            {สะพาน}|    ยานนาวา|    สาทร|2021-09-26 05:03:...|เสร็จสิ้น|2022-06-06 01:17:...| 253|    9|2021|      3|         0|\n",
            "| 25|      {น้ำท่วม,ถนน}|   ลาดพร้าว|ลาดพร้าว|2021-12-09 12:29:...|เสร็จสิ้น|2022-08-12 07:18:...| 246|   12|2021|      4|         0|\n",
            "| 64|            {สายไฟ}|   ลาดพร้าว|ลาดพร้าว|2021-12-13 05:53:...|เสร็จสิ้น|2023-03-14 12:09:...| 456|   12|2021|      4|         0|\n",
            "|102|       {เสียงรบกวน}|      ดุสิต|   ดุสิต|2021-12-17 08:46:...|เสร็จสิ้น|2022-06-01 03:16:...| 166|   12|2021|      4|         1|\n",
            "|111|        {ความสะอาด}|    หนองบอน|  ประเวศ|2021-12-18 14:50:...|เสร็จสิ้น|2022-06-14 07:36:...| 178|   12|2021|      4|         1|\n",
            "|138|      {ความปลอดภัย}|     ประเวศ|  ประเวศ|2021-12-21 23:03:...|เสร็จสิ้น|2022-06-24 06:32:...| 185|   12|2021|      4|         0|\n",
            "|153|      {ท่อระบายน้ำ}|    หนองบอน|  ประเวศ|2021-12-22 10:15:...|เสร็จสิ้น|2022-06-20 13:12:...| 180|   12|2021|      4|         0|\n",
            "|162|              {ถนน}|    หนองบอน|  ประเวศ|2021-12-23 10:26:...|เสร็จสิ้น|2022-09-28 08:35:...| 279|   12|2021|      4|         0|\n",
            "|179|        {ความสะอาด}|     ประเวศ|  ประเวศ|2021-12-28 03:59:...|เสร็จสิ้น|2022-07-12 06:50:...| 196|   12|2021|      4|         0|\n",
            "+---+-------------------+-----------+--------+--------------------+---------+--------------------+----+-----+----+-------+----------+\n",
            "only showing top 10 rows\n",
            "\n"
          ]
        }
      ]
    },
    {
      "cell_type": "code",
      "source": [
        "df.dtypes"
      ],
      "metadata": {
        "colab": {
          "base_uri": "https://localhost:8080/"
        },
        "id": "uWUUnI43nMCF",
        "outputId": "b419b40f-1280-4822-8c7d-052db86338ff"
      },
      "execution_count": 37,
      "outputs": [
        {
          "output_type": "execute_result",
          "data": {
            "text/plain": [
              "[('_c0', 'int'),\n",
              " ('type', 'string'),\n",
              " ('subdistrict', 'string'),\n",
              " ('district', 'string'),\n",
              " ('timestamp', 'timestamp'),\n",
              " ('state', 'string'),\n",
              " ('last_activity', 'timestamp'),\n",
              " ('time', 'int'),\n",
              " ('month', 'int'),\n",
              " ('year', 'int'),\n",
              " ('quarter', 'int'),\n",
              " ('is_weekend', 'int')]"
            ]
          },
          "metadata": {},
          "execution_count": 37
        }
      ]
    },
    {
      "cell_type": "code",
      "source": [
        "# def array_to_string(my_list):\n",
        "#     return '[' + ','.join([str(elem) for elem in my_list]) + ']'\n",
        "\n",
        "# array_to_string_udf = udf(array_to_string, StringType())\n",
        "\n",
        "# df = df.withColumn('type', array_to_string_udf(df[\"type\"]))"
      ],
      "metadata": {
        "id": "k07DMwFSnLaF"
      },
      "execution_count": 38,
      "outputs": []
    },
    {
      "cell_type": "code",
      "source": [
        "df.filter(col('type').isNull()).count()"
      ],
      "metadata": {
        "colab": {
          "base_uri": "https://localhost:8080/"
        },
        "id": "Trdj5MiIm0G8",
        "outputId": "56384a31-4ef0-40a1-b218-616593ce6c89"
      },
      "execution_count": 39,
      "outputs": [
        {
          "output_type": "execute_result",
          "data": {
            "text/plain": [
              "0"
            ]
          },
          "metadata": {},
          "execution_count": 39
        }
      ]
    },
    {
      "cell_type": "code",
      "source": [
        "df.dtypes"
      ],
      "metadata": {
        "colab": {
          "base_uri": "https://localhost:8080/"
        },
        "id": "RVM6R7nlr_uY",
        "outputId": "3d91f607-f514-4fd1-87ce-2f4cc52f556c"
      },
      "execution_count": 40,
      "outputs": [
        {
          "output_type": "execute_result",
          "data": {
            "text/plain": [
              "[('_c0', 'int'),\n",
              " ('type', 'string'),\n",
              " ('subdistrict', 'string'),\n",
              " ('district', 'string'),\n",
              " ('timestamp', 'timestamp'),\n",
              " ('state', 'string'),\n",
              " ('last_activity', 'timestamp'),\n",
              " ('time', 'int'),\n",
              " ('month', 'int'),\n",
              " ('year', 'int'),\n",
              " ('quarter', 'int'),\n",
              " ('is_weekend', 'int')]"
            ]
          },
          "metadata": {},
          "execution_count": 40
        }
      ]
    },
    {
      "cell_type": "code",
      "source": [
        "columns_to_drop = ['_c0']\n",
        "df = df.drop(*columns_to_drop)"
      ],
      "metadata": {
        "id": "ff03qQMFszdp"
      },
      "execution_count": 50,
      "outputs": []
    },
    {
      "cell_type": "code",
      "source": [
        "# Convert the transformed Spark DataFrame to a Pandas DataFrame\n",
        "pandasDF = df.toPandas()\n",
        "\n",
        "# Print the Pandas DataFrame\n",
        "print(pandasDF)"
      ],
      "metadata": {
        "colab": {
          "base_uri": "https://localhost:8080/"
        },
        "id": "-o_SHuXyhPK1",
        "outputId": "e4ba586f-8a2b-431a-e5e7-eef2dd29bcc5"
      },
      "execution_count": 52,
      "outputs": [
        {
          "output_type": "stream",
          "name": "stderr",
          "text": [
            "/content/spark/python/pyspark/sql/pandas/conversion.py:248: FutureWarning: Passing unit-less datetime64 dtype to .astype is deprecated and will raise in a future version. Pass 'datetime64[ns]' instead\n",
            "  series = series.astype(t, copy=False)\n",
            "/content/spark/python/pyspark/sql/pandas/conversion.py:248: FutureWarning: Passing unit-less datetime64 dtype to .astype is deprecated and will raise in a future version. Pass 'datetime64[ns]' instead\n",
            "  series = series.astype(t, copy=False)\n"
          ]
        },
        {
          "output_type": "stream",
          "name": "stdout",
          "text": [
            "                          type subdistrict  district  \\\n",
            "0          {น้ำท่วม,ร้องเรียน}     หนองบอน    ประเวศ   \n",
            "1                      {สะพาน}     ยานนาวา      สาทร   \n",
            "2                {น้ำท่วม,ถนน}    ลาดพร้าว  ลาดพร้าว   \n",
            "3                      {สายไฟ}    ลาดพร้าว  ลาดพร้าว   \n",
            "4                 {เสียงรบกวน}       ดุสิต     ดุสิต   \n",
            "...                        ...         ...       ...   \n",
            "201626               {ทางเท้า}   บางยี่ขัน   บางพลัด   \n",
            "201627                 {จราจร}   วงศ์สว่าง   บางซื่อ   \n",
            "201628                 {จราจร}   วงศ์สว่าง   บางซื่อ   \n",
            "201629  {ถนน,จราจร,สะพาน,คลอง}   วงศ์สว่าง   บางซื่อ   \n",
            "201630    {ความสะอาด,ถนน,คลอง}    คลองจั่น   บางกะปิ   \n",
            "\n",
            "                        timestamp      state              last_activity  time  \\\n",
            "0      2021-09-19 14:56:08.924992  เสร็จสิ้น 2022-06-21 08:21:09.532782   275   \n",
            "1      2021-09-26 05:03:52.594898  เสร็จสิ้น 2022-06-06 01:17:12.272904   253   \n",
            "2      2021-12-09 12:29:08.408763  เสร็จสิ้น 2022-08-12 07:18:44.884945   246   \n",
            "3      2021-12-13 05:53:36.861064  เสร็จสิ้น 2023-03-14 12:09:14.947437   456   \n",
            "4      2021-12-17 08:46:02.610983  เสร็จสิ้น 2022-06-01 03:16:34.479177   166   \n",
            "...                           ...        ...                        ...   ...   \n",
            "201626 2023-05-10 12:03:40.285161  เสร็จสิ้น 2023-05-10 13:48:13.372963     0   \n",
            "201627 2023-05-10 12:24:02.018402  เสร็จสิ้น 2023-05-11 02:35:04.168041     1   \n",
            "201628 2023-05-10 12:26:04.555106  เสร็จสิ้น 2023-05-11 02:34:32.044436     1   \n",
            "201629 2023-05-10 12:31:53.811755  เสร็จสิ้น 2023-05-11 02:29:47.527297     1   \n",
            "201630 2023-05-11 01:41:23.390371  เสร็จสิ้น 2023-05-11 01:56:34.359269     0   \n",
            "\n",
            "        month  year  quarter  is_weekend  \n",
            "0           9  2021        3           0  \n",
            "1           9  2021        3           0  \n",
            "2          12  2021        4           0  \n",
            "3          12  2021        4           0  \n",
            "4          12  2021        4           1  \n",
            "...       ...   ...      ...         ...  \n",
            "201626      5  2023        2           0  \n",
            "201627      5  2023        2           0  \n",
            "201628      5  2023        2           0  \n",
            "201629      5  2023        2           0  \n",
            "201630      5  2023        2           0  \n",
            "\n",
            "[201631 rows x 11 columns]\n"
          ]
        }
      ]
    }
  ]
}