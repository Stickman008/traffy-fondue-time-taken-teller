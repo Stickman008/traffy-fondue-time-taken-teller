{
 "cells": [
  {
   "cell_type": "code",
   "execution_count": 1,
   "metadata": {},
   "outputs": [],
   "source": [
    "import numpy as np\n",
    "import pandas as pd"
   ]
  },
  {
   "cell_type": "code",
   "execution_count": 2,
   "metadata": {},
   "outputs": [],
   "source": [
    "df = pd.read_csv(\"../data/bangkok_traffy.csv\")"
   ]
  },
  {
   "cell_type": "code",
   "execution_count": 3,
   "metadata": {},
   "outputs": [],
   "source": [
    "df = df.drop(['organization','comment','photo','photo_after','coords','address','star','count_reopen'],axis=1)"
   ]
  },
  {
   "cell_type": "code",
   "execution_count": 4,
   "metadata": {},
   "outputs": [
    {
     "data": {
      "text/html": [
       "<div>\n",
       "<style scoped>\n",
       "    .dataframe tbody tr th:only-of-type {\n",
       "        vertical-align: middle;\n",
       "    }\n",
       "\n",
       "    .dataframe tbody tr th {\n",
       "        vertical-align: top;\n",
       "    }\n",
       "\n",
       "    .dataframe thead th {\n",
       "        text-align: right;\n",
       "    }\n",
       "</style>\n",
       "<table border=\"1\" class=\"dataframe\">\n",
       "  <thead>\n",
       "    <tr style=\"text-align: right;\">\n",
       "      <th></th>\n",
       "      <th>ticket_id</th>\n",
       "      <th>type</th>\n",
       "      <th>subdistrict</th>\n",
       "      <th>district</th>\n",
       "      <th>province</th>\n",
       "      <th>timestamp</th>\n",
       "      <th>state</th>\n",
       "      <th>last_activity</th>\n",
       "    </tr>\n",
       "  </thead>\n",
       "  <tbody>\n",
       "    <tr>\n",
       "      <th>0</th>\n",
       "      <td>2021-9LHDM6</td>\n",
       "      <td>{}</td>\n",
       "      <td>บางพลัด</td>\n",
       "      <td>บางพลัด</td>\n",
       "      <td>กรุงเทพมหานคร</td>\n",
       "      <td>2021-09-01 10:44:55.353209+00</td>\n",
       "      <td>กำลังดำเนินการ</td>\n",
       "      <td>2022-02-22 04:59:58.622268+00</td>\n",
       "    </tr>\n",
       "    <tr>\n",
       "      <th>1</th>\n",
       "      <td>2021-FYJTFP</td>\n",
       "      <td>{ความสะอาด}</td>\n",
       "      <td>NaN</td>\n",
       "      <td>NaN</td>\n",
       "      <td>กรุงเทพมหานคร</td>\n",
       "      <td>2021-09-03 12:51:09.453003+00</td>\n",
       "      <td>เสร็จสิ้น</td>\n",
       "      <td>2022-06-04 15:34:14.609206+00</td>\n",
       "    </tr>\n",
       "    <tr>\n",
       "      <th>2</th>\n",
       "      <td>2021-8GKAR9</td>\n",
       "      <td>{สายไฟ}</td>\n",
       "      <td>สามเสนนอก</td>\n",
       "      <td>ห้วยขวาง</td>\n",
       "      <td>จังหวัดกรุงเทพมหานคร</td>\n",
       "      <td>2021-09-19 06:47:50.488685+00</td>\n",
       "      <td>กำลังดำเนินการ</td>\n",
       "      <td>2022-02-22 04:30:07.293416+00</td>\n",
       "    </tr>\n",
       "    <tr>\n",
       "      <th>3</th>\n",
       "      <td>2021-AFPUXZ</td>\n",
       "      <td>{ถนน,สะพาน}</td>\n",
       "      <td>สีลม</td>\n",
       "      <td>บางรัก</td>\n",
       "      <td>กรุงเทพมหานคร</td>\n",
       "      <td>2021-09-19 07:40:30.000781+00</td>\n",
       "      <td>กำลังดำเนินการ</td>\n",
       "      <td>2022-02-22 04:30:04.507406+00</td>\n",
       "    </tr>\n",
       "    <tr>\n",
       "      <th>4</th>\n",
       "      <td>2021-CGPMUN</td>\n",
       "      <td>{น้ำท่วม,ร้องเรียน}</td>\n",
       "      <td>หนองบอน</td>\n",
       "      <td>ประเวศ</td>\n",
       "      <td>กรุงเทพมหานคร</td>\n",
       "      <td>2021-09-19 14:56:08.924992+00</td>\n",
       "      <td>เสร็จสิ้น</td>\n",
       "      <td>2022-06-21 08:21:09.532782+00</td>\n",
       "    </tr>\n",
       "  </tbody>\n",
       "</table>\n",
       "</div>"
      ],
      "text/plain": [
       "     ticket_id                 type subdistrict  district  \\\n",
       "0  2021-9LHDM6                   {}     บางพลัด   บางพลัด   \n",
       "1  2021-FYJTFP          {ความสะอาด}         NaN       NaN   \n",
       "2  2021-8GKAR9              {สายไฟ}   สามเสนนอก  ห้วยขวาง   \n",
       "3  2021-AFPUXZ          {ถนน,สะพาน}        สีลม    บางรัก   \n",
       "4  2021-CGPMUN  {น้ำท่วม,ร้องเรียน}     หนองบอน    ประเวศ   \n",
       "\n",
       "               province                      timestamp           state  \\\n",
       "0         กรุงเทพมหานคร  2021-09-01 10:44:55.353209+00  กำลังดำเนินการ   \n",
       "1         กรุงเทพมหานคร  2021-09-03 12:51:09.453003+00       เสร็จสิ้น   \n",
       "2  จังหวัดกรุงเทพมหานคร  2021-09-19 06:47:50.488685+00  กำลังดำเนินการ   \n",
       "3         กรุงเทพมหานคร  2021-09-19 07:40:30.000781+00  กำลังดำเนินการ   \n",
       "4         กรุงเทพมหานคร  2021-09-19 14:56:08.924992+00       เสร็จสิ้น   \n",
       "\n",
       "                   last_activity  \n",
       "0  2022-02-22 04:59:58.622268+00  \n",
       "1  2022-06-04 15:34:14.609206+00  \n",
       "2  2022-02-22 04:30:07.293416+00  \n",
       "3  2022-02-22 04:30:04.507406+00  \n",
       "4  2022-06-21 08:21:09.532782+00  "
      ]
     },
     "execution_count": 4,
     "metadata": {},
     "output_type": "execute_result"
    }
   ],
   "source": [
    "df.head()"
   ]
  },
  {
   "cell_type": "code",
   "execution_count": 5,
   "metadata": {},
   "outputs": [
    {
     "data": {
      "text/plain": [
       "ticket_id        2658\n",
       "type               97\n",
       "subdistrict        72\n",
       "district           74\n",
       "province           25\n",
       "timestamp           0\n",
       "state               0\n",
       "last_activity       0\n",
       "dtype: int64"
      ]
     },
     "execution_count": 5,
     "metadata": {},
     "output_type": "execute_result"
    }
   ],
   "source": [
    "df.isna().sum()"
   ]
  },
  {
   "cell_type": "code",
   "execution_count": 6,
   "metadata": {},
   "outputs": [
    {
     "data": {
      "text/plain": [
       "array(['กรุงเทพมหานคร', 'จังหวัดกรุงเทพมหานคร', 'นนทบุรี', 'นครปฐม',\n",
       "       'ศรีสะเกษ', 'สมุทรปราการ', 'เชียงใหม่', 'ปทุมธานี', 'สมุทรสาคร',\n",
       "       'อ่างทอง', 'ชลบุรี', 'ภูเก็ต', 'ยะลา', 'ลำปาง', 'พระนครศรีอยุธยา',\n",
       "       'ตาก', 'อุบลราชธานี', 'ฉะเชิงเทรา', 'ขอนแก่น', 'นครศรีธรรมราช',\n",
       "       'เชียงราย', nan, 'จันทบุรี', 'สงขลา', 'นครราชสีมา', 'ปราจีนบุรี',\n",
       "       'กาฬสินธุ์', 'พิจิตร', 'อุตรดิตถ์', 'ราชบุรี', 'กาญจนบุรี',\n",
       "       'ชัยนาท', 'อุทัยธานี', 'สุพรรณบุรี', 'ลพบุรี', 'นครสวรรค์',\n",
       "       'นครนายก', 'สกลนคร', 'สตูล', 'อุดรธานี', 'เพชรบุรี', 'ตรัง',\n",
       "       'สุรินทร์', 'อำนาจเจริญ', 'บุรีรัมย์', 'สุโขทัย', 'สุราษฎร์ธานี',\n",
       "       'พิษณุโลก', 'มหาสารคาม', 'ร้อยเอ็ด', 'แพร่', 'สมุทรสงคราม',\n",
       "       'สิงห์บุรี', 'ลำพูน', 'ระยอง', 'ยโสธร', 'นครพนม', 'น่าน',\n",
       "       'หนองบัวลำภู', 'จังหวัดชลบุรี', 'จังหวัดจังหวัด กรุงเทพมหานคร',\n",
       "       'จังหวัดพระนครศรีอยุธยา', 'จังหวัดสมุทรปราการ', 'จังหวัดLac',\n",
       "       'จังหวัดฉะเชิงเทรา', 'จังหวัดนนทบุรี', 'จังหวัดBangkok',\n",
       "       'จังหวัดจังหวัดกรุงเทพมหานคร', 'ตราด', 'เพชรบูรณ์',\n",
       "       'ประจวบคีรีขันธ์', 'จังหวัดปทุมธานี', 'จังหวัดสมุทรสาคร',\n",
       "       'ปัตตานี', 'จังหวัดจ.ฉะเชิงเทรา', 'จังหวัดสระบุรี',\n",
       "       'จังหวัดประจวบคีรีขันธ์', 'สระบุรี', 'จังหวัดลพบุรี', 'พะเยา'],\n",
       "      dtype=object)"
      ]
     },
     "execution_count": 6,
     "metadata": {},
     "output_type": "execute_result"
    }
   ],
   "source": [
    "df['province'].unique()"
   ]
  },
  {
   "cell_type": "code",
   "execution_count": 7,
   "metadata": {},
   "outputs": [],
   "source": [
    "df = df[df['province'].str.contains('กรุงเทพ|bangkok',na=False,case=False)]"
   ]
  },
  {
   "cell_type": "code",
   "execution_count": 8,
   "metadata": {},
   "outputs": [],
   "source": [
    "# df[df['type']=='{}'].time.value_counts()"
   ]
  },
  {
   "cell_type": "code",
   "execution_count": 9,
   "metadata": {},
   "outputs": [],
   "source": [
    "df = df.dropna(subset=['subdistrict', 'district'] )"
   ]
  },
  {
   "cell_type": "code",
   "execution_count": 10,
   "metadata": {},
   "outputs": [
    {
     "data": {
      "text/plain": [
       "ticket_id        2633\n",
       "type               97\n",
       "subdistrict         0\n",
       "district            0\n",
       "province            0\n",
       "timestamp           0\n",
       "state               0\n",
       "last_activity       0\n",
       "dtype: int64"
      ]
     },
     "execution_count": 10,
     "metadata": {},
     "output_type": "execute_result"
    }
   ],
   "source": [
    "df.isna().sum()"
   ]
  },
  {
   "cell_type": "code",
   "execution_count": 11,
   "metadata": {},
   "outputs": [],
   "source": [
    "df = df[df['state'].str.contains('เสร็จ',na=False,case=False)]"
   ]
  },
  {
   "cell_type": "code",
   "execution_count": 12,
   "metadata": {},
   "outputs": [
    {
     "data": {
      "text/plain": [
       "array(['{น้ำท่วม,ร้องเรียน}', '{สะพาน}', '{น้ำท่วม,ถนน}', ...,\n",
       "       '{ถนน,จราจร,เสนอแนะ,ห้องน้ำ}',\n",
       "       '{คนจรจัด,ความสะอาด,กีดขวาง,ทางเท้า,ร้องเรียน}',\n",
       "       '{ถนน,ทางเท้า,PM2.5,ความปลอดภัย}'], dtype=object)"
      ]
     },
     "execution_count": 12,
     "metadata": {},
     "output_type": "execute_result"
    }
   ],
   "source": [
    "df.type.unique()"
   ]
  },
  {
   "cell_type": "code",
   "execution_count": 13,
   "metadata": {},
   "outputs": [
    {
     "data": {
      "text/plain": [
       "จตุจักร              10049\n",
       "ประเวศ                8858\n",
       "บางแค                 7816\n",
       "บางเขน                6872\n",
       "ลาดกระบัง             6615\n",
       "บางกะปิ               6555\n",
       "วัฒนา                 6406\n",
       "คลองเตย               6080\n",
       "สวนหลวง               5745\n",
       "บางขุนเทียน           5136\n",
       "บึงกุ่ม               4895\n",
       "บางซื่อ               4719\n",
       "ราชเทวี               4582\n",
       "ปทุมวัน               4567\n",
       "ดินแดง                4443\n",
       "บางกอกน้อย            4360\n",
       "ลาดพร้าว              4308\n",
       "สาทร                  4292\n",
       "บางรัก                4262\n",
       "วังทองหลาง            4217\n",
       "พญาไท                 4060\n",
       "ธนบุรี                3986\n",
       "บางนา                 3819\n",
       "สายไหม                3797\n",
       "พระนคร                3755\n",
       "คลองสามวา             3735\n",
       "มีนบุรี               3572\n",
       "ห้วยขวาง              3481\n",
       "บางพลัด               3434\n",
       "ภาษีเจริญ             3426\n",
       "สะพานสูง              3259\n",
       "หนองจอก               3255\n",
       "พระโขนง               3194\n",
       "หลักสี่               3188\n",
       "ดอนเมือง              3146\n",
       "จอมทอง                3145\n",
       "ตลิ่งชัน              2874\n",
       "ทุ่งครุ               2733\n",
       "หนองแขม               2732\n",
       "ป้อมปราบศัตรูพ่าย     2701\n",
       "ยานนาวา               2660\n",
       "บางคอแหลม             2475\n",
       "บางบอน                2432\n",
       "คลองสาน               2230\n",
       "ดุสิต                 2200\n",
       "ราษฎร์บูรณะ           2084\n",
       "คันนายาว              1974\n",
       "ทวีวัฒนา              1972\n",
       "บางกอกใหญ่            1598\n",
       "สัมพันธวงศ์           1079\n",
       "Name: district, dtype: int64"
      ]
     },
     "execution_count": 13,
     "metadata": {},
     "output_type": "execute_result"
    }
   ],
   "source": [
    "df.district.value_counts()"
   ]
  },
  {
   "cell_type": "code",
   "execution_count": 14,
   "metadata": {},
   "outputs": [
    {
     "data": {
      "text/html": [
       "<div>\n",
       "<style scoped>\n",
       "    .dataframe tbody tr th:only-of-type {\n",
       "        vertical-align: middle;\n",
       "    }\n",
       "\n",
       "    .dataframe tbody tr th {\n",
       "        vertical-align: top;\n",
       "    }\n",
       "\n",
       "    .dataframe thead th {\n",
       "        text-align: right;\n",
       "    }\n",
       "</style>\n",
       "<table border=\"1\" class=\"dataframe\">\n",
       "  <thead>\n",
       "    <tr style=\"text-align: right;\">\n",
       "      <th></th>\n",
       "      <th>subdistrict</th>\n",
       "      <th>district</th>\n",
       "    </tr>\n",
       "  </thead>\n",
       "  <tbody>\n",
       "    <tr>\n",
       "      <th>4</th>\n",
       "      <td>หนองบอน</td>\n",
       "      <td>ประเวศ</td>\n",
       "    </tr>\n",
       "    <tr>\n",
       "      <th>10</th>\n",
       "      <td>ยานนาวา</td>\n",
       "      <td>สาทร</td>\n",
       "    </tr>\n",
       "    <tr>\n",
       "      <th>25</th>\n",
       "      <td>ลาดพร้าว</td>\n",
       "      <td>ลาดพร้าว</td>\n",
       "    </tr>\n",
       "    <tr>\n",
       "      <th>64</th>\n",
       "      <td>ลาดพร้าว</td>\n",
       "      <td>ลาดพร้าว</td>\n",
       "    </tr>\n",
       "    <tr>\n",
       "      <th>102</th>\n",
       "      <td>ดุสิต</td>\n",
       "      <td>ดุสิต</td>\n",
       "    </tr>\n",
       "    <tr>\n",
       "      <th>...</th>\n",
       "      <td>...</td>\n",
       "      <td>...</td>\n",
       "    </tr>\n",
       "    <tr>\n",
       "      <th>270961</th>\n",
       "      <td>สีลม</td>\n",
       "      <td>บางรัก</td>\n",
       "    </tr>\n",
       "    <tr>\n",
       "      <th>270979</th>\n",
       "      <td>ทุ่งครุ</td>\n",
       "      <td>ทุ่งครุ</td>\n",
       "    </tr>\n",
       "    <tr>\n",
       "      <th>271016</th>\n",
       "      <td>ประเวศ</td>\n",
       "      <td>ประเวศ</td>\n",
       "    </tr>\n",
       "    <tr>\n",
       "      <th>271018</th>\n",
       "      <td>บางยี่ขัน</td>\n",
       "      <td>บางพลัด</td>\n",
       "    </tr>\n",
       "    <tr>\n",
       "      <th>271163</th>\n",
       "      <td>บางปะกอก</td>\n",
       "      <td>ราษฎร์บูรณะ</td>\n",
       "    </tr>\n",
       "  </tbody>\n",
       "</table>\n",
       "<p>202773 rows × 2 columns</p>\n",
       "</div>"
      ],
      "text/plain": [
       "       subdistrict     district\n",
       "4          หนองบอน       ประเวศ\n",
       "10         ยานนาวา         สาทร\n",
       "25        ลาดพร้าว     ลาดพร้าว\n",
       "64        ลาดพร้าว     ลาดพร้าว\n",
       "102          ดุสิต        ดุสิต\n",
       "...            ...          ...\n",
       "270961        สีลม       บางรัก\n",
       "270979     ทุ่งครุ      ทุ่งครุ\n",
       "271016      ประเวศ       ประเวศ\n",
       "271018   บางยี่ขัน      บางพลัด\n",
       "271163    บางปะกอก  ราษฎร์บูรณะ\n",
       "\n",
       "[202773 rows x 2 columns]"
      ]
     },
     "execution_count": 14,
     "metadata": {},
     "output_type": "execute_result"
    }
   ],
   "source": [
    "df[['subdistrict','district']]"
   ]
  },
  {
   "cell_type": "code",
   "execution_count": 15,
   "metadata": {},
   "outputs": [],
   "source": [
    "df['timestamp'] = pd.to_datetime(df['timestamp'], utc=True)\n",
    "df['last_activity'] = pd.to_datetime(df['last_activity'], utc=True)"
   ]
  },
  {
   "cell_type": "code",
   "execution_count": 16,
   "metadata": {},
   "outputs": [],
   "source": [
    "df['time'] =  (df['last_activity'] - df['timestamp']).dt.days"
   ]
  },
  {
   "cell_type": "code",
   "execution_count": 17,
   "metadata": {},
   "outputs": [],
   "source": [
    "type_con = df['type'].str.strip('{}').str.get_dummies(',')"
   ]
  },
  {
   "cell_type": "code",
   "execution_count": 18,
   "metadata": {},
   "outputs": [],
   "source": [
    "df = pd.concat([df,type_con],axis=1)"
   ]
  },
  {
   "cell_type": "code",
   "execution_count": 19,
   "metadata": {},
   "outputs": [],
   "source": [
    "district_hot =  pd.get_dummies(df['district'])"
   ]
  },
  {
   "cell_type": "code",
   "execution_count": 20,
   "metadata": {},
   "outputs": [],
   "source": [
    "df = pd.concat([df,district_hot],axis=1)"
   ]
  },
  {
   "cell_type": "code",
   "execution_count": 21,
   "metadata": {},
   "outputs": [],
   "source": [
    "df = df.drop(['ticket_id','type','subdistrict','district','province','timestamp','state','last_activity'],axis=1)"
   ]
  },
  {
   "cell_type": "code",
   "execution_count": 22,
   "metadata": {},
   "outputs": [
    {
     "data": {
      "text/html": [
       "<div>\n",
       "<style scoped>\n",
       "    .dataframe tbody tr th:only-of-type {\n",
       "        vertical-align: middle;\n",
       "    }\n",
       "\n",
       "    .dataframe tbody tr th {\n",
       "        vertical-align: top;\n",
       "    }\n",
       "\n",
       "    .dataframe thead th {\n",
       "        text-align: right;\n",
       "    }\n",
       "</style>\n",
       "<table border=\"1\" class=\"dataframe\">\n",
       "  <thead>\n",
       "    <tr style=\"text-align: right;\">\n",
       "      <th></th>\n",
       "      <th>time</th>\n",
       "    </tr>\n",
       "  </thead>\n",
       "  <tbody>\n",
       "    <tr>\n",
       "      <th>count</th>\n",
       "      <td>202773.000000</td>\n",
       "    </tr>\n",
       "    <tr>\n",
       "      <th>mean</th>\n",
       "      <td>43.205284</td>\n",
       "    </tr>\n",
       "    <tr>\n",
       "      <th>std</th>\n",
       "      <td>69.637659</td>\n",
       "    </tr>\n",
       "    <tr>\n",
       "      <th>min</th>\n",
       "      <td>0.000000</td>\n",
       "    </tr>\n",
       "    <tr>\n",
       "      <th>25%</th>\n",
       "      <td>1.000000</td>\n",
       "    </tr>\n",
       "    <tr>\n",
       "      <th>50%</th>\n",
       "      <td>8.000000</td>\n",
       "    </tr>\n",
       "    <tr>\n",
       "      <th>75%</th>\n",
       "      <td>52.000000</td>\n",
       "    </tr>\n",
       "    <tr>\n",
       "      <th>max</th>\n",
       "      <td>464.000000</td>\n",
       "    </tr>\n",
       "  </tbody>\n",
       "</table>\n",
       "</div>"
      ],
      "text/plain": [
       "                time\n",
       "count  202773.000000\n",
       "mean       43.205284\n",
       "std        69.637659\n",
       "min         0.000000\n",
       "25%         1.000000\n",
       "50%         8.000000\n",
       "75%        52.000000\n",
       "max       464.000000"
      ]
     },
     "execution_count": 22,
     "metadata": {},
     "output_type": "execute_result"
    }
   ],
   "source": [
    "df[['time']].describe()"
   ]
  },
  {
   "cell_type": "code",
   "execution_count": 23,
   "metadata": {},
   "outputs": [
    {
     "data": {
      "text/plain": [
       "<AxesSubplot:xlabel='time', ylabel='Density'>"
      ]
     },
     "execution_count": 23,
     "metadata": {},
     "output_type": "execute_result"
    },
    {
     "data": {
      "image/png": "[encoded data removed]",
      "text/plain": [
       "<Figure size 432x288 with 1 Axes>"
      ]
     },
     "metadata": {
      "needs_background": "light"
     },
     "output_type": "display_data"
    }
   ],
   "source": [
    "import seaborn as sns\n",
    "sns.kdeplot(data=df, x=\"time\")"
   ]
  },
  {
   "cell_type": "code",
   "execution_count": 24,
   "metadata": {},
   "outputs": [],
   "source": [
    "# Q1 = df['time'].quantile(0.25)\n",
    "# Q3 = df['time'].quantile(0.75)\n",
    "# IQR = Q3 - Q1\n",
    "# df = df.query('(@Q1 - 1.5 * @IQR) <= time <= (@Q3 + 1.5 * @IQR)')"
   ]
  },
  {
   "cell_type": "code",
   "execution_count": 25,
   "metadata": {},
   "outputs": [
    {
     "data": {
      "text/html": [
       "<div>\n",
       "<style scoped>\n",
       "    .dataframe tbody tr th:only-of-type {\n",
       "        vertical-align: middle;\n",
       "    }\n",
       "\n",
       "    .dataframe tbody tr th {\n",
       "        vertical-align: top;\n",
       "    }\n",
       "\n",
       "    .dataframe thead th {\n",
       "        text-align: right;\n",
       "    }\n",
       "</style>\n",
       "<table border=\"1\" class=\"dataframe\">\n",
       "  <thead>\n",
       "    <tr style=\"text-align: right;\">\n",
       "      <th></th>\n",
       "      <th>time</th>\n",
       "    </tr>\n",
       "  </thead>\n",
       "  <tbody>\n",
       "    <tr>\n",
       "      <th>count</th>\n",
       "      <td>202773.000000</td>\n",
       "    </tr>\n",
       "    <tr>\n",
       "      <th>mean</th>\n",
       "      <td>43.205284</td>\n",
       "    </tr>\n",
       "    <tr>\n",
       "      <th>std</th>\n",
       "      <td>69.637659</td>\n",
       "    </tr>\n",
       "    <tr>\n",
       "      <th>min</th>\n",
       "      <td>0.000000</td>\n",
       "    </tr>\n",
       "    <tr>\n",
       "      <th>25%</th>\n",
       "      <td>1.000000</td>\n",
       "    </tr>\n",
       "    <tr>\n",
       "      <th>50%</th>\n",
       "      <td>8.000000</td>\n",
       "    </tr>\n",
       "    <tr>\n",
       "      <th>75%</th>\n",
       "      <td>52.000000</td>\n",
       "    </tr>\n",
       "    <tr>\n",
       "      <th>max</th>\n",
       "      <td>464.000000</td>\n",
       "    </tr>\n",
       "  </tbody>\n",
       "</table>\n",
       "</div>"
      ],
      "text/plain": [
       "                time\n",
       "count  202773.000000\n",
       "mean       43.205284\n",
       "std        69.637659\n",
       "min         0.000000\n",
       "25%         1.000000\n",
       "50%         8.000000\n",
       "75%        52.000000\n",
       "max       464.000000"
      ]
     },
     "execution_count": 25,
     "metadata": {},
     "output_type": "execute_result"
    }
   ],
   "source": [
    "df[['time']].describe()"
   ]
  },
  {
   "cell_type": "code",
   "execution_count": 26,
   "metadata": {},
   "outputs": [
    {
     "data": {
      "text/plain": [
       "<AxesSubplot:xlabel='time', ylabel='Density'>"
      ]
     },
     "execution_count": 26,
     "metadata": {},
     "output_type": "execute_result"
    },
    {
     "data": {
      "image/png": "[encoded data removed]",
      "text/plain": [
       "<Figure size 432x288 with 1 Axes>"
      ]
     },
     "metadata": {
      "needs_background": "light"
     },
     "output_type": "display_data"
    }
   ],
   "source": [
    "sns.kdeplot(data=df, x=\"time\")"
   ]
  },
  {
   "cell_type": "code",
   "execution_count": 27,
   "metadata": {},
   "outputs": [],
   "source": [
    "df.loc[df['time'].between(0, 0, 'both'), 'time_class'] = 'same day'\n",
    "df.loc[df['time'].between(0, 1, 'right'), 'time_class'] = '1 day'\n",
    "df.loc[df['time'].between(1, 3, 'right'), 'time_class'] = '3 days'\n",
    "df.loc[df['time'].between(3, 7, 'right'), 'time_class'] = '1 week'\n",
    "df.loc[df['time'].between(7, 15, 'right'), 'time_class'] = 'half month'\n",
    "df.loc[df['time'].between(15, 30, 'right'), 'time_class'] = '1 month'\n",
    "df.loc[df['time'].between(30, 60, 'right'), 'time_class'] = '2 month'\n",
    "df.loc[df['time'].between(60, 90, 'right'), 'time_class'] = '3 month'\n",
    "df.loc[df['time'].between(90, 120, 'right'), 'time_class'] = '4 month'\n",
    "df.loc[df['time'].between(120, 500, 'right'), 'time_class'] = 'other'"
   ]
  },
  {
   "cell_type": "code",
   "execution_count": 28,
   "metadata": {},
   "outputs": [
    {
     "data": {
      "text/html": [
       "<div>\n",
       "<style scoped>\n",
       "    .dataframe tbody tr th:only-of-type {\n",
       "        vertical-align: middle;\n",
       "    }\n",
       "\n",
       "    .dataframe tbody tr th {\n",
       "        vertical-align: top;\n",
       "    }\n",
       "\n",
       "    .dataframe thead th {\n",
       "        text-align: right;\n",
       "    }\n",
       "</style>\n",
       "<table border=\"1\" class=\"dataframe\">\n",
       "  <thead>\n",
       "    <tr style=\"text-align: right;\">\n",
       "      <th></th>\n",
       "      <th>time_class</th>\n",
       "    </tr>\n",
       "  </thead>\n",
       "  <tbody>\n",
       "    <tr>\n",
       "      <th>4</th>\n",
       "      <td>other</td>\n",
       "    </tr>\n",
       "    <tr>\n",
       "      <th>10</th>\n",
       "      <td>other</td>\n",
       "    </tr>\n",
       "    <tr>\n",
       "      <th>25</th>\n",
       "      <td>other</td>\n",
       "    </tr>\n",
       "    <tr>\n",
       "      <th>64</th>\n",
       "      <td>other</td>\n",
       "    </tr>\n",
       "    <tr>\n",
       "      <th>102</th>\n",
       "      <td>other</td>\n",
       "    </tr>\n",
       "    <tr>\n",
       "      <th>...</th>\n",
       "      <td>...</td>\n",
       "    </tr>\n",
       "    <tr>\n",
       "      <th>270961</th>\n",
       "      <td>same day</td>\n",
       "    </tr>\n",
       "    <tr>\n",
       "      <th>270979</th>\n",
       "      <td>same day</td>\n",
       "    </tr>\n",
       "    <tr>\n",
       "      <th>271016</th>\n",
       "      <td>same day</td>\n",
       "    </tr>\n",
       "    <tr>\n",
       "      <th>271018</th>\n",
       "      <td>same day</td>\n",
       "    </tr>\n",
       "    <tr>\n",
       "      <th>271163</th>\n",
       "      <td>same day</td>\n",
       "    </tr>\n",
       "  </tbody>\n",
       "</table>\n",
       "<p>202773 rows × 1 columns</p>\n",
       "</div>"
      ],
      "text/plain": [
       "       time_class\n",
       "4           other\n",
       "10          other\n",
       "25          other\n",
       "64          other\n",
       "102         other\n",
       "...           ...\n",
       "270961   same day\n",
       "270979   same day\n",
       "271016   same day\n",
       "271018   same day\n",
       "271163   same day\n",
       "\n",
       "[202773 rows x 1 columns]"
      ]
     },
     "execution_count": 28,
     "metadata": {},
     "output_type": "execute_result"
    }
   ],
   "source": [
    "df[['time_class']]"
   ]
  },
  {
   "cell_type": "code",
   "execution_count": 29,
   "metadata": {},
   "outputs": [
    {
     "data": {
      "text/plain": [
       "same day      33827\n",
       "other         27538\n",
       "1 week        24133\n",
       "3 days        22483\n",
       "half month    20707\n",
       "1 day         19806\n",
       "2 month       17763\n",
       "1 month       17456\n",
       "3 month       11568\n",
       "4 month        7492\n",
       "Name: time_class, dtype: int64"
      ]
     },
     "execution_count": 29,
     "metadata": {},
     "output_type": "execute_result"
    }
   ],
   "source": [
    "df.time_class.value_counts()"
   ]
  },
  {
   "cell_type": "code",
   "execution_count": 30,
   "metadata": {},
   "outputs": [
    {
     "data": {
      "text/plain": [
       "<AxesSubplot:>"
      ]
     },
     "execution_count": 30,
     "metadata": {},
     "output_type": "execute_result"
    },
    {
     "data": {
      "image/png": "[encoded data removed]",
      "text/plain": [
       "<Figure size 432x288 with 1 Axes>"
      ]
     },
     "metadata": {
      "needs_background": "light"
     },
     "output_type": "display_data"
    }
   ],
   "source": [
    "df['time_class'].value_counts().plot(kind='barh')\n"
   ]
  },
  {
   "cell_type": "code",
   "execution_count": 31,
   "metadata": {},
   "outputs": [],
   "source": [
    "mapper = {\n",
    "'same day':0,\n",
    "'1 day':1,\n",
    "'3 days':2,\n",
    "'1 week':3,\n",
    "'half month':4,\n",
    "'1 month':5,\n",
    "'2 month':6,\n",
    "'3 month':7,\n",
    "'4 month':8,\n",
    "'other':9\n",
    "}"
   ]
  },
  {
   "cell_type": "code",
   "execution_count": 32,
   "metadata": {},
   "outputs": [],
   "source": [
    "df['time_class'] = df['time_class'].apply(lambda x: mapper[x])"
   ]
  },
  {
   "cell_type": "code",
   "execution_count": 34,
   "metadata": {},
   "outputs": [],
   "source": [
    "df = df.drop(['time'], axis = 1)"
   ]
  },
  {
   "cell_type": "code",
   "execution_count": 35,
   "metadata": {},
   "outputs": [],
   "source": [
    "from sklearn.model_selection import train_test_split\n",
    "\n",
    "df_train, df_rem = train_test_split(df, test_size=0.3, random_state=123)\n",
    "\n",
    "df_val, df_test = train_test_split(df_rem, test_size=0.5, random_state=123)"
   ]
  },
  {
   "attachments": {},
   "cell_type": "markdown",
   "metadata": {},
   "source": [
    "# Model"
   ]
  },
  {
   "cell_type": "code",
   "execution_count": 70,
   "metadata": {},
   "outputs": [],
   "source": [
    "import torch\n",
    "from torch.utils.data import Dataset, DataLoader\n",
    "import pandas as pd\n",
    "from sklearn.preprocessing import StandardScaler, MinMaxScaler\n",
    "from tqdm import tqdm\n",
    "\n",
    "class TabularDataset(Dataset):\n",
    "    def __init__(self, dataframe, feature_scaler, target_scaler):\n",
    "        self.data = dataframe.to_numpy()\n",
    "        self.targets = self.data[:, -1].reshape(-1)\n",
    "        # self.feature_scaler = feature_scaler\n",
    "        # self.target_scaler = target_scaler\n",
    "        # self.targets = self.target_scaler.transform(self.data[:, 0].reshape(-1, 1))\n",
    "        self.features = self.data[:, :-1]\n",
    "\n",
    "    def __len__(self):\n",
    "        return len(self.data)\n",
    "\n",
    "    def __getitem__(self, idx):\n",
    "        x = torch.tensor(self.features[idx], dtype=torch.float32)\n",
    "        y = torch.tensor(self.targets[idx], dtype=torch.long)\n",
    "        return x, y"
   ]
  },
  {
   "cell_type": "code",
   "execution_count": 71,
   "metadata": {},
   "outputs": [
    {
     "data": {
      "text/html": [
       "<style>#sk-container-id-7 {color: black;background-color: white;}#sk-container-id-7 pre{padding: 0;}#sk-container-id-7 div.sk-toggleable {background-color: white;}#sk-container-id-7 label.sk-toggleable__label {cursor: pointer;display: block;width: 100%;margin-bottom: 0;padding: 0.3em;box-sizing: border-box;text-align: center;}#sk-container-id-7 label.sk-toggleable__label-arrow:before {content: \"▸\";float: left;margin-right: 0.25em;color: #696969;}#sk-container-id-7 label.sk-toggleable__label-arrow:hover:before {color: black;}#sk-container-id-7 div.sk-estimator:hover label.sk-toggleable__label-arrow:before {color: black;}#sk-container-id-7 div.sk-toggleable__content {max-height: 0;max-width: 0;overflow: hidden;text-align: left;background-color: #f0f8ff;}#sk-container-id-7 div.sk-toggleable__content pre {margin: 0.2em;color: black;border-radius: 0.25em;background-color: #f0f8ff;}#sk-container-id-7 input.sk-toggleable__control:checked~div.sk-toggleable__content {max-height: 200px;max-width: 100%;overflow: auto;}#sk-container-id-7 input.sk-toggleable__control:checked~label.sk-toggleable__label-arrow:before {content: \"▾\";}#sk-container-id-7 div.sk-estimator input.sk-toggleable__control:checked~label.sk-toggleable__label {background-color: #d4ebff;}#sk-container-id-7 div.sk-label input.sk-toggleable__control:checked~label.sk-toggleable__label {background-color: #d4ebff;}#sk-container-id-7 input.sk-hidden--visually {border: 0;clip: rect(1px 1px 1px 1px);clip: rect(1px, 1px, 1px, 1px);height: 1px;margin: -1px;overflow: hidden;padding: 0;position: absolute;width: 1px;}#sk-container-id-7 div.sk-estimator {font-family: monospace;background-color: #f0f8ff;border: 1px dotted black;border-radius: 0.25em;box-sizing: border-box;margin-bottom: 0.5em;}#sk-container-id-7 div.sk-estimator:hover {background-color: #d4ebff;}#sk-container-id-7 div.sk-parallel-item::after {content: \"\";width: 100%;border-bottom: 1px solid gray;flex-grow: 1;}#sk-container-id-7 div.sk-label:hover label.sk-toggleable__label {background-color: #d4ebff;}#sk-container-id-7 div.sk-serial::before {content: \"\";position: absolute;border-left: 1px solid gray;box-sizing: border-box;top: 0;bottom: 0;left: 50%;z-index: 0;}#sk-container-id-7 div.sk-serial {display: flex;flex-direction: column;align-items: center;background-color: white;padding-right: 0.2em;padding-left: 0.2em;position: relative;}#sk-container-id-7 div.sk-item {position: relative;z-index: 1;}#sk-container-id-7 div.sk-parallel {display: flex;align-items: stretch;justify-content: center;background-color: white;position: relative;}#sk-container-id-7 div.sk-item::before, #sk-container-id-7 div.sk-parallel-item::before {content: \"\";position: absolute;border-left: 1px solid gray;box-sizing: border-box;top: 0;bottom: 0;left: 50%;z-index: -1;}#sk-container-id-7 div.sk-parallel-item {display: flex;flex-direction: column;z-index: 1;position: relative;background-color: white;}#sk-container-id-7 div.sk-parallel-item:first-child::after {align-self: flex-end;width: 50%;}#sk-container-id-7 div.sk-parallel-item:last-child::after {align-self: flex-start;width: 50%;}#sk-container-id-7 div.sk-parallel-item:only-child::after {width: 0;}#sk-container-id-7 div.sk-dashed-wrapped {border: 1px dashed gray;margin: 0 0.4em 0.5em 0.4em;box-sizing: border-box;padding-bottom: 0.4em;background-color: white;}#sk-container-id-7 div.sk-label label {font-family: monospace;font-weight: bold;display: inline-block;line-height: 1.2em;}#sk-container-id-7 div.sk-label-container {text-align: center;}#sk-container-id-7 div.sk-container {/* jupyter's `normalize.less` sets `[hidden] { display: none; }` but bootstrap.min.css set `[hidden] { display: none !important; }` so we also need the `!important` here to be able to override the default hidden behavior on the sphinx rendered scikit-learn.org. See: https://github.com/scikit-learn/scikit-learn/issues/21755 */display: inline-block !important;position: relative;}#sk-container-id-7 div.sk-text-repr-fallback {display: none;}</style><div id=\"sk-container-id-7\" class=\"sk-top-container\"><div class=\"sk-text-repr-fallback\"><pre>MinMaxScaler()</pre><b>In a Jupyter environment, please rerun this cell to show the HTML representation or trust the notebook. <br />On GitHub, the HTML representation is unable to render, please try loading this page with nbviewer.org.</b></div><div class=\"sk-container\" hidden><div class=\"sk-item\"><div class=\"sk-estimator sk-toggleable\"><input class=\"sk-toggleable__control sk-hidden--visually\" id=\"sk-estimator-id-7\" type=\"checkbox\" checked><label for=\"sk-estimator-id-7\" class=\"sk-toggleable__label sk-toggleable__label-arrow\">MinMaxScaler</label><div class=\"sk-toggleable__content\"><pre>MinMaxScaler()</pre></div></div></div></div></div>"
      ],
      "text/plain": [
       "MinMaxScaler()"
      ]
     },
     "execution_count": 71,
     "metadata": {},
     "output_type": "execute_result"
    }
   ],
   "source": [
    "feature_scaler = MinMaxScaler()\n",
    "feature_scaler.fit(df_train.iloc[:, 1:])\n",
    "\n",
    "target_scaler = MinMaxScaler()\n",
    "target_scaler.fit(df_train.iloc[:, 0].values.reshape(-1, 1))"
   ]
  },
  {
   "cell_type": "code",
   "execution_count": 72,
   "metadata": {},
   "outputs": [],
   "source": [
    "train_dataset = TabularDataset(df_train, feature_scaler, target_scaler)\n",
    "val_dataset = TabularDataset(df_val, feature_scaler, target_scaler)\n",
    "test_dataset = TabularDataset(df_test, feature_scaler, target_scaler)\n",
    "\n",
    "\n",
    "train_loader = DataLoader(train_dataset, batch_size=64, shuffle=True)\n",
    "val_loader = DataLoader(val_dataset, batch_size=64, shuffle=False)\n",
    "test_loader = DataLoader(test_dataset, batch_size=64, shuffle=False)"
   ]
  },
  {
   "cell_type": "code",
   "execution_count": 73,
   "metadata": {},
   "outputs": [],
   "source": [
    "import torch.nn as nn\n",
    "import torch.nn.functional as F\n",
    "\n",
    "class TabularModel(torch.nn.Module):\n",
    "    def __init__(self, input_size):\n",
    "        super().__init__()\n",
    "        self.fc1 = torch.nn.Linear(input_size, 256)\n",
    "        self.fc2 = torch.nn.Linear(256, 128)\n",
    "        self.fc3 = torch.nn.Linear(128, 10)\n",
    "        self.dropout = nn.Dropout(0.3)\n",
    "\n",
    "    def forward(self, x):\n",
    "        x = torch.relu(self.fc1(x))\n",
    "        x = self.dropout(x)\n",
    "        x = torch.relu(self.fc2(x))\n",
    "        x = self.dropout(x)\n",
    "        x = self.fc3(x)\n",
    "        return x"
   ]
  },
  {
   "cell_type": "code",
   "execution_count": 101,
   "metadata": {},
   "outputs": [],
   "source": [
    "model = TabularModel(input_size=df_train.shape[1]-1)\n",
    "criterion = torch.nn.CrossEntropyLoss()\n",
    "optimizer = torch.optim.Adam(model.parameters(), lr=1e-3)"
   ]
  },
  {
   "cell_type": "code",
   "execution_count": 102,
   "metadata": {},
   "outputs": [
    {
     "name": "stderr",
     "output_type": "stream",
     "text": [
      "100%|██████████| 2218/2218 [00:07<00:00, 308.03it/s]\n",
      "100%|██████████| 476/476 [00:02<00:00, 181.66it/s]\n"
     ]
    },
    {
     "name": "stdout",
     "output_type": "stream",
     "text": [
      "Epoch 1, Train Loss: 2.122857, Test Loss: 2.093776\n"
     ]
    },
    {
     "name": "stderr",
     "output_type": "stream",
     "text": [
      "100%|██████████| 2218/2218 [00:12<00:00, 180.29it/s]\n",
      "100%|██████████| 476/476 [00:00<00:00, 757.88it/s]\n"
     ]
    },
    {
     "name": "stdout",
     "output_type": "stream",
     "text": [
      "Epoch 2, Train Loss: 2.093804, Test Loss: 2.088883\n"
     ]
    },
    {
     "name": "stderr",
     "output_type": "stream",
     "text": [
      "100%|██████████| 2218/2218 [00:12<00:00, 171.47it/s]\n",
      "100%|██████████| 476/476 [00:05<00:00, 90.01it/s] \n"
     ]
    },
    {
     "name": "stdout",
     "output_type": "stream",
     "text": [
      "Epoch 3, Train Loss: 2.086589, Test Loss: 2.082826\n"
     ]
    },
    {
     "name": "stderr",
     "output_type": "stream",
     "text": [
      "100%|██████████| 2218/2218 [00:09<00:00, 225.96it/s]\n",
      "100%|██████████| 476/476 [00:00<00:00, 686.99it/s]\n"
     ]
    },
    {
     "name": "stdout",
     "output_type": "stream",
     "text": [
      "Epoch 4, Train Loss: 2.081349, Test Loss: 2.084560\n"
     ]
    },
    {
     "name": "stderr",
     "output_type": "stream",
     "text": [
      "100%|██████████| 2218/2218 [00:11<00:00, 190.40it/s]\n",
      "100%|██████████| 476/476 [00:00<00:00, 621.77it/s]\n"
     ]
    },
    {
     "name": "stdout",
     "output_type": "stream",
     "text": [
      "Epoch 5, Train Loss: 2.077807, Test Loss: 2.083102\n"
     ]
    },
    {
     "name": "stderr",
     "output_type": "stream",
     "text": [
      "100%|██████████| 2218/2218 [00:11<00:00, 198.48it/s]\n",
      "100%|██████████| 476/476 [00:00<00:00, 590.82it/s]\n"
     ]
    },
    {
     "name": "stdout",
     "output_type": "stream",
     "text": [
      "Epoch 6, Train Loss: 2.075082, Test Loss: 2.084868\n"
     ]
    },
    {
     "name": "stderr",
     "output_type": "stream",
     "text": [
      "100%|██████████| 2218/2218 [00:09<00:00, 244.90it/s]\n",
      "100%|██████████| 476/476 [00:03<00:00, 122.83it/s]\n"
     ]
    },
    {
     "name": "stdout",
     "output_type": "stream",
     "text": [
      "Epoch 7, Train Loss: 2.072075, Test Loss: 2.082254\n"
     ]
    },
    {
     "name": "stderr",
     "output_type": "stream",
     "text": [
      "100%|██████████| 2218/2218 [00:12<00:00, 180.88it/s]\n",
      "100%|██████████| 476/476 [00:02<00:00, 207.80it/s]\n"
     ]
    },
    {
     "name": "stdout",
     "output_type": "stream",
     "text": [
      "Epoch 8, Train Loss: 2.070350, Test Loss: 2.082397\n"
     ]
    },
    {
     "name": "stderr",
     "output_type": "stream",
     "text": [
      "100%|██████████| 2218/2218 [00:10<00:00, 221.22it/s]\n",
      "100%|██████████| 476/476 [00:00<00:00, 661.13it/s]\n"
     ]
    },
    {
     "name": "stdout",
     "output_type": "stream",
     "text": [
      "Epoch 9, Train Loss: 2.067968, Test Loss: 2.082443\n"
     ]
    },
    {
     "name": "stderr",
     "output_type": "stream",
     "text": [
      "100%|██████████| 2218/2218 [00:11<00:00, 189.89it/s]\n",
      "100%|██████████| 476/476 [00:00<00:00, 718.83it/s]"
     ]
    },
    {
     "name": "stdout",
     "output_type": "stream",
     "text": [
      "Epoch 10, Train Loss: 2.066056, Test Loss: 2.078436\n"
     ]
    },
    {
     "name": "stderr",
     "output_type": "stream",
     "text": [
      "\n"
     ]
    }
   ],
   "source": [
    "import matplotlib.pyplot as plt\n",
    "\n",
    "EPOCHS = 10\n",
    "train_losses = []\n",
    "test_losses = []\n",
    "\n",
    "for epoch in range(EPOCHS):\n",
    "    train_loss = 0.0\n",
    "    for (inputs, targets) in tqdm(train_loader):\n",
    "        optimizer.zero_grad()\n",
    "        outputs = model(inputs)\n",
    "        # print(outputs.shape)\n",
    "        # print(targets.shape)\n",
    "        loss = criterion(outputs, targets)\n",
    "        loss.backward()\n",
    "        optimizer.step()\n",
    "        train_loss += loss.item()\n",
    "    train_loss /= len(train_loader)\n",
    "    train_losses.append(train_loss)\n",
    "\n",
    "    test_loss = 0.0\n",
    "    for (inputs, targets) in tqdm(val_loader):\n",
    "        outputs = model(inputs)\n",
    "        loss = criterion(outputs, targets)\n",
    "        test_loss += loss.item()\n",
    "    test_loss /= len(test_loader)\n",
    "    test_losses.append(test_loss)\n",
    "    \n",
    "    print(f'Epoch {epoch+1}, Train Loss: {train_loss:.6f}, Test Loss: {test_loss:.6f}')"
   ]
  },
  {
   "cell_type": "code",
   "execution_count": 103,
   "metadata": {},
   "outputs": [
    {
     "data": {
      "image/png": "[encoded data removed]",
      "text/plain": [
       "<Figure size 432x288 with 1 Axes>"
      ]
     },
     "metadata": {
      "needs_background": "light"
     },
     "output_type": "display_data"
    }
   ],
   "source": [
    "# Plotting the loss\n",
    "plt.plot(train_losses, label='Train Loss')\n",
    "plt.plot(test_losses, label='Test Loss')\n",
    "plt.xlabel('Epoch')\n",
    "plt.ylabel('Loss')\n",
    "plt.legend()\n",
    "plt.show()"
   ]
  },
  {
   "cell_type": "code",
   "execution_count": 104,
   "metadata": {},
   "outputs": [],
   "source": [
    "from sklearn.metrics import mean_squared_error, mean_absolute_error\n",
    "from sklearn.metrics import classification_report\n",
    "import pandas as pd\n",
    "\n",
    "def evaluate_model(model, dataloader, feature_scaler, target_scaler):\n",
    "    criterion = torch.nn.MSELoss()\n",
    "    model.eval()\n",
    "    total_loss = 0.0\n",
    "    y_true = []\n",
    "    y_pred = []\n",
    "    with torch.no_grad():\n",
    "        for inputs, targets in dataloader:\n",
    "            outputs = model(inputs)\n",
    "            #outputs = outputs.reshape(-1)\n",
    "            #print(outputs.shape)\n",
    "            #loss = criterion(outputs, targets)\n",
    "            outputs = outputs.argmax(-1)\n",
    "            #total_loss += loss.item()\n",
    "            y_true.extend(targets.numpy())\n",
    "            y_pred.extend(outputs.numpy())\n",
    "    \n",
    "    # Inverse transform the scaled values\n",
    "    # y_true = target_scaler.inverse_transform(y_true)\n",
    "    # y_pred = target_scaler.inverse_transform(y_pred)\n",
    "    report = classification_report(y_true, y_pred)\n",
    "    # mse = mean_squared_error(y_true, y_pred)\n",
    "    # mae = mean_absolute_error(y_true, y_pred)\n",
    "    # rmse = mean_squared_error(y_true, y_pred, squared=False)\n",
    "    \n",
    "    df = pd.DataFrame({'Actual': y_true, 'Predicted': y_pred})\n",
    "    \n",
    "    return report, df"
   ]
  },
  {
   "cell_type": "code",
   "execution_count": 105,
   "metadata": {},
   "outputs": [
    {
     "name": "stdout",
     "output_type": "stream",
     "text": [
      "              precision    recall  f1-score   support\n",
      "\n",
      "           0       0.24      0.74      0.36     23610\n",
      "           1       0.35      0.01      0.01     13957\n",
      "           2       0.23      0.05      0.09     15807\n",
      "           3       0.22      0.18      0.20     16909\n",
      "           4       0.20      0.12      0.15     14480\n",
      "           5       0.25      0.02      0.04     12214\n",
      "           6       0.25      0.06      0.10     12442\n",
      "           7       0.24      0.03      0.05      8090\n",
      "           8       0.37      0.04      0.07      5186\n",
      "           9       0.35      0.66      0.45     19246\n",
      "\n",
      "    accuracy                           0.26    141941\n",
      "   macro avg       0.27      0.19      0.15    141941\n",
      "weighted avg       0.26      0.26      0.19    141941\n",
      "\n"
     ]
    },
    {
     "data": {
      "text/html": [
       "<div>\n",
       "<style scoped>\n",
       "    .dataframe tbody tr th:only-of-type {\n",
       "        vertical-align: middle;\n",
       "    }\n",
       "\n",
       "    .dataframe tbody tr th {\n",
       "        vertical-align: top;\n",
       "    }\n",
       "\n",
       "    .dataframe thead th {\n",
       "        text-align: right;\n",
       "    }\n",
       "</style>\n",
       "<table border=\"1\" class=\"dataframe\">\n",
       "  <thead>\n",
       "    <tr style=\"text-align: right;\">\n",
       "      <th></th>\n",
       "      <th>Actual</th>\n",
       "      <th>Predicted</th>\n",
       "    </tr>\n",
       "  </thead>\n",
       "  <tbody>\n",
       "    <tr>\n",
       "      <th>0</th>\n",
       "      <td>0</td>\n",
       "      <td>0</td>\n",
       "    </tr>\n",
       "    <tr>\n",
       "      <th>1</th>\n",
       "      <td>9</td>\n",
       "      <td>9</td>\n",
       "    </tr>\n",
       "    <tr>\n",
       "      <th>2</th>\n",
       "      <td>0</td>\n",
       "      <td>0</td>\n",
       "    </tr>\n",
       "    <tr>\n",
       "      <th>3</th>\n",
       "      <td>7</td>\n",
       "      <td>0</td>\n",
       "    </tr>\n",
       "    <tr>\n",
       "      <th>4</th>\n",
       "      <td>9</td>\n",
       "      <td>9</td>\n",
       "    </tr>\n",
       "  </tbody>\n",
       "</table>\n",
       "</div>"
      ],
      "text/plain": [
       "   Actual  Predicted\n",
       "0       0          0\n",
       "1       9          9\n",
       "2       0          0\n",
       "3       7          0\n",
       "4       9          9"
      ]
     },
     "execution_count": 105,
     "metadata": {},
     "output_type": "execute_result"
    }
   ],
   "source": [
    "report, results_df = evaluate_model(model, train_loader, feature_scaler, target_scaler)\n",
    "# print(f'Train MSE: {train_mse:.4f}')\n",
    "# print(f'Train MAE: {train_mae:.4f}')\n",
    "# print(f'Train RMSE: {train_rmse:.4f}')\n",
    "print(report)\n",
    "\n",
    "results_df.head()"
   ]
  },
  {
   "cell_type": "code",
   "execution_count": 106,
   "metadata": {},
   "outputs": [
    {
     "name": "stdout",
     "output_type": "stream",
     "text": [
      "              precision    recall  f1-score   support\n",
      "\n",
      "           0       0.23      0.72      0.35      5055\n",
      "           1       0.39      0.01      0.01      2898\n",
      "           2       0.21      0.05      0.08      3339\n",
      "           3       0.20      0.17      0.18      3691\n",
      "           4       0.17      0.10      0.12      3021\n",
      "           5       0.19      0.01      0.03      2643\n",
      "           6       0.19      0.05      0.08      2681\n",
      "           7       0.30      0.04      0.06      1765\n",
      "           8       0.30      0.03      0.06      1148\n",
      "           9       0.35      0.65      0.45      4175\n",
      "\n",
      "    accuracy                           0.25     30416\n",
      "   macro avg       0.25      0.18      0.14     30416\n",
      "weighted avg       0.25      0.25      0.18     30416\n",
      "\n"
     ]
    },
    {
     "data": {
      "text/html": [
       "<div>\n",
       "<style scoped>\n",
       "    .dataframe tbody tr th:only-of-type {\n",
       "        vertical-align: middle;\n",
       "    }\n",
       "\n",
       "    .dataframe tbody tr th {\n",
       "        vertical-align: top;\n",
       "    }\n",
       "\n",
       "    .dataframe thead th {\n",
       "        text-align: right;\n",
       "    }\n",
       "</style>\n",
       "<table border=\"1\" class=\"dataframe\">\n",
       "  <thead>\n",
       "    <tr style=\"text-align: right;\">\n",
       "      <th></th>\n",
       "      <th>Actual</th>\n",
       "      <th>Predicted</th>\n",
       "    </tr>\n",
       "  </thead>\n",
       "  <tbody>\n",
       "    <tr>\n",
       "      <th>0</th>\n",
       "      <td>0</td>\n",
       "      <td>0</td>\n",
       "    </tr>\n",
       "    <tr>\n",
       "      <th>1</th>\n",
       "      <td>9</td>\n",
       "      <td>9</td>\n",
       "    </tr>\n",
       "    <tr>\n",
       "      <th>2</th>\n",
       "      <td>8</td>\n",
       "      <td>0</td>\n",
       "    </tr>\n",
       "    <tr>\n",
       "      <th>3</th>\n",
       "      <td>1</td>\n",
       "      <td>0</td>\n",
       "    </tr>\n",
       "    <tr>\n",
       "      <th>4</th>\n",
       "      <td>2</td>\n",
       "      <td>0</td>\n",
       "    </tr>\n",
       "  </tbody>\n",
       "</table>\n",
       "</div>"
      ],
      "text/plain": [
       "   Actual  Predicted\n",
       "0       0          0\n",
       "1       9          9\n",
       "2       8          0\n",
       "3       1          0\n",
       "4       2          0"
      ]
     },
     "execution_count": 106,
     "metadata": {},
     "output_type": "execute_result"
    }
   ],
   "source": [
    "# Usage:\n",
    "report, results_df = evaluate_model(model, test_loader, feature_scaler, target_scaler)\n",
    "# print(f'Test MSE: {test_mse:.4f}')\n",
    "# print(f'Test MAE: {test_mae:.4f}')\n",
    "# print(f'Test RMSE: {test_rmse:.4f}')\n",
    "print(report)\n",
    "\n",
    "results_df.head()  # Print the first few rows of the results DataFrame"
   ]
  },
  {
   "cell_type": "code",
   "execution_count": 107,
   "metadata": {},
   "outputs": [
    {
     "data": {
      "text/html": [
       "<div>\n",
       "<style scoped>\n",
       "    .dataframe tbody tr th:only-of-type {\n",
       "        vertical-align: middle;\n",
       "    }\n",
       "\n",
       "    .dataframe tbody tr th {\n",
       "        vertical-align: top;\n",
       "    }\n",
       "\n",
       "    .dataframe thead th {\n",
       "        text-align: right;\n",
       "    }\n",
       "</style>\n",
       "<table border=\"1\" class=\"dataframe\">\n",
       "  <thead>\n",
       "    <tr style=\"text-align: right;\">\n",
       "      <th></th>\n",
       "      <th>Actual</th>\n",
       "      <th>Predicted</th>\n",
       "    </tr>\n",
       "  </thead>\n",
       "  <tbody>\n",
       "    <tr>\n",
       "      <th>count</th>\n",
       "      <td>30416.000000</td>\n",
       "      <td>30416.000000</td>\n",
       "    </tr>\n",
       "    <tr>\n",
       "      <th>mean</th>\n",
       "      <td>3.983035</td>\n",
       "      <td>3.135619</td>\n",
       "    </tr>\n",
       "    <tr>\n",
       "      <th>std</th>\n",
       "      <td>3.012360</td>\n",
       "      <td>3.790336</td>\n",
       "    </tr>\n",
       "    <tr>\n",
       "      <th>min</th>\n",
       "      <td>0.000000</td>\n",
       "      <td>0.000000</td>\n",
       "    </tr>\n",
       "    <tr>\n",
       "      <th>25%</th>\n",
       "      <td>1.000000</td>\n",
       "      <td>0.000000</td>\n",
       "    </tr>\n",
       "    <tr>\n",
       "      <th>50%</th>\n",
       "      <td>4.000000</td>\n",
       "      <td>0.000000</td>\n",
       "    </tr>\n",
       "    <tr>\n",
       "      <th>75%</th>\n",
       "      <td>6.000000</td>\n",
       "      <td>9.000000</td>\n",
       "    </tr>\n",
       "    <tr>\n",
       "      <th>max</th>\n",
       "      <td>9.000000</td>\n",
       "      <td>9.000000</td>\n",
       "    </tr>\n",
       "  </tbody>\n",
       "</table>\n",
       "</div>"
      ],
      "text/plain": [
       "             Actual     Predicted\n",
       "count  30416.000000  30416.000000\n",
       "mean       3.983035      3.135619\n",
       "std        3.012360      3.790336\n",
       "min        0.000000      0.000000\n",
       "25%        1.000000      0.000000\n",
       "50%        4.000000      0.000000\n",
       "75%        6.000000      9.000000\n",
       "max        9.000000      9.000000"
      ]
     },
     "execution_count": 107,
     "metadata": {},
     "output_type": "execute_result"
    }
   ],
   "source": [
    "results_df.describe()"
   ]
  }
 ],
 "metadata": {
  "kernelspec": {
   "display_name": "torch2",
   "language": "python",
   "name": "python3"
  },
  "language_info": {
   "codemirror_mode": {
    "name": "ipython",
    "version": 3
   },
   "file_extension": ".py",
   "mimetype": "text/x-python",
   "name": "python",
   "nbconvert_exporter": "python",
   "pygments_lexer": "ipython3",
   "version": "3.9.7"
  },
  "orig_nbformat": 4
 },
 "nbformat": 4,
 "nbformat_minor": 2
}
