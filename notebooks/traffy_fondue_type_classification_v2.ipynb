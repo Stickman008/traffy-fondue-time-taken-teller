{
  "cells": [
    {
      "cell_type": "code",
      "execution_count": null,
      "metadata": {
        "id": "aDXeXf_Lw1oN"
      },
      "outputs": [],
      "source": [
        "# Don't use pls\n",
        "\n",
        "# import requests\n",
        "\n",
        "# url = \"https://publicapi.traffy.in.th/dump-csv-chadchart/bangkok_traffy.csv\"\n",
        "# response = requests.get(url)\n",
        "\n",
        "# if response.status_code == 200:\n",
        "#     with open(\"bangkok_traffy.csv\", \"wb\") as f:\n",
        "#         f.write(response.content)\n",
        "#     print(\"Data downloaded successfully.\")\n",
        "# else:\n",
        "#     print(f\"Failed to download data. Status code: {response.status_code}\")"
      ]
    },
    {
      "cell_type": "code",
      "execution_count": null,
      "metadata": {
        "id": "WsDAUA_19cus"
      },
      "outputs": [],
      "source": [
        "# !pip install pythainlp -q\n",
        "# !pip install --no-cache-dir transformers sentencepiece -q"
      ]
    },
    {
      "cell_type": "code",
      "execution_count": null,
      "metadata": {
        "colab": {
          "base_uri": "https://localhost:8080/"
        },
        "id": "pAExOVQAxi8i",
        "outputId": "9b172376-e1dc-49e4-a55c-09e5f7076de4"
      },
      "outputs": [
        {
          "name": "stdout",
          "output_type": "stream",
          "text": [
            "Downloading...\n",
            "From: https://drive.google.com/uc?id=1uNAYBPerV6IaiWXLPF4Efkxb4Gg-U4Cz\n",
            "To: /content/bangkok_traffy.csv\n",
            "100% 362M/362M [00:04<00:00, 87.8MB/s]\n"
          ]
        }
      ],
      "source": [
        "# !gdown 1uNAYBPerV6IaiWXLPF4Efkxb4Gg-U4Cz"
      ]
    },
    {
      "cell_type": "code",
      "execution_count": null,
      "metadata": {
        "id": "94hiwOByytB5"
      },
      "outputs": [],
      "source": [
        "import numpy as np\n",
        "import pandas as pd\n",
        "from tqdm.auto import tqdm\n",
        "tqdm.pandas()"
      ]
    },
    {
      "attachments": {},
      "cell_type": "markdown",
      "metadata": {
        "id": "IkfTQJzT4698"
      },
      "source": [
        "# Load Data"
      ]
    },
    {
      "cell_type": "code",
      "execution_count": null,
      "metadata": {
        "id": "_NrsnADHySLj"
      },
      "outputs": [],
      "source": [
        "df = pd.read_csv(\"../data/clean_with_spark.csv\")"
      ]
    },
    {
      "cell_type": "code",
      "execution_count": null,
      "metadata": {
        "id": "li19w185yxMq"
      },
      "outputs": [],
      "source": [
        "# df.head()"
      ]
    },
    {
      "attachments": {},
      "cell_type": "markdown",
      "metadata": {
        "id": "F0M5i9Wz4-Ik"
      },
      "source": [
        "# Select and Clean feature & target columns"
      ]
    },
    {
      "cell_type": "code",
      "execution_count": null,
      "metadata": {
        "id": "6Trxn4xtytSR"
      },
      "outputs": [],
      "source": [
        "df = df[[\"type\", \"comment\", \"province\"]]"
      ]
    },
    {
      "cell_type": "code",
      "execution_count": null,
      "metadata": {
        "id": "QHG7QK_Ayvbm"
      },
      "outputs": [],
      "source": [
        "df = df[df['province'].str.contains('กรุงเทพ|bangkok',na=False,case=False)]\n",
        "df = df.drop([\"province\"], axis=1)"
      ]
    },
    {
      "cell_type": "code",
      "execution_count": null,
      "metadata": {
        "id": "tiNyODBO-fsu"
      },
      "outputs": [],
      "source": [
        "df['type'].dropna(axis=0, inplace=True)\n",
        "df['comment'].dropna(axis=0, inplace=True)"
      ]
    },
    {
      "cell_type": "code",
      "execution_count": null,
      "metadata": {
        "id": "U9gklLbe2bFa"
      },
      "outputs": [],
      "source": [
        "df['type'].fillna('', inplace=True) \n",
        "df['type'] = df['type'].astype(str) \n",
        "df['type'] = df['type'].str.strip('{}').apply(lambda x :[e for e in x.split(',') if e])"
      ]
    },
    {
      "cell_type": "code",
      "execution_count": null,
      "metadata": {
        "id": "k-Oc2ayT7OlX"
      },
      "outputs": [],
      "source": [
        "df = df.reset_index(drop=True)"
      ]
    },
    {
      "cell_type": "code",
      "execution_count": null,
      "metadata": {
        "colab": {
          "base_uri": "https://localhost:8080/",
          "height": 424
        },
        "id": "2j5DKDXx2hfn",
        "outputId": "002a47f7-7555-4bac-a020-c54e3f68fed9"
      },
      "outputs": [
        {
          "data": {
            "text/html": [
              "\n",
              "  <div id=\"df-4cdf4e52-3c61-40c3-80bf-47ee604197a9\">\n",
              "    <div class=\"colab-df-container\">\n",
              "      <div>\n",
              "<style scoped>\n",
              "    .dataframe tbody tr th:only-of-type {\n",
              "        vertical-align: middle;\n",
              "    }\n",
              "\n",
              "    .dataframe tbody tr th {\n",
              "        vertical-align: top;\n",
              "    }\n",
              "\n",
              "    .dataframe thead th {\n",
              "        text-align: right;\n",
              "    }\n",
              "</style>\n",
              "<table border=\"1\" class=\"dataframe\">\n",
              "  <thead>\n",
              "    <tr style=\"text-align: right;\">\n",
              "      <th></th>\n",
              "      <th>type</th>\n",
              "      <th>comment</th>\n",
              "    </tr>\n",
              "  </thead>\n",
              "  <tbody>\n",
              "    <tr>\n",
              "      <th>0</th>\n",
              "      <td>[]</td>\n",
              "      <td>ไม่มีภาพ</td>\n",
              "    </tr>\n",
              "    <tr>\n",
              "      <th>1</th>\n",
              "      <td>[ความสะอาด]</td>\n",
              "      <td>ขยะเยอะ</td>\n",
              "    </tr>\n",
              "    <tr>\n",
              "      <th>2</th>\n",
              "      <td>[สายไฟ]</td>\n",
              "      <td>1. เถาวัลย์งอดบนสายไฟ ผมกลัวว่าต่อไปจะเอาออกยา...</td>\n",
              "    </tr>\n",
              "    <tr>\n",
              "      <th>3</th>\n",
              "      <td>[ถนน, สะพาน]</td>\n",
              "      <td>1 ซ่อมทางเท้าหลังคืนพื้นที่จากการปรับปรุงสะพาน...</td>\n",
              "    </tr>\n",
              "    <tr>\n",
              "      <th>4</th>\n",
              "      <td>[น้ำท่วม, ร้องเรียน]</td>\n",
              "      <td>น้ำท่วมเวลาฝนตกและทะลุเข้าบ้านเดือดร้อนมากทุกๆ...</td>\n",
              "    </tr>\n",
              "    <tr>\n",
              "      <th>...</th>\n",
              "      <td>...</td>\n",
              "      <td>...</td>\n",
              "    </tr>\n",
              "    <tr>\n",
              "      <th>273112</th>\n",
              "      <td>[ความสะอาด]</td>\n",
              "      <td>ไม่มีเจ้าหน้าที่มาเก็บขยะหลายวันแล้วคะ</td>\n",
              "    </tr>\n",
              "    <tr>\n",
              "      <th>273113</th>\n",
              "      <td>[ถนน, คลอง]</td>\n",
              "      <td>* ปัญหา: ประชาชนพบจระเข้ 2 ตัว ขอให้ดำเนินการจ...</td>\n",
              "    </tr>\n",
              "    <tr>\n",
              "      <th>273114</th>\n",
              "      <td>[ถนน]</td>\n",
              "      <td>* ปัญหา: ประชาชนต้องการให้เจ้าหน้าที่มาเก็บขยะ...</td>\n",
              "    </tr>\n",
              "    <tr>\n",
              "      <th>273115</th>\n",
              "      <td>[]</td>\n",
              "      <td>ผมขับมอเตอร์ไซค์ผ่าน บริเวณสายสอง มีกลุ่มควันเ...</td>\n",
              "    </tr>\n",
              "    <tr>\n",
              "      <th>273116</th>\n",
              "      <td>[ถนน]</td>\n",
              "      <td>ถนนไม่ดี</td>\n",
              "    </tr>\n",
              "  </tbody>\n",
              "</table>\n",
              "<p>273117 rows × 2 columns</p>\n",
              "</div>\n",
              "      <button class=\"colab-df-convert\" onclick=\"convertToInteractive('df-4cdf4e52-3c61-40c3-80bf-47ee604197a9')\"\n",
              "              title=\"Convert this dataframe to an interactive table.\"\n",
              "              style=\"display:none;\">\n",
              "        \n",
              "  <svg xmlns=\"http://www.w3.org/2000/svg\" height=\"24px\"viewBox=\"0 0 24 24\"\n",
              "       width=\"24px\">\n",
              "    <path d=\"M0 0h24v24H0V0z\" fill=\"none\"/>\n",
              "    <path d=\"M18.56 5.44l.94 2.06.94-2.06 2.06-.94-2.06-.94-.94-2.06-.94 2.06-2.06.94zm-11 1L8.5 8.5l.94-2.06 2.06-.94-2.06-.94L8.5 2.5l-.94 2.06-2.06.94zm10 10l.94 2.06.94-2.06 2.06-.94-2.06-.94-.94-2.06-.94 2.06-2.06.94z\"/><path d=\"M17.41 7.96l-1.37-1.37c-.4-.4-.92-.59-1.43-.59-.52 0-1.04.2-1.43.59L10.3 9.45l-7.72 7.72c-.78.78-.78 2.05 0 2.83L4 21.41c.39.39.9.59 1.41.59.51 0 1.02-.2 1.41-.59l7.78-7.78 2.81-2.81c.8-.78.8-2.07 0-2.86zM5.41 20L4 18.59l7.72-7.72 1.47 1.35L5.41 20z\"/>\n",
              "  </svg>\n",
              "      </button>\n",
              "      \n",
              "  <style>\n",
              "    .colab-df-container {\n",
              "      display:flex;\n",
              "      flex-wrap:wrap;\n",
              "      gap: 12px;\n",
              "    }\n",
              "\n",
              "    .colab-df-convert {\n",
              "      background-color: #E8F0FE;\n",
              "      border: none;\n",
              "      border-radius: 50%;\n",
              "      cursor: pointer;\n",
              "      display: none;\n",
              "      fill: #1967D2;\n",
              "      height: 32px;\n",
              "      padding: 0 0 0 0;\n",
              "      width: 32px;\n",
              "    }\n",
              "\n",
              "    .colab-df-convert:hover {\n",
              "      background-color: #E2EBFA;\n",
              "      box-shadow: 0px 1px 2px rgba(60, 64, 67, 0.3), 0px 1px 3px 1px rgba(60, 64, 67, 0.15);\n",
              "      fill: #174EA6;\n",
              "    }\n",
              "\n",
              "    [theme=dark] .colab-df-convert {\n",
              "      background-color: #3B4455;\n",
              "      fill: #D2E3FC;\n",
              "    }\n",
              "\n",
              "    [theme=dark] .colab-df-convert:hover {\n",
              "      background-color: #434B5C;\n",
              "      box-shadow: 0px 1px 3px 1px rgba(0, 0, 0, 0.15);\n",
              "      filter: drop-shadow(0px 1px 2px rgba(0, 0, 0, 0.3));\n",
              "      fill: #FFFFFF;\n",
              "    }\n",
              "  </style>\n",
              "\n",
              "      <script>\n",
              "        const buttonEl =\n",
              "          document.querySelector('#df-4cdf4e52-3c61-40c3-80bf-47ee604197a9 button.colab-df-convert');\n",
              "        buttonEl.style.display =\n",
              "          google.colab.kernel.accessAllowed ? 'block' : 'none';\n",
              "\n",
              "        async function convertToInteractive(key) {\n",
              "          const element = document.querySelector('#df-4cdf4e52-3c61-40c3-80bf-47ee604197a9');\n",
              "          const dataTable =\n",
              "            await google.colab.kernel.invokeFunction('convertToInteractive',\n",
              "                                                     [key], {});\n",
              "          if (!dataTable) return;\n",
              "\n",
              "          const docLinkHtml = 'Like what you see? Visit the ' +\n",
              "            '<a target=\"_blank\" href=https://colab.research.google.com/notebooks/data_table.ipynb>data table notebook</a>'\n",
              "            + ' to learn more about interactive tables.';\n",
              "          element.innerHTML = '';\n",
              "          dataTable['output_type'] = 'display_data';\n",
              "          await google.colab.output.renderOutput(dataTable, element);\n",
              "          const docLink = document.createElement('div');\n",
              "          docLink.innerHTML = docLinkHtml;\n",
              "          element.appendChild(docLink);\n",
              "        }\n",
              "      </script>\n",
              "    </div>\n",
              "  </div>\n",
              "  "
            ],
            "text/plain": [
              "                        type  \\\n",
              "0                         []   \n",
              "1                [ความสะอาด]   \n",
              "2                    [สายไฟ]   \n",
              "3               [ถนน, สะพาน]   \n",
              "4       [น้ำท่วม, ร้องเรียน]   \n",
              "...                      ...   \n",
              "273112           [ความสะอาด]   \n",
              "273113           [ถนน, คลอง]   \n",
              "273114                 [ถนน]   \n",
              "273115                    []   \n",
              "273116                 [ถนน]   \n",
              "\n",
              "                                                  comment  \n",
              "0                                                ไม่มีภาพ  \n",
              "1                                                 ขยะเยอะ  \n",
              "2       1. เถาวัลย์งอดบนสายไฟ ผมกลัวว่าต่อไปจะเอาออกยา...  \n",
              "3       1 ซ่อมทางเท้าหลังคืนพื้นที่จากการปรับปรุงสะพาน...  \n",
              "4       น้ำท่วมเวลาฝนตกและทะลุเข้าบ้านเดือดร้อนมากทุกๆ...  \n",
              "...                                                   ...  \n",
              "273112             ไม่มีเจ้าหน้าที่มาเก็บขยะหลายวันแล้วคะ  \n",
              "273113  * ปัญหา: ประชาชนพบจระเข้ 2 ตัว ขอให้ดำเนินการจ...  \n",
              "273114  * ปัญหา: ประชาชนต้องการให้เจ้าหน้าที่มาเก็บขยะ...  \n",
              "273115  ผมขับมอเตอร์ไซค์ผ่าน บริเวณสายสอง มีกลุ่มควันเ...  \n",
              "273116                                           ถนนไม่ดี  \n",
              "\n",
              "[273117 rows x 2 columns]"
            ]
          },
          "execution_count": 12,
          "metadata": {},
          "output_type": "execute_result"
        }
      ],
      "source": [
        "df"
      ]
    },
    {
      "attachments": {},
      "cell_type": "markdown",
      "metadata": {
        "id": "BXQys92j7mbc"
      },
      "source": [
        "Preprocess: type"
      ]
    },
    {
      "cell_type": "code",
      "execution_count": null,
      "metadata": {
        "colab": {
          "base_uri": "https://localhost:8080/",
          "height": 424
        },
        "id": "qRe7MzoZz4me",
        "outputId": "ae7e3c3b-c82d-4394-fd96-6da3eed8e18b"
      },
      "outputs": [
        {
          "data": {
            "text/html": [
              "\n",
              "  <div id=\"df-3626fb75-c65c-4239-abce-3f8b7cbcc5eb\">\n",
              "    <div class=\"colab-df-container\">\n",
              "      <div>\n",
              "<style scoped>\n",
              "    .dataframe tbody tr th:only-of-type {\n",
              "        vertical-align: middle;\n",
              "    }\n",
              "\n",
              "    .dataframe tbody tr th {\n",
              "        vertical-align: top;\n",
              "    }\n",
              "\n",
              "    .dataframe thead th {\n",
              "        text-align: right;\n",
              "    }\n",
              "</style>\n",
              "<table border=\"1\" class=\"dataframe\">\n",
              "  <thead>\n",
              "    <tr style=\"text-align: right;\">\n",
              "      <th></th>\n",
              "      <th>type</th>\n",
              "      <th>comment</th>\n",
              "    </tr>\n",
              "  </thead>\n",
              "  <tbody>\n",
              "    <tr>\n",
              "      <th>0</th>\n",
              "      <td>[ความสะอาด]</td>\n",
              "      <td>ขยะเยอะ</td>\n",
              "    </tr>\n",
              "    <tr>\n",
              "      <th>1</th>\n",
              "      <td>[สายไฟ]</td>\n",
              "      <td>1. เถาวัลย์งอดบนสายไฟ ผมกลัวว่าต่อไปจะเอาออกยา...</td>\n",
              "    </tr>\n",
              "    <tr>\n",
              "      <th>2</th>\n",
              "      <td>[ถนน, สะพาน]</td>\n",
              "      <td>1 ซ่อมทางเท้าหลังคืนพื้นที่จากการปรับปรุงสะพาน...</td>\n",
              "    </tr>\n",
              "    <tr>\n",
              "      <th>3</th>\n",
              "      <td>[น้ำท่วม, ร้องเรียน]</td>\n",
              "      <td>น้ำท่วมเวลาฝนตกและทะลุเข้าบ้านเดือดร้อนมากทุกๆ...</td>\n",
              "    </tr>\n",
              "    <tr>\n",
              "      <th>4</th>\n",
              "      <td>[ถนน, ร้องเรียน, น้ำท่วม, ความปลอดภัย]</td>\n",
              "      <td>1) พื้นที่นี้ขาดหน่วยงานรับผิดชอบ เนื่องจากไม่...</td>\n",
              "    </tr>\n",
              "    <tr>\n",
              "      <th>...</th>\n",
              "      <td>...</td>\n",
              "      <td>...</td>\n",
              "    </tr>\n",
              "    <tr>\n",
              "      <th>208994</th>\n",
              "      <td>[ถนน, ท่อระบายน้ำ]</td>\n",
              "      <td>มีฝาท่อถนนเพชรบุรี ตั้งแต่ก่อนถึงทางรถไฟ ไปจนถ...</td>\n",
              "    </tr>\n",
              "    <tr>\n",
              "      <th>208995</th>\n",
              "      <td>[ความสะอาด]</td>\n",
              "      <td>ไม่มีเจ้าหน้าที่มาเก็บขยะหลายวันแล้วคะ</td>\n",
              "    </tr>\n",
              "    <tr>\n",
              "      <th>208996</th>\n",
              "      <td>[ถนน, คลอง]</td>\n",
              "      <td>* ปัญหา: ประชาชนพบจระเข้ 2 ตัว ขอให้ดำเนินการจ...</td>\n",
              "    </tr>\n",
              "    <tr>\n",
              "      <th>208997</th>\n",
              "      <td>[ถนน]</td>\n",
              "      <td>* ปัญหา: ประชาชนต้องการให้เจ้าหน้าที่มาเก็บขยะ...</td>\n",
              "    </tr>\n",
              "    <tr>\n",
              "      <th>208998</th>\n",
              "      <td>[ถนน]</td>\n",
              "      <td>ถนนไม่ดี</td>\n",
              "    </tr>\n",
              "  </tbody>\n",
              "</table>\n",
              "<p>208999 rows × 2 columns</p>\n",
              "</div>\n",
              "      <button class=\"colab-df-convert\" onclick=\"convertToInteractive('df-3626fb75-c65c-4239-abce-3f8b7cbcc5eb')\"\n",
              "              title=\"Convert this dataframe to an interactive table.\"\n",
              "              style=\"display:none;\">\n",
              "        \n",
              "  <svg xmlns=\"http://www.w3.org/2000/svg\" height=\"24px\"viewBox=\"0 0 24 24\"\n",
              "       width=\"24px\">\n",
              "    <path d=\"M0 0h24v24H0V0z\" fill=\"none\"/>\n",
              "    <path d=\"M18.56 5.44l.94 2.06.94-2.06 2.06-.94-2.06-.94-.94-2.06-.94 2.06-2.06.94zm-11 1L8.5 8.5l.94-2.06 2.06-.94-2.06-.94L8.5 2.5l-.94 2.06-2.06.94zm10 10l.94 2.06.94-2.06 2.06-.94-2.06-.94-.94-2.06-.94 2.06-2.06.94z\"/><path d=\"M17.41 7.96l-1.37-1.37c-.4-.4-.92-.59-1.43-.59-.52 0-1.04.2-1.43.59L10.3 9.45l-7.72 7.72c-.78.78-.78 2.05 0 2.83L4 21.41c.39.39.9.59 1.41.59.51 0 1.02-.2 1.41-.59l7.78-7.78 2.81-2.81c.8-.78.8-2.07 0-2.86zM5.41 20L4 18.59l7.72-7.72 1.47 1.35L5.41 20z\"/>\n",
              "  </svg>\n",
              "      </button>\n",
              "      \n",
              "  <style>\n",
              "    .colab-df-container {\n",
              "      display:flex;\n",
              "      flex-wrap:wrap;\n",
              "      gap: 12px;\n",
              "    }\n",
              "\n",
              "    .colab-df-convert {\n",
              "      background-color: #E8F0FE;\n",
              "      border: none;\n",
              "      border-radius: 50%;\n",
              "      cursor: pointer;\n",
              "      display: none;\n",
              "      fill: #1967D2;\n",
              "      height: 32px;\n",
              "      padding: 0 0 0 0;\n",
              "      width: 32px;\n",
              "    }\n",
              "\n",
              "    .colab-df-convert:hover {\n",
              "      background-color: #E2EBFA;\n",
              "      box-shadow: 0px 1px 2px rgba(60, 64, 67, 0.3), 0px 1px 3px 1px rgba(60, 64, 67, 0.15);\n",
              "      fill: #174EA6;\n",
              "    }\n",
              "\n",
              "    [theme=dark] .colab-df-convert {\n",
              "      background-color: #3B4455;\n",
              "      fill: #D2E3FC;\n",
              "    }\n",
              "\n",
              "    [theme=dark] .colab-df-convert:hover {\n",
              "      background-color: #434B5C;\n",
              "      box-shadow: 0px 1px 3px 1px rgba(0, 0, 0, 0.15);\n",
              "      filter: drop-shadow(0px 1px 2px rgba(0, 0, 0, 0.3));\n",
              "      fill: #FFFFFF;\n",
              "    }\n",
              "  </style>\n",
              "\n",
              "      <script>\n",
              "        const buttonEl =\n",
              "          document.querySelector('#df-3626fb75-c65c-4239-abce-3f8b7cbcc5eb button.colab-df-convert');\n",
              "        buttonEl.style.display =\n",
              "          google.colab.kernel.accessAllowed ? 'block' : 'none';\n",
              "\n",
              "        async function convertToInteractive(key) {\n",
              "          const element = document.querySelector('#df-3626fb75-c65c-4239-abce-3f8b7cbcc5eb');\n",
              "          const dataTable =\n",
              "            await google.colab.kernel.invokeFunction('convertToInteractive',\n",
              "                                                     [key], {});\n",
              "          if (!dataTable) return;\n",
              "\n",
              "          const docLinkHtml = 'Like what you see? Visit the ' +\n",
              "            '<a target=\"_blank\" href=https://colab.research.google.com/notebooks/data_table.ipynb>data table notebook</a>'\n",
              "            + ' to learn more about interactive tables.';\n",
              "          element.innerHTML = '';\n",
              "          dataTable['output_type'] = 'display_data';\n",
              "          await google.colab.output.renderOutput(dataTable, element);\n",
              "          const docLink = document.createElement('div');\n",
              "          docLink.innerHTML = docLinkHtml;\n",
              "          element.appendChild(docLink);\n",
              "        }\n",
              "      </script>\n",
              "    </div>\n",
              "  </div>\n",
              "  "
            ],
            "text/plain": [
              "                                          type  \\\n",
              "0                                  [ความสะอาด]   \n",
              "1                                      [สายไฟ]   \n",
              "2                                 [ถนน, สะพาน]   \n",
              "3                         [น้ำท่วม, ร้องเรียน]   \n",
              "4       [ถนน, ร้องเรียน, น้ำท่วม, ความปลอดภัย]   \n",
              "...                                        ...   \n",
              "208994                      [ถนน, ท่อระบายน้ำ]   \n",
              "208995                             [ความสะอาด]   \n",
              "208996                             [ถนน, คลอง]   \n",
              "208997                                   [ถนน]   \n",
              "208998                                   [ถนน]   \n",
              "\n",
              "                                                  comment  \n",
              "0                                                 ขยะเยอะ  \n",
              "1       1. เถาวัลย์งอดบนสายไฟ ผมกลัวว่าต่อไปจะเอาออกยา...  \n",
              "2       1 ซ่อมทางเท้าหลังคืนพื้นที่จากการปรับปรุงสะพาน...  \n",
              "3       น้ำท่วมเวลาฝนตกและทะลุเข้าบ้านเดือดร้อนมากทุกๆ...  \n",
              "4       1) พื้นที่นี้ขาดหน่วยงานรับผิดชอบ เนื่องจากไม่...  \n",
              "...                                                   ...  \n",
              "208994  มีฝาท่อถนนเพชรบุรี ตั้งแต่ก่อนถึงทางรถไฟ ไปจนถ...  \n",
              "208995             ไม่มีเจ้าหน้าที่มาเก็บขยะหลายวันแล้วคะ  \n",
              "208996  * ปัญหา: ประชาชนพบจระเข้ 2 ตัว ขอให้ดำเนินการจ...  \n",
              "208997  * ปัญหา: ประชาชนต้องการให้เจ้าหน้าที่มาเก็บขยะ...  \n",
              "208998                                           ถนนไม่ดี  \n",
              "\n",
              "[208999 rows x 2 columns]"
            ]
          },
          "execution_count": 13,
          "metadata": {},
          "output_type": "execute_result"
        }
      ],
      "source": [
        "df[\"type\"] = df[\"type\"].apply(lambda x: np.nan if x == [] else x)\n",
        "df = df.dropna().reset_index(drop=True)\n",
        "df"
      ]
    },
    {
      "cell_type": "code",
      "execution_count": null,
      "metadata": {
        "colab": {
          "base_uri": "https://localhost:8080/",
          "height": 270,
          "referenced_widgets": [
            "6d894f5365fe447ab206bd6e64eaeb08",
            "0e683c02f8654fee801df30cf54c233c",
            "6b07f057520f4bfe9ea3ff6af51b6025",
            "4d2005934c4843068e9e56c35be11f50",
            "375a862d7ac04e68822a7c4f19cde402",
            "2e0fe151f1574438b3fba79b9569e6c7",
            "1420628d7b3c4e24b99201ab979a548a",
            "bbfe192677774fdcbc2af015dc77fe4d",
            "3dd4eada8e9c4a1fbf49e16e75c7b981",
            "6a8c407166594f17bbb0945e9380dc0b",
            "bd58f1da20c24d9e8d6741261bf41e03",
            "fbfc76bfa64a4d139740e4d00b3bfb47",
            "08565ccdea94482681a7c2d37cdb8c5e",
            "cfc4641a5a06478894b60b05510d9523",
            "5fc5d6e50dd64612976b6af45999b467",
            "82a3cc69228b48d198e45c4acfd53a86",
            "d970b40c6789413798641773ee997edd",
            "012c3d7cff884f19b4dcbf6e05c4a9a4",
            "98e484ba216c4c9c8cf68a2ba461dddd",
            "4a319657f5294cc3a2e6bf7ad1a9320a",
            "38c5efea1cb44dba8952fd4f7ac66562",
            "148d5102b5274ebe88cbffa683842791"
          ]
        },
        "id": "gxfpdsp8qXQp",
        "outputId": "0aa650f6-1384-421a-abfb-4e1da6c73572"
      },
      "outputs": [
        {
          "data": {
            "application/vnd.jupyter.widget-view+json": {
              "model_id": "6d894f5365fe447ab206bd6e64eaeb08",
              "version_major": 2,
              "version_minor": 0
            },
            "text/plain": [
              "  0%|          | 0/208999 [00:00<?, ?it/s]"
            ]
          },
          "metadata": {},
          "output_type": "display_data"
        },
        {
          "data": {
            "application/vnd.jupyter.widget-view+json": {
              "model_id": "fbfc76bfa64a4d139740e4d00b3bfb47",
              "version_major": 2,
              "version_minor": 0
            },
            "text/plain": [
              "  0%|          | 0/208999 [00:00<?, ?it/s]"
            ]
          },
          "metadata": {},
          "output_type": "display_data"
        },
        {
          "data": {
            "text/html": [
              "\n",
              "  <div id=\"df-c626a36b-6158-47a0-a463-6d8c2febb037\">\n",
              "    <div class=\"colab-df-container\">\n",
              "      <div>\n",
              "<style scoped>\n",
              "    .dataframe tbody tr th:only-of-type {\n",
              "        vertical-align: middle;\n",
              "    }\n",
              "\n",
              "    .dataframe tbody tr th {\n",
              "        vertical-align: top;\n",
              "    }\n",
              "\n",
              "    .dataframe thead th {\n",
              "        text-align: right;\n",
              "    }\n",
              "</style>\n",
              "<table border=\"1\" class=\"dataframe\">\n",
              "  <thead>\n",
              "    <tr style=\"text-align: right;\">\n",
              "      <th></th>\n",
              "      <th>type</th>\n",
              "      <th>comment</th>\n",
              "    </tr>\n",
              "  </thead>\n",
              "  <tbody>\n",
              "    <tr>\n",
              "      <th>0</th>\n",
              "      <td>ความสะอาด</td>\n",
              "      <td>ขยะเยอะ</td>\n",
              "    </tr>\n",
              "    <tr>\n",
              "      <th>1</th>\n",
              "      <td>สายไฟ</td>\n",
              "      <td>1. เถาวัลย์งอดบนสายไฟ ผมกลัวว่าต่อไปจะเอาออกยา...</td>\n",
              "    </tr>\n",
              "    <tr>\n",
              "      <th>2</th>\n",
              "      <td>สะพาน</td>\n",
              "      <td>1 ซ่อมทางเท้าหลังคืนพื้นที่จากการปรับปรุงสะพาน...</td>\n",
              "    </tr>\n",
              "    <tr>\n",
              "      <th>3</th>\n",
              "      <td>น้ำท่วม</td>\n",
              "      <td>น้ำท่วมเวลาฝนตกและทะลุเข้าบ้านเดือดร้อนมากทุกๆ...</td>\n",
              "    </tr>\n",
              "    <tr>\n",
              "      <th>4</th>\n",
              "      <td>น้ำท่วม</td>\n",
              "      <td>1) พื้นที่นี้ขาดหน่วยงานรับผิดชอบ เนื่องจากไม่...</td>\n",
              "    </tr>\n",
              "  </tbody>\n",
              "</table>\n",
              "</div>\n",
              "      <button class=\"colab-df-convert\" onclick=\"convertToInteractive('df-c626a36b-6158-47a0-a463-6d8c2febb037')\"\n",
              "              title=\"Convert this dataframe to an interactive table.\"\n",
              "              style=\"display:none;\">\n",
              "        \n",
              "  <svg xmlns=\"http://www.w3.org/2000/svg\" height=\"24px\"viewBox=\"0 0 24 24\"\n",
              "       width=\"24px\">\n",
              "    <path d=\"M0 0h24v24H0V0z\" fill=\"none\"/>\n",
              "    <path d=\"M18.56 5.44l.94 2.06.94-2.06 2.06-.94-2.06-.94-.94-2.06-.94 2.06-2.06.94zm-11 1L8.5 8.5l.94-2.06 2.06-.94-2.06-.94L8.5 2.5l-.94 2.06-2.06.94zm10 10l.94 2.06.94-2.06 2.06-.94-2.06-.94-.94-2.06-.94 2.06-2.06.94z\"/><path d=\"M17.41 7.96l-1.37-1.37c-.4-.4-.92-.59-1.43-.59-.52 0-1.04.2-1.43.59L10.3 9.45l-7.72 7.72c-.78.78-.78 2.05 0 2.83L4 21.41c.39.39.9.59 1.41.59.51 0 1.02-.2 1.41-.59l7.78-7.78 2.81-2.81c.8-.78.8-2.07 0-2.86zM5.41 20L4 18.59l7.72-7.72 1.47 1.35L5.41 20z\"/>\n",
              "  </svg>\n",
              "      </button>\n",
              "      \n",
              "  <style>\n",
              "    .colab-df-container {\n",
              "      display:flex;\n",
              "      flex-wrap:wrap;\n",
              "      gap: 12px;\n",
              "    }\n",
              "\n",
              "    .colab-df-convert {\n",
              "      background-color: #E8F0FE;\n",
              "      border: none;\n",
              "      border-radius: 50%;\n",
              "      cursor: pointer;\n",
              "      display: none;\n",
              "      fill: #1967D2;\n",
              "      height: 32px;\n",
              "      padding: 0 0 0 0;\n",
              "      width: 32px;\n",
              "    }\n",
              "\n",
              "    .colab-df-convert:hover {\n",
              "      background-color: #E2EBFA;\n",
              "      box-shadow: 0px 1px 2px rgba(60, 64, 67, 0.3), 0px 1px 3px 1px rgba(60, 64, 67, 0.15);\n",
              "      fill: #174EA6;\n",
              "    }\n",
              "\n",
              "    [theme=dark] .colab-df-convert {\n",
              "      background-color: #3B4455;\n",
              "      fill: #D2E3FC;\n",
              "    }\n",
              "\n",
              "    [theme=dark] .colab-df-convert:hover {\n",
              "      background-color: #434B5C;\n",
              "      box-shadow: 0px 1px 3px 1px rgba(0, 0, 0, 0.15);\n",
              "      filter: drop-shadow(0px 1px 2px rgba(0, 0, 0, 0.3));\n",
              "      fill: #FFFFFF;\n",
              "    }\n",
              "  </style>\n",
              "\n",
              "      <script>\n",
              "        const buttonEl =\n",
              "          document.querySelector('#df-c626a36b-6158-47a0-a463-6d8c2febb037 button.colab-df-convert');\n",
              "        buttonEl.style.display =\n",
              "          google.colab.kernel.accessAllowed ? 'block' : 'none';\n",
              "\n",
              "        async function convertToInteractive(key) {\n",
              "          const element = document.querySelector('#df-c626a36b-6158-47a0-a463-6d8c2febb037');\n",
              "          const dataTable =\n",
              "            await google.colab.kernel.invokeFunction('convertToInteractive',\n",
              "                                                     [key], {});\n",
              "          if (!dataTable) return;\n",
              "\n",
              "          const docLinkHtml = 'Like what you see? Visit the ' +\n",
              "            '<a target=\"_blank\" href=https://colab.research.google.com/notebooks/data_table.ipynb>data table notebook</a>'\n",
              "            + ' to learn more about interactive tables.';\n",
              "          element.innerHTML = '';\n",
              "          dataTable['output_type'] = 'display_data';\n",
              "          await google.colab.output.renderOutput(dataTable, element);\n",
              "          const docLink = document.createElement('div');\n",
              "          docLink.innerHTML = docLinkHtml;\n",
              "          element.appendChild(docLink);\n",
              "        }\n",
              "      </script>\n",
              "    </div>\n",
              "  </div>\n",
              "  "
            ],
            "text/plain": [
              "        type                                            comment\n",
              "0  ความสะอาด                                            ขยะเยอะ\n",
              "1      สายไฟ  1. เถาวัลย์งอดบนสายไฟ ผมกลัวว่าต่อไปจะเอาออกยา...\n",
              "2      สะพาน  1 ซ่อมทางเท้าหลังคืนพื้นที่จากการปรับปรุงสะพาน...\n",
              "3    น้ำท่วม  น้ำท่วมเวลาฝนตกและทะลุเข้าบ้านเดือดร้อนมากทุกๆ...\n",
              "4    น้ำท่วม  1) พื้นที่นี้ขาดหน่วยงานรับผิดชอบ เนื่องจากไม่..."
            ]
          },
          "execution_count": 14,
          "metadata": {},
          "output_type": "execute_result"
        }
      ],
      "source": [
        "def apply_1(x):\n",
        "        if (len(x) == 1) and ([\"ร้องเรียน\"] in x):\n",
        "            x = [\"other\"]\n",
        "        else:\n",
        "            x = [elem for elem in x if elem not in [\"ร้องเรียน\"]]\n",
        "        return x\n",
        "def preprocess_type(df):\n",
        "    df = df.copy()\n",
        "    other_list = [\"PM2.5\", \"สอบถาม\", \"เสนอแนะ\", \"คนจรจัด\", \"การเดินทาง\", \"ห้องน้ำ\", \"ป้ายจราจร\"]\n",
        "    df['type'] = df['type'].progress_apply(lambda x: [elem if elem not in other_list else 'other' for elem in x])\n",
        "    df[\"type\"] = df[\"type\"].apply(lambda x: [\"other\"] if x == [] else x)\n",
        "    df['type'] = df['type'].progress_apply(apply_1)\n",
        "    df[\"type\"] = df[\"type\"].apply(lambda x: [\"other\"] if x == [] else x)\n",
        "    return df\n",
        "\n",
        "def apply_filter_type(x):\n",
        "    order_list = ['สัตว์จรจัด',\n",
        " 'other',\n",
        " 'ป้าย',\n",
        " 'ต้นไม้',\n",
        " 'คลอง',\n",
        " 'เสียงรบกวน',\n",
        " 'สายไฟ',\n",
        " 'จราจร',\n",
        " 'สะพาน',\n",
        " 'ท่อระบายน้ำ',\n",
        " 'กีดขวาง',\n",
        " 'น้ำท่วม',\n",
        " 'ความสะอาด',\n",
        " 'ความปลอดภัย',\n",
        " 'แสงสว่าง',\n",
        " 'ทางเท้า',\n",
        " 'ถนน']\n",
        "    for order in order_list:\n",
        "        if order in x:\n",
        "            return order\n",
        "df = preprocess_type(df)\n",
        "df[\"type\"] = df[\"type\"].apply(apply_filter_type)\n",
        "df.head()"
      ]
    },
    {
      "cell_type": "code",
      "execution_count": null,
      "metadata": {
        "colab": {
          "base_uri": "https://localhost:8080/"
        },
        "id": "se0KJNXDselJ",
        "outputId": "fd240df5-920b-4da6-de3d-a915dee44581"
      },
      "outputs": [
        {
          "data": {
            "text/plain": [
              "{'ถนน': 0,\n",
              " 'ทางเท้า': 1,\n",
              " 'แสงสว่าง': 2,\n",
              " 'ความปลอดภัย': 3,\n",
              " 'ความสะอาด': 4,\n",
              " 'น้ำท่วม': 5,\n",
              " 'กีดขวาง': 6,\n",
              " 'ท่อระบายน้ำ': 7,\n",
              " 'สะพาน': 8,\n",
              " 'จราจร': 9,\n",
              " 'สายไฟ': 10,\n",
              " 'เสียงรบกวน': 11,\n",
              " 'คลอง': 12,\n",
              " 'ต้นไม้': 13,\n",
              " 'ป้าย': 14,\n",
              " 'other': 15,\n",
              " 'สัตว์จรจัด': 16}"
            ]
          },
          "execution_count": 15,
          "metadata": {},
          "output_type": "execute_result"
        }
      ],
      "source": [
        "type_columns = ['ถนน',\n",
        " 'ทางเท้า',\n",
        " 'แสงสว่าง',\n",
        " 'ความปลอดภัย',\n",
        " 'ความสะอาด',\n",
        " 'น้ำท่วม',\n",
        " 'กีดขวาง',\n",
        " 'ท่อระบายน้ำ',\n",
        " 'สะพาน',\n",
        " 'จราจร',\n",
        " 'สายไฟ',\n",
        " 'เสียงรบกวน',\n",
        " 'คลอง',\n",
        " 'ต้นไม้',\n",
        " 'ป้าย',\n",
        " 'other',\n",
        " 'สัตว์จรจัด']\n",
        "\n",
        "type_to_idx = {col: index for index, col in enumerate(type_columns)}\n",
        "idx_to_type = {index: col for index, col in enumerate(type_columns)}\n",
        "type_to_idx"
      ]
    },
    {
      "cell_type": "code",
      "execution_count": null,
      "metadata": {
        "id": "tySO3RoCubCA"
      },
      "outputs": [],
      "source": [
        "df[\"type\"] = df[\"type\"].apply(lambda x: type_to_idx[x])"
      ]
    },
    {
      "cell_type": "code",
      "execution_count": null,
      "metadata": {
        "colab": {
          "base_uri": "https://localhost:8080/"
        },
        "id": "EXLWKZ8eBvdB",
        "outputId": "5ed2305e-b924-4d38-d036-eebd0dca8ab5"
      },
      "outputs": [
        {
          "data": {
            "text/plain": [
              "17"
            ]
          },
          "execution_count": 17,
          "metadata": {},
          "output_type": "execute_result"
        }
      ],
      "source": [
        "len(type_columns)"
      ]
    },
    {
      "cell_type": "code",
      "execution_count": null,
      "metadata": {
        "colab": {
          "base_uri": "https://localhost:8080/",
          "height": 206
        },
        "id": "juizryONs1jm",
        "outputId": "7d4e4422-db9c-41ee-9159-580d616ffd11"
      },
      "outputs": [
        {
          "data": {
            "text/html": [
              "\n",
              "  <div id=\"df-0b454aeb-d345-4597-9885-6ef2ec79ad84\">\n",
              "    <div class=\"colab-df-container\">\n",
              "      <div>\n",
              "<style scoped>\n",
              "    .dataframe tbody tr th:only-of-type {\n",
              "        vertical-align: middle;\n",
              "    }\n",
              "\n",
              "    .dataframe tbody tr th {\n",
              "        vertical-align: top;\n",
              "    }\n",
              "\n",
              "    .dataframe thead th {\n",
              "        text-align: right;\n",
              "    }\n",
              "</style>\n",
              "<table border=\"1\" class=\"dataframe\">\n",
              "  <thead>\n",
              "    <tr style=\"text-align: right;\">\n",
              "      <th></th>\n",
              "      <th>type</th>\n",
              "      <th>comment</th>\n",
              "    </tr>\n",
              "  </thead>\n",
              "  <tbody>\n",
              "    <tr>\n",
              "      <th>0</th>\n",
              "      <td>4</td>\n",
              "      <td>ขยะเยอะ</td>\n",
              "    </tr>\n",
              "    <tr>\n",
              "      <th>1</th>\n",
              "      <td>10</td>\n",
              "      <td>1. เถาวัลย์งอดบนสายไฟ ผมกลัวว่าต่อไปจะเอาออกยา...</td>\n",
              "    </tr>\n",
              "    <tr>\n",
              "      <th>2</th>\n",
              "      <td>8</td>\n",
              "      <td>1 ซ่อมทางเท้าหลังคืนพื้นที่จากการปรับปรุงสะพาน...</td>\n",
              "    </tr>\n",
              "    <tr>\n",
              "      <th>3</th>\n",
              "      <td>5</td>\n",
              "      <td>น้ำท่วมเวลาฝนตกและทะลุเข้าบ้านเดือดร้อนมากทุกๆ...</td>\n",
              "    </tr>\n",
              "    <tr>\n",
              "      <th>4</th>\n",
              "      <td>5</td>\n",
              "      <td>1) พื้นที่นี้ขาดหน่วยงานรับผิดชอบ เนื่องจากไม่...</td>\n",
              "    </tr>\n",
              "  </tbody>\n",
              "</table>\n",
              "</div>\n",
              "      <button class=\"colab-df-convert\" onclick=\"convertToInteractive('df-0b454aeb-d345-4597-9885-6ef2ec79ad84')\"\n",
              "              title=\"Convert this dataframe to an interactive table.\"\n",
              "              style=\"display:none;\">\n",
              "        \n",
              "  <svg xmlns=\"http://www.w3.org/2000/svg\" height=\"24px\"viewBox=\"0 0 24 24\"\n",
              "       width=\"24px\">\n",
              "    <path d=\"M0 0h24v24H0V0z\" fill=\"none\"/>\n",
              "    <path d=\"M18.56 5.44l.94 2.06.94-2.06 2.06-.94-2.06-.94-.94-2.06-.94 2.06-2.06.94zm-11 1L8.5 8.5l.94-2.06 2.06-.94-2.06-.94L8.5 2.5l-.94 2.06-2.06.94zm10 10l.94 2.06.94-2.06 2.06-.94-2.06-.94-.94-2.06-.94 2.06-2.06.94z\"/><path d=\"M17.41 7.96l-1.37-1.37c-.4-.4-.92-.59-1.43-.59-.52 0-1.04.2-1.43.59L10.3 9.45l-7.72 7.72c-.78.78-.78 2.05 0 2.83L4 21.41c.39.39.9.59 1.41.59.51 0 1.02-.2 1.41-.59l7.78-7.78 2.81-2.81c.8-.78.8-2.07 0-2.86zM5.41 20L4 18.59l7.72-7.72 1.47 1.35L5.41 20z\"/>\n",
              "  </svg>\n",
              "      </button>\n",
              "      \n",
              "  <style>\n",
              "    .colab-df-container {\n",
              "      display:flex;\n",
              "      flex-wrap:wrap;\n",
              "      gap: 12px;\n",
              "    }\n",
              "\n",
              "    .colab-df-convert {\n",
              "      background-color: #E8F0FE;\n",
              "      border: none;\n",
              "      border-radius: 50%;\n",
              "      cursor: pointer;\n",
              "      display: none;\n",
              "      fill: #1967D2;\n",
              "      height: 32px;\n",
              "      padding: 0 0 0 0;\n",
              "      width: 32px;\n",
              "    }\n",
              "\n",
              "    .colab-df-convert:hover {\n",
              "      background-color: #E2EBFA;\n",
              "      box-shadow: 0px 1px 2px rgba(60, 64, 67, 0.3), 0px 1px 3px 1px rgba(60, 64, 67, 0.15);\n",
              "      fill: #174EA6;\n",
              "    }\n",
              "\n",
              "    [theme=dark] .colab-df-convert {\n",
              "      background-color: #3B4455;\n",
              "      fill: #D2E3FC;\n",
              "    }\n",
              "\n",
              "    [theme=dark] .colab-df-convert:hover {\n",
              "      background-color: #434B5C;\n",
              "      box-shadow: 0px 1px 3px 1px rgba(0, 0, 0, 0.15);\n",
              "      filter: drop-shadow(0px 1px 2px rgba(0, 0, 0, 0.3));\n",
              "      fill: #FFFFFF;\n",
              "    }\n",
              "  </style>\n",
              "\n",
              "      <script>\n",
              "        const buttonEl =\n",
              "          document.querySelector('#df-0b454aeb-d345-4597-9885-6ef2ec79ad84 button.colab-df-convert');\n",
              "        buttonEl.style.display =\n",
              "          google.colab.kernel.accessAllowed ? 'block' : 'none';\n",
              "\n",
              "        async function convertToInteractive(key) {\n",
              "          const element = document.querySelector('#df-0b454aeb-d345-4597-9885-6ef2ec79ad84');\n",
              "          const dataTable =\n",
              "            await google.colab.kernel.invokeFunction('convertToInteractive',\n",
              "                                                     [key], {});\n",
              "          if (!dataTable) return;\n",
              "\n",
              "          const docLinkHtml = 'Like what you see? Visit the ' +\n",
              "            '<a target=\"_blank\" href=https://colab.research.google.com/notebooks/data_table.ipynb>data table notebook</a>'\n",
              "            + ' to learn more about interactive tables.';\n",
              "          element.innerHTML = '';\n",
              "          dataTable['output_type'] = 'display_data';\n",
              "          await google.colab.output.renderOutput(dataTable, element);\n",
              "          const docLink = document.createElement('div');\n",
              "          docLink.innerHTML = docLinkHtml;\n",
              "          element.appendChild(docLink);\n",
              "        }\n",
              "      </script>\n",
              "    </div>\n",
              "  </div>\n",
              "  "
            ],
            "text/plain": [
              "   type                                            comment\n",
              "0     4                                            ขยะเยอะ\n",
              "1    10  1. เถาวัลย์งอดบนสายไฟ ผมกลัวว่าต่อไปจะเอาออกยา...\n",
              "2     8  1 ซ่อมทางเท้าหลังคืนพื้นที่จากการปรับปรุงสะพาน...\n",
              "3     5  น้ำท่วมเวลาฝนตกและทะลุเข้าบ้านเดือดร้อนมากทุกๆ...\n",
              "4     5  1) พื้นที่นี้ขาดหน่วยงานรับผิดชอบ เนื่องจากไม่..."
            ]
          },
          "execution_count": 18,
          "metadata": {},
          "output_type": "execute_result"
        }
      ],
      "source": [
        "df.head()"
      ]
    },
    {
      "attachments": {},
      "cell_type": "markdown",
      "metadata": {
        "id": "4lk9xcm-7rVd"
      },
      "source": [
        "# Preprocess: comment"
      ]
    },
    {
      "cell_type": "code",
      "execution_count": null,
      "metadata": {
        "id": "nm4Xtln3_A02"
      },
      "outputs": [],
      "source": [
        "df['comment'].fillna('', inplace=True) \n",
        "df['comment'] = df['comment'].astype(str) "
      ]
    },
    {
      "cell_type": "code",
      "execution_count": null,
      "metadata": {
        "id": "HNPur9JIW-la"
      },
      "outputs": [],
      "source": [
        "# df = df.sample(2_000, random_state=123)"
      ]
    },
    {
      "cell_type": "code",
      "execution_count": null,
      "metadata": {
        "colab": {
          "base_uri": "https://localhost:8080/",
          "height": 49,
          "referenced_widgets": [
            "6610bf68bb814d12a771c809a7465846",
            "027de222fda1454594c43711a0f20810",
            "24f64997f60e4714b580aaf076c3899b",
            "fde8492515e0476d83c0edc7de61bc0a",
            "45e996b32d1f4d48963c4ef3bb8d6297",
            "2a70213de4bb43dcaa0708125a2f0c3e",
            "ed9f09864db7488a802e7580eba9c467",
            "5f643734b42b403d830a8e7e13095652",
            "1332870a77684e71bab2067c4501b155",
            "2275024a10ae465a8f6fc948a4a38765",
            "f01e42ebbf414a75b8dc4d712f1596dc"
          ]
        },
        "id": "lqjVzXag85Ec",
        "outputId": "493d435a-23a2-4ece-ae6b-2da4a1d48ac5"
      },
      "outputs": [
        {
          "data": {
            "application/vnd.jupyter.widget-view+json": {
              "model_id": "6610bf68bb814d12a771c809a7465846",
              "version_major": 2,
              "version_minor": 0
            },
            "text/plain": [
              "  0%|          | 0/208999 [00:00<?, ?it/s]"
            ]
          },
          "metadata": {},
          "output_type": "display_data"
        }
      ],
      "source": [
        "import re\n",
        "import string\n",
        "import pythainlp\n",
        "from tqdm.auto import tqdm\n",
        "tqdm.pandas()\n",
        "\n",
        "def preprocessing_comment(comment):\n",
        "    # Normalize text\n",
        "    try:\n",
        "      comment = pythainlp.util.normalize(comment)\n",
        "    except:\n",
        "      print(comment)\n",
        "\n",
        "    # Tokenize text\n",
        "    tokens = pythainlp.word_tokenize(comment)\n",
        "\n",
        "    # Remove stop words\n",
        "    stopwords = pythainlp.corpus.common.thai_stopwords()\n",
        "    tokens = [token for token in tokens if token not in stopwords]\n",
        "\n",
        "    # Join tokens back into a string\n",
        "    processed_comment = ' '.join(tokens)\n",
        "  \n",
        "    return comment\n",
        "    # return processed_comment\n",
        "\n",
        "df['comment'] = df['comment'].progress_apply(preprocessing_comment)"
      ]
    },
    {
      "cell_type": "code",
      "execution_count": null,
      "metadata": {
        "id": "vXKBuqdPMOXg"
      },
      "outputs": [],
      "source": [
        "# df = df.sample(30_000, random_state=123)"
      ]
    },
    {
      "attachments": {},
      "cell_type": "markdown",
      "metadata": {
        "id": "piakqzHuAGBM"
      },
      "source": [
        "# Train Val Test split"
      ]
    },
    {
      "cell_type": "code",
      "execution_count": null,
      "metadata": {
        "id": "nXK2zi_6ALoh"
      },
      "outputs": [],
      "source": [
        "from sklearn.model_selection import train_test_split\n",
        "\n",
        "# df, df_tmp = train_test_split(df, test_size=0.5, random_state=123)\n",
        "\n",
        "df_train, df_rem = train_test_split(df, test_size=0.3, random_state=123)\n",
        "\n",
        "df_val, df_test = train_test_split(df_rem, test_size=0.5, random_state=123)"
      ]
    },
    {
      "attachments": {},
      "cell_type": "markdown",
      "metadata": {
        "id": "9diquw7E_71B"
      },
      "source": [
        "# Preprocess torch"
      ]
    },
    {
      "cell_type": "code",
      "execution_count": null,
      "metadata": {
        "id": "Sl51gh1rA1Hm"
      },
      "outputs": [],
      "source": [
        "import torch\n",
        "from torch.utils.data import Dataset\n",
        "\n",
        "class MultiLabelTextDataset(Dataset):\n",
        "    def __init__(self, dataframe, tokenizer):\n",
        "        self.data = dataframe\n",
        "        self.tokenizer = tokenizer\n",
        "        self.feature = self.data[\"comment\"]\n",
        "        self.labels = self.data[\"type\"].to_numpy()\n",
        "\n",
        "    def __len__(self):\n",
        "        return len(self.data)\n",
        "\n",
        "    def __getitem__(self, idx):\n",
        "        comment = self.data['comment'].iloc[idx]\n",
        "        label = torch.tensor(self.labels[idx], dtype=torch.long)\n",
        "\n",
        "        # Tokenize the comment\n",
        "        tokenized_comment = self.tokenizer(comment, padding='max_length', truncation=True, max_length=256, return_tensors='pt')\n",
        "\n",
        "        return {\n",
        "            'input_ids': tokenized_comment['input_ids'].squeeze(),\n",
        "            'attention_mask': tokenized_comment['attention_mask'].squeeze(),\n",
        "            'labels': label\n",
        "        }\n"
      ]
    },
    {
      "cell_type": "code",
      "execution_count": null,
      "metadata": {
        "id": "fFKlynvfCcBp"
      },
      "outputs": [],
      "source": [
        "import torch\n",
        "from torch.utils.data import DataLoader\n",
        "from transformers import AutoTokenizer, AutoModelForSequenceClassification\n",
        "\n",
        "# Step 2: Prepare the data\n",
        "tokenizer = AutoTokenizer.from_pretrained(\"airesearch/wangchanberta-base-att-spm-uncased\", use_fast=False)\n",
        "# Process your data and convert it to input features (input_ids, attention_mask, labels_binary)\n",
        "train_dataset = MultiLabelTextDataset(df_train, tokenizer)\n",
        "train_loader = DataLoader(train_dataset, batch_size=32, shuffle=True)\n",
        "valid_dataset = MultiLabelTextDataset(df_val, tokenizer)\n",
        "valid_loader = DataLoader(valid_dataset, batch_size=32, shuffle=False)\n",
        "test_dataset = MultiLabelTextDataset(df_test, tokenizer)\n",
        "test_loader = DataLoader(test_dataset, batch_size=32, shuffle=False)"
      ]
    },
    {
      "cell_type": "code",
      "execution_count": null,
      "metadata": {
        "colab": {
          "base_uri": "https://localhost:8080/"
        },
        "id": "McsYFHh35Cqp",
        "outputId": "a29c817d-a6e8-40f4-e3e8-c7fdacce7adf"
      },
      "outputs": [
        {
          "data": {
            "text/plain": [
              "25005"
            ]
          },
          "execution_count": 26,
          "metadata": {},
          "output_type": "execute_result"
        }
      ],
      "source": [
        "num_words = tokenizer.vocab_size\n",
        "num_words"
      ]
    },
    {
      "cell_type": "code",
      "execution_count": null,
      "metadata": {
        "id": "T8DGdOtUpQuh"
      },
      "outputs": [],
      "source": [
        "# train_dataset[6]"
      ]
    },
    {
      "cell_type": "code",
      "execution_count": null,
      "metadata": {
        "id": "ihXw879rxVqD"
      },
      "outputs": [],
      "source": [
        "# next(iter(train_loader))"
      ]
    },
    {
      "attachments": {},
      "cell_type": "markdown",
      "metadata": {
        "id": "UX4-A83vN_pn"
      },
      "source": [
        "# Model"
      ]
    },
    {
      "cell_type": "code",
      "execution_count": null,
      "metadata": {
        "colab": {
          "base_uri": "https://localhost:8080/"
        },
        "id": "KwfPNZfRXg1P",
        "outputId": "17e0df21-d5ef-4c11-9cf7-c55151248f67"
      },
      "outputs": [
        {
          "name": "stderr",
          "output_type": "stream",
          "text": [
            "Some weights of the model checkpoint at airesearch/wangchanberta-base-att-spm-uncased were not used when initializing CamembertForSequenceClassification: ['lm_head.layer_norm.bias', 'lm_head.dense.bias', 'lm_head.bias', 'lm_head.dense.weight', 'roberta.pooler.dense.weight', 'roberta.pooler.dense.bias', 'lm_head.layer_norm.weight', 'lm_head.decoder.bias', 'lm_head.decoder.weight']\n",
            "- This IS expected if you are initializing CamembertForSequenceClassification from the checkpoint of a model trained on another task or with another architecture (e.g. initializing a BertForSequenceClassification model from a BertForPreTraining model).\n",
            "- This IS NOT expected if you are initializing CamembertForSequenceClassification from the checkpoint of a model that you expect to be exactly identical (initializing a BertForSequenceClassification model from a BertForSequenceClassification model).\n",
            "Some weights of CamembertForSequenceClassification were not initialized from the model checkpoint at airesearch/wangchanberta-base-att-spm-uncased and are newly initialized: ['classifier.out_proj.bias', 'classifier.out_proj.weight', 'classifier.dense.bias', 'classifier.dense.weight']\n",
            "You should probably TRAIN this model on a down-stream task to be able to use it for predictions and inference.\n"
          ]
        }
      ],
      "source": [
        "import torch.nn as nn\n",
        "import torch.optim as optim\n",
        "\n",
        "device = 'cuda' if torch.cuda.is_available() else 'cpu'\n",
        "class Classifier(nn.Module):\n",
        "    def __init__(self, n_inputs, n_outputs):\n",
        "        super(Classifier, self).__init__()\n",
        "        self.fc2 = nn.Linear(n_inputs, n_outputs)\n",
        "        # self.dropout = nn.Dropout(0.15)\n",
        "\n",
        "    def forward(self, x):\n",
        "        # x = self.dropout(x)\n",
        "        x = self.fc2(x)\n",
        "        return x\n",
        "\n",
        "wangchanberta_model = AutoModelForSequenceClassification.from_pretrained(\"airesearch/wangchanberta-base-att-spm-uncased\", num_labels=512).to(device)\n",
        "class Model(nn.Module):\n",
        "    def __init__(self, classifier):\n",
        "        super().__init__()\n",
        "        # self.embeding = wangchanberta_model\n",
        "        self.embeding = nn.EmbeddingBag(tokenizer.vocab_size+10, 512,padding_idx=1)\n",
        "        # for param in self.embeding.parameters():\n",
        "        #     param.requires_grad = False\n",
        "        self.fc1 = nn.Linear(512, 512)\n",
        "        self.fc2 = nn.Linear(512, 512)\n",
        "        self.dropout = nn.Dropout(0.1)\n",
        "        self.classifier = classifier\n",
        "\n",
        "\n",
        "    def update_freeze_embed(self, is_freeze):\n",
        "        if is_freeze:\n",
        "          for param in self.embeding.parameters():\n",
        "              param.requires_grad = False\n",
        "        else:\n",
        "          for param in self.embeding.parameters():\n",
        "              param.requires_grad = True\n",
        "        \n",
        "    def forward(self,input_ids, attention_mask):\n",
        "        # x = self.embeding(input_ids=input_ids, attention_mask=attention_mask).logits\n",
        "        x = self.embeding(input_ids)\n",
        "        x = self.dropout(x)\n",
        "        x = torch.relu(self.fc1(x))\n",
        "        x = self.dropout(x)\n",
        "        x = torch.relu(self.fc2(x))\n",
        "        out = self.classifier(x)\n",
        "        return out\n",
        "\n",
        "classifier = Classifier(512, len(type_columns))\n",
        "model = Model(classifier).to(device)\n",
        "# model.update_freeze_embed(False)"
      ]
    },
    {
      "cell_type": "code",
      "execution_count": null,
      "metadata": {
        "colab": {
          "base_uri": "https://localhost:8080/"
        },
        "id": "8qVY7zfqKmJO",
        "outputId": "1f9e9036-a559-4a2a-83d8-762e965c0c24"
      },
      "outputs": [
        {
          "data": {
            "text/plain": [
              "Model(\n",
              "  (embeding): EmbeddingBag(25015, 512, mode='mean', padding_idx=1)\n",
              "  (fc1): Linear(in_features=512, out_features=512, bias=True)\n",
              "  (fc2): Linear(in_features=512, out_features=512, bias=True)\n",
              "  (dropout): Dropout(p=0.1, inplace=False)\n",
              "  (classifier): Classifier(\n",
              "    (fc2): Linear(in_features=512, out_features=17, bias=True)\n",
              "  )\n",
              ")"
            ]
          },
          "execution_count": 30,
          "metadata": {},
          "output_type": "execute_result"
        }
      ],
      "source": [
        "# Step 4: Setup the model\n",
        "device = torch.device('cuda' if torch.cuda.is_available() else 'cpu')\n",
        "model.to(device)"
      ]
    },
    {
      "cell_type": "code",
      "execution_count": null,
      "metadata": {
        "colab": {
          "base_uri": "https://localhost:8080/"
        },
        "id": "CiwsmUrZ_-ke",
        "outputId": "632dbf2c-93f0-4fbe-adf8-ac506bde1e5e"
      },
      "outputs": [
        {
          "name": "stderr",
          "output_type": "stream",
          "text": [
            "/usr/local/lib/python3.10/dist-packages/ipykernel/ipkernel.py:283: DeprecationWarning: `should_run_async` will not call `transform_cell` automatically in the future. Please pass the result to `transformed_cell` argument and any exception that happen during thetransform in `preprocessing_exc_tuple` in IPython 7.17 and above.\n",
            "  and should_run_async(code)\n",
            "100%|██████████| 4572/4572 [02:12<00:00, 34.45it/s]\n",
            "100%|██████████| 980/980 [00:22<00:00, 43.87it/s]\n"
          ]
        },
        {
          "name": "stdout",
          "output_type": "stream",
          "text": [
            "Epoch: 1/3:\n",
            "Train Loss: 0.4119, Accuracy: 0.8573\n",
            "Valid Loss: 0.4010, Accuracy: 0.8630, Precision: 0.8630, Recall: 0.8630, F1: 0.8630\n",
            "lr: 0.00070000\n"
          ]
        },
        {
          "name": "stderr",
          "output_type": "stream",
          "text": [
            "100%|██████████| 4572/4572 [02:06<00:00, 36.10it/s]\n",
            "100%|██████████| 980/980 [00:21<00:00, 45.75it/s]\n"
          ]
        },
        {
          "name": "stdout",
          "output_type": "stream",
          "text": [
            "Epoch: 2/3:\n",
            "Train Loss: 0.3051, Accuracy: 0.8906\n",
            "Valid Loss: 0.3882, Accuracy: 0.8700, Precision: 0.8700, Recall: 0.8700, F1: 0.8700\n",
            "lr: 0.00070000\n"
          ]
        },
        {
          "name": "stderr",
          "output_type": "stream",
          "text": [
            "100%|██████████| 4572/4572 [02:12<00:00, 34.50it/s]\n",
            "100%|██████████| 980/980 [00:20<00:00, 48.50it/s]\n"
          ]
        },
        {
          "name": "stdout",
          "output_type": "stream",
          "text": [
            "Epoch: 3/3:\n",
            "Train Loss: 0.2357, Accuracy: 0.9143\n",
            "Valid Loss: 0.3908, Accuracy: 0.8745, Precision: 0.8745, Recall: 0.8745, F1: 0.8745\n",
            "lr: 0.00070000\n"
          ]
        }
      ],
      "source": [
        "from sklearn.metrics import accuracy_score, precision_score, recall_score, f1_score\n",
        "import warnings\n",
        "warnings.filterwarnings(\"ignore\", category=DeprecationWarning)\n",
        "warnings.filterwarnings('always')\n",
        "\n",
        "optimizer = torch.optim.Adam(model.parameters(), lr=7e-4)\n",
        "criterion = torch.nn.CrossEntropyLoss()\n",
        "scheduler = optim.lr_scheduler.StepLR(\n",
        "    optimizer, \n",
        "    step_size=4, \n",
        "    gamma=0.7\n",
        "    ) \n",
        "num_epochs = 10\n",
        "\n",
        "for epoch in range(num_epochs):\n",
        "    model.train()\n",
        "    train_loss = 0\n",
        "    train_correct = 0\n",
        "    num_train_samples = 0\n",
        "\n",
        "    for batch in tqdm(train_loader):\n",
        "        input_ids = batch['input_ids'].to(device)\n",
        "        attention_mask = batch['attention_mask'].to(device)\n",
        "        labels = batch['labels'].to(device)\n",
        "\n",
        "        optimizer.zero_grad()\n",
        "\n",
        "        outputs = model(input_ids=input_ids, attention_mask=attention_mask)\n",
        "\n",
        "        loss = criterion(outputs, labels)\n",
        "        loss.backward()\n",
        "        optimizer.step()\n",
        "\n",
        "        train_correct += (torch.argmax(outputs, dim=1) == labels).sum().item()\n",
        "\n",
        "        train_loss += loss.item() * input_ids.size(0)\n",
        "        num_train_samples += input_ids.size(0)\n",
        "\n",
        "    train_loss /= num_train_samples\n",
        "    train_accuracy = train_correct / num_train_samples\n",
        "\n",
        "    model.eval()\n",
        "    valid_loss = 0\n",
        "    valid_correct = 0\n",
        "    num_valid_samples = 0\n",
        "    valid_predictions = []\n",
        "    valid_labels = []\n",
        "\n",
        "    with torch.no_grad():\n",
        "        for batch in tqdm(valid_loader):\n",
        "            input_ids = batch['input_ids'].to(device)\n",
        "            attention_mask = batch['attention_mask'].to(device)\n",
        "            labels = batch['labels'].to(device)\n",
        "\n",
        "            outputs = model(input_ids=input_ids, attention_mask=attention_mask)\n",
        "\n",
        "            loss = criterion(outputs, labels)\n",
        "            valid_correct += (torch.argmax(outputs, dim=1) == labels).sum().item()\n",
        "\n",
        "            valid_loss += loss.item() * input_ids.size(0)\n",
        "            num_valid_samples += input_ids.size(0)\n",
        "\n",
        "            valid_predictions.extend(torch.argmax(outputs, dim=1).cpu().tolist())\n",
        "            valid_labels.extend(labels.cpu().tolist())\n",
        "\n",
        "    valid_loss /= num_valid_samples\n",
        "    valid_accuracy = valid_correct / num_valid_samples\n",
        "    valid_precision = precision_score(valid_labels, valid_predictions, average='micro')\n",
        "    valid_recall = recall_score(valid_labels, valid_predictions, average='micro')\n",
        "    valid_f1 = f1_score(valid_labels, valid_predictions, average='micro')\n",
        "\n",
        "    print(f\"Epoch: {epoch + 1}/{num_epochs}:\")\n",
        "    print(f\"Train Loss: {train_loss:.4f}, Accuracy: {train_accuracy:.4f}\")\n",
        "    print(f\"Valid Loss: {valid_loss:.4f}, Accuracy: {valid_accuracy:.4f}, Precision: {valid_precision:.4f}, Recall: {valid_recall:.4f}, F1: {valid_f1:.4f}\")\n",
        "    print(f\"lr: {scheduler.optimizer.param_groups[0]['lr']:.8f}\")\n",
        "    scheduler.step()"
      ]
    },
    {
      "cell_type": "code",
      "execution_count": null,
      "metadata": {
        "colab": {
          "base_uri": "https://localhost:8080/"
        },
        "id": "rQExFzCQOliq",
        "outputId": "ac1934a9-a780-4a71-f376-e1b414e76a72"
      },
      "outputs": [
        {
          "name": "stderr",
          "output_type": "stream",
          "text": [
            "/usr/local/lib/python3.10/dist-packages/ipykernel/ipkernel.py:283: DeprecationWarning: `should_run_async` will not call `transform_cell` automatically in the future. Please pass the result to `transformed_cell` argument and any exception that happen during thetransform in `preprocessing_exc_tuple` in IPython 7.17 and above.\n",
            "  and should_run_async(code)\n"
          ]
        }
      ],
      "source": [
        "# valid_loss = 0\n",
        "# valid_correct = 0\n",
        "# num_valid_samples = 0\n",
        "# valid_predictions = []\n",
        "# valid_labels = []\n",
        "\n",
        "# with torch.no_grad():\n",
        "#     for batch in tqdm(valid_loader):\n",
        "#         input_ids = batch['input_ids'].to(device)\n",
        "#         attention_mask = batch['attention_mask'].to(device)\n",
        "#         labels = batch['labels'].to(device)\n",
        "\n",
        "#         outputs = model(input_ids=input_ids, attention_mask=attention_mask)\n",
        "\n",
        "#         loss = criterion(outputs, labels)\n",
        "#         valid_correct += (torch.argmax(outputs, dim=1) == labels).sum().item()\n",
        "\n",
        "#         valid_loss += loss.item() * input_ids.size(0)\n",
        "#         num_valid_samples += input_ids.size(0)\n",
        "\n",
        "#         valid_predictions.extend(torch.argmax(outputs, dim=1).cpu().tolist())\n",
        "#         valid_labels.extend(labels.cpu().tolist())\n",
        "\n",
        "# valid_loss /= num_valid_samples\n",
        "# valid_accuracy = valid_correct / num_valid_samples\n",
        "# valid_precision = precision_score(valid_labels, valid_predictions, average='micro')\n",
        "# valid_recall = recall_score(valid_labels, valid_predictions, average='micro')\n",
        "# valid_f1 = f1_score(valid_labels, valid_predictions, average='micro')\n",
        "# print(f\"Valid Loss: {valid_loss:.4f}, Accuracy: {valid_accuracy:.4f}, Precision: {valid_precision:.4f}, Recall: {valid_recall:.4f}, F1: {valid_f1:.4f}\")"
      ]
    },
    {
      "cell_type": "code",
      "execution_count": null,
      "metadata": {
        "colab": {
          "base_uri": "https://localhost:8080/"
        },
        "id": "1wuCfRWRGfTe",
        "outputId": "6f3e571b-d299-4015-aa7c-2a18a017e04b"
      },
      "outputs": [
        {
          "name": "stderr",
          "output_type": "stream",
          "text": [
            "/usr/local/lib/python3.10/dist-packages/ipykernel/ipkernel.py:283: DeprecationWarning: `should_run_async` will not call `transform_cell` automatically in the future. Please pass the result to `transformed_cell` argument and any exception that happen during thetransform in `preprocessing_exc_tuple` in IPython 7.17 and above.\n",
            "  and should_run_async(code)\n",
            "100%|██████████| 980/980 [00:32<00:00, 30.27it/s]\n"
          ]
        },
        {
          "data": {
            "text/plain": [
              "(0.39324250243687364,\n",
              " 0.8743859649122807,\n",
              " 0.8694145375125213,\n",
              " 0.8743859649122807,\n",
              " 0.8743859649122808)"
            ]
          },
          "execution_count": 36,
          "metadata": {},
          "output_type": "execute_result"
        }
      ],
      "source": [
        "import torch\n",
        "from sklearn.metrics import precision_score, recall_score, f1_score\n",
        "\n",
        "def evaluate_model(data_loader, model, criterion, device):\n",
        "    valid_loss = 0\n",
        "    valid_correct = 0\n",
        "    num_valid_samples = 0\n",
        "    valid_predictions = []\n",
        "    valid_labels = []\n",
        "\n",
        "    with torch.no_grad():\n",
        "        for batch in tqdm(data_loader):\n",
        "            input_ids = batch['input_ids'].to(device)\n",
        "            attention_mask = batch['attention_mask'].to(device)\n",
        "            labels = batch['labels'].to(device)\n",
        "\n",
        "            outputs = model(input_ids=input_ids, attention_mask=attention_mask)\n",
        "\n",
        "            loss = criterion(outputs, labels)\n",
        "            valid_correct += (torch.argmax(outputs, dim=1) == labels).sum().item()\n",
        "\n",
        "            valid_loss += loss.item() * input_ids.size(0)\n",
        "            num_valid_samples += input_ids.size(0)\n",
        "\n",
        "            valid_predictions.extend(torch.argmax(outputs, dim=1).cpu().tolist())\n",
        "            valid_labels.extend(labels.cpu().tolist())\n",
        "\n",
        "    valid_loss /= num_valid_samples\n",
        "    valid_accuracy = valid_correct / num_valid_samples\n",
        "    valid_precision = precision_score(valid_labels, valid_predictions, average='micro')\n",
        "    valid_recall = recall_score(valid_labels, valid_predictions, average='micro')\n",
        "    valid_f1 = f1_score(valid_labels, valid_predictions, average='micro')\n",
        "\n",
        "    return valid_loss, valid_accuracy, valid_precision, valid_recall, valid_f1\n",
        "\n",
        "evaluate_model(test_loader, model, criterion, device)"
      ]
    }
  ],
  "metadata": {
    "accelerator": "GPU",
    "colab": {
      "provenance": []
    },
    "gpuClass": "standard",
    "kernelspec": {
      "display_name": "Python 3",
      "name": "python3"
    },
    "language_info": {
      "name": "python",
      "version": "3.11.0"
    },
    "widgets": {
      "application/vnd.jupyter.widget-state+json": {
        "012c3d7cff884f19b4dcbf6e05c4a9a4": {
          "model_module": "@jupyter-widgets/controls",
          "model_module_version": "1.5.0",
          "model_name": "DescriptionStyleModel",
          "state": {
            "_model_module": "@jupyter-widgets/controls",
            "_model_module_version": "1.5.0",
            "_model_name": "DescriptionStyleModel",
            "_view_count": null,
            "_view_module": "@jupyter-widgets/base",
            "_view_module_version": "1.2.0",
            "_view_name": "StyleView",
            "description_width": ""
          }
        },
        "027de222fda1454594c43711a0f20810": {
          "model_module": "@jupyter-widgets/controls",
          "model_module_version": "1.5.0",
          "model_name": "HTMLModel",
          "state": {
            "_dom_classes": [],
            "_model_module": "@jupyter-widgets/controls",
            "_model_module_version": "1.5.0",
            "_model_name": "HTMLModel",
            "_view_count": null,
            "_view_module": "@jupyter-widgets/controls",
            "_view_module_version": "1.5.0",
            "_view_name": "HTMLView",
            "description": "",
            "description_tooltip": null,
            "layout": "IPY_MODEL_2a70213de4bb43dcaa0708125a2f0c3e",
            "placeholder": "​",
            "style": "IPY_MODEL_ed9f09864db7488a802e7580eba9c467",
            "value": "100%"
          }
        },
        "08565ccdea94482681a7c2d37cdb8c5e": {
          "model_module": "@jupyter-widgets/controls",
          "model_module_version": "1.5.0",
          "model_name": "HTMLModel",
          "state": {
            "_dom_classes": [],
            "_model_module": "@jupyter-widgets/controls",
            "_model_module_version": "1.5.0",
            "_model_name": "HTMLModel",
            "_view_count": null,
            "_view_module": "@jupyter-widgets/controls",
            "_view_module_version": "1.5.0",
            "_view_name": "HTMLView",
            "description": "",
            "description_tooltip": null,
            "layout": "IPY_MODEL_d970b40c6789413798641773ee997edd",
            "placeholder": "​",
            "style": "IPY_MODEL_012c3d7cff884f19b4dcbf6e05c4a9a4",
            "value": "100%"
          }
        },
        "0e683c02f8654fee801df30cf54c233c": {
          "model_module": "@jupyter-widgets/controls",
          "model_module_version": "1.5.0",
          "model_name": "HTMLModel",
          "state": {
            "_dom_classes": [],
            "_model_module": "@jupyter-widgets/controls",
            "_model_module_version": "1.5.0",
            "_model_name": "HTMLModel",
            "_view_count": null,
            "_view_module": "@jupyter-widgets/controls",
            "_view_module_version": "1.5.0",
            "_view_name": "HTMLView",
            "description": "",
            "description_tooltip": null,
            "layout": "IPY_MODEL_2e0fe151f1574438b3fba79b9569e6c7",
            "placeholder": "​",
            "style": "IPY_MODEL_1420628d7b3c4e24b99201ab979a548a",
            "value": "100%"
          }
        },
        "1332870a77684e71bab2067c4501b155": {
          "model_module": "@jupyter-widgets/controls",
          "model_module_version": "1.5.0",
          "model_name": "ProgressStyleModel",
          "state": {
            "_model_module": "@jupyter-widgets/controls",
            "_model_module_version": "1.5.0",
            "_model_name": "ProgressStyleModel",
            "_view_count": null,
            "_view_module": "@jupyter-widgets/base",
            "_view_module_version": "1.2.0",
            "_view_name": "StyleView",
            "bar_color": null,
            "description_width": ""
          }
        },
        "1420628d7b3c4e24b99201ab979a548a": {
          "model_module": "@jupyter-widgets/controls",
          "model_module_version": "1.5.0",
          "model_name": "DescriptionStyleModel",
          "state": {
            "_model_module": "@jupyter-widgets/controls",
            "_model_module_version": "1.5.0",
            "_model_name": "DescriptionStyleModel",
            "_view_count": null,
            "_view_module": "@jupyter-widgets/base",
            "_view_module_version": "1.2.0",
            "_view_name": "StyleView",
            "description_width": ""
          }
        },
        "148d5102b5274ebe88cbffa683842791": {
          "model_module": "@jupyter-widgets/controls",
          "model_module_version": "1.5.0",
          "model_name": "DescriptionStyleModel",
          "state": {
            "_model_module": "@jupyter-widgets/controls",
            "_model_module_version": "1.5.0",
            "_model_name": "DescriptionStyleModel",
            "_view_count": null,
            "_view_module": "@jupyter-widgets/base",
            "_view_module_version": "1.2.0",
            "_view_name": "StyleView",
            "description_width": ""
          }
        },
        "2275024a10ae465a8f6fc948a4a38765": {
          "model_module": "@jupyter-widgets/base",
          "model_module_version": "1.2.0",
          "model_name": "LayoutModel",
          "state": {
            "_model_module": "@jupyter-widgets/base",
            "_model_module_version": "1.2.0",
            "_model_name": "LayoutModel",
            "_view_count": null,
            "_view_module": "@jupyter-widgets/base",
            "_view_module_version": "1.2.0",
            "_view_name": "LayoutView",
            "align_content": null,
            "align_items": null,
            "align_self": null,
            "border": null,
            "bottom": null,
            "display": null,
            "flex": null,
            "flex_flow": null,
            "grid_area": null,
            "grid_auto_columns": null,
            "grid_auto_flow": null,
            "grid_auto_rows": null,
            "grid_column": null,
            "grid_gap": null,
            "grid_row": null,
            "grid_template_areas": null,
            "grid_template_columns": null,
            "grid_template_rows": null,
            "height": null,
            "justify_content": null,
            "justify_items": null,
            "left": null,
            "margin": null,
            "max_height": null,
            "max_width": null,
            "min_height": null,
            "min_width": null,
            "object_fit": null,
            "object_position": null,
            "order": null,
            "overflow": null,
            "overflow_x": null,
            "overflow_y": null,
            "padding": null,
            "right": null,
            "top": null,
            "visibility": null,
            "width": null
          }
        },
        "24f64997f60e4714b580aaf076c3899b": {
          "model_module": "@jupyter-widgets/controls",
          "model_module_version": "1.5.0",
          "model_name": "FloatProgressModel",
          "state": {
            "_dom_classes": [],
            "_model_module": "@jupyter-widgets/controls",
            "_model_module_version": "1.5.0",
            "_model_name": "FloatProgressModel",
            "_view_count": null,
            "_view_module": "@jupyter-widgets/controls",
            "_view_module_version": "1.5.0",
            "_view_name": "ProgressView",
            "bar_style": "success",
            "description": "",
            "description_tooltip": null,
            "layout": "IPY_MODEL_5f643734b42b403d830a8e7e13095652",
            "max": 208999,
            "min": 0,
            "orientation": "horizontal",
            "style": "IPY_MODEL_1332870a77684e71bab2067c4501b155",
            "value": 208999
          }
        },
        "2a70213de4bb43dcaa0708125a2f0c3e": {
          "model_module": "@jupyter-widgets/base",
          "model_module_version": "1.2.0",
          "model_name": "LayoutModel",
          "state": {
            "_model_module": "@jupyter-widgets/base",
            "_model_module_version": "1.2.0",
            "_model_name": "LayoutModel",
            "_view_count": null,
            "_view_module": "@jupyter-widgets/base",
            "_view_module_version": "1.2.0",
            "_view_name": "LayoutView",
            "align_content": null,
            "align_items": null,
            "align_self": null,
            "border": null,
            "bottom": null,
            "display": null,
            "flex": null,
            "flex_flow": null,
            "grid_area": null,
            "grid_auto_columns": null,
            "grid_auto_flow": null,
            "grid_auto_rows": null,
            "grid_column": null,
            "grid_gap": null,
            "grid_row": null,
            "grid_template_areas": null,
            "grid_template_columns": null,
            "grid_template_rows": null,
            "height": null,
            "justify_content": null,
            "justify_items": null,
            "left": null,
            "margin": null,
            "max_height": null,
            "max_width": null,
            "min_height": null,
            "min_width": null,
            "object_fit": null,
            "object_position": null,
            "order": null,
            "overflow": null,
            "overflow_x": null,
            "overflow_y": null,
            "padding": null,
            "right": null,
            "top": null,
            "visibility": null,
            "width": null
          }
        },
        "2e0fe151f1574438b3fba79b9569e6c7": {
          "model_module": "@jupyter-widgets/base",
          "model_module_version": "1.2.0",
          "model_name": "LayoutModel",
          "state": {
            "_model_module": "@jupyter-widgets/base",
            "_model_module_version": "1.2.0",
            "_model_name": "LayoutModel",
            "_view_count": null,
            "_view_module": "@jupyter-widgets/base",
            "_view_module_version": "1.2.0",
            "_view_name": "LayoutView",
            "align_content": null,
            "align_items": null,
            "align_self": null,
            "border": null,
            "bottom": null,
            "display": null,
            "flex": null,
            "flex_flow": null,
            "grid_area": null,
            "grid_auto_columns": null,
            "grid_auto_flow": null,
            "grid_auto_rows": null,
            "grid_column": null,
            "grid_gap": null,
            "grid_row": null,
            "grid_template_areas": null,
            "grid_template_columns": null,
            "grid_template_rows": null,
            "height": null,
            "justify_content": null,
            "justify_items": null,
            "left": null,
            "margin": null,
            "max_height": null,
            "max_width": null,
            "min_height": null,
            "min_width": null,
            "object_fit": null,
            "object_position": null,
            "order": null,
            "overflow": null,
            "overflow_x": null,
            "overflow_y": null,
            "padding": null,
            "right": null,
            "top": null,
            "visibility": null,
            "width": null
          }
        },
        "375a862d7ac04e68822a7c4f19cde402": {
          "model_module": "@jupyter-widgets/base",
          "model_module_version": "1.2.0",
          "model_name": "LayoutModel",
          "state": {
            "_model_module": "@jupyter-widgets/base",
            "_model_module_version": "1.2.0",
            "_model_name": "LayoutModel",
            "_view_count": null,
            "_view_module": "@jupyter-widgets/base",
            "_view_module_version": "1.2.0",
            "_view_name": "LayoutView",
            "align_content": null,
            "align_items": null,
            "align_self": null,
            "border": null,
            "bottom": null,
            "display": null,
            "flex": null,
            "flex_flow": null,
            "grid_area": null,
            "grid_auto_columns": null,
            "grid_auto_flow": null,
            "grid_auto_rows": null,
            "grid_column": null,
            "grid_gap": null,
            "grid_row": null,
            "grid_template_areas": null,
            "grid_template_columns": null,
            "grid_template_rows": null,
            "height": null,
            "justify_content": null,
            "justify_items": null,
            "left": null,
            "margin": null,
            "max_height": null,
            "max_width": null,
            "min_height": null,
            "min_width": null,
            "object_fit": null,
            "object_position": null,
            "order": null,
            "overflow": null,
            "overflow_x": null,
            "overflow_y": null,
            "padding": null,
            "right": null,
            "top": null,
            "visibility": null,
            "width": null
          }
        },
        "38c5efea1cb44dba8952fd4f7ac66562": {
          "model_module": "@jupyter-widgets/base",
          "model_module_version": "1.2.0",
          "model_name": "LayoutModel",
          "state": {
            "_model_module": "@jupyter-widgets/base",
            "_model_module_version": "1.2.0",
            "_model_name": "LayoutModel",
            "_view_count": null,
            "_view_module": "@jupyter-widgets/base",
            "_view_module_version": "1.2.0",
            "_view_name": "LayoutView",
            "align_content": null,
            "align_items": null,
            "align_self": null,
            "border": null,
            "bottom": null,
            "display": null,
            "flex": null,
            "flex_flow": null,
            "grid_area": null,
            "grid_auto_columns": null,
            "grid_auto_flow": null,
            "grid_auto_rows": null,
            "grid_column": null,
            "grid_gap": null,
            "grid_row": null,
            "grid_template_areas": null,
            "grid_template_columns": null,
            "grid_template_rows": null,
            "height": null,
            "justify_content": null,
            "justify_items": null,
            "left": null,
            "margin": null,
            "max_height": null,
            "max_width": null,
            "min_height": null,
            "min_width": null,
            "object_fit": null,
            "object_position": null,
            "order": null,
            "overflow": null,
            "overflow_x": null,
            "overflow_y": null,
            "padding": null,
            "right": null,
            "top": null,
            "visibility": null,
            "width": null
          }
        },
        "3dd4eada8e9c4a1fbf49e16e75c7b981": {
          "model_module": "@jupyter-widgets/controls",
          "model_module_version": "1.5.0",
          "model_name": "ProgressStyleModel",
          "state": {
            "_model_module": "@jupyter-widgets/controls",
            "_model_module_version": "1.5.0",
            "_model_name": "ProgressStyleModel",
            "_view_count": null,
            "_view_module": "@jupyter-widgets/base",
            "_view_module_version": "1.2.0",
            "_view_name": "StyleView",
            "bar_color": null,
            "description_width": ""
          }
        },
        "45e996b32d1f4d48963c4ef3bb8d6297": {
          "model_module": "@jupyter-widgets/base",
          "model_module_version": "1.2.0",
          "model_name": "LayoutModel",
          "state": {
            "_model_module": "@jupyter-widgets/base",
            "_model_module_version": "1.2.0",
            "_model_name": "LayoutModel",
            "_view_count": null,
            "_view_module": "@jupyter-widgets/base",
            "_view_module_version": "1.2.0",
            "_view_name": "LayoutView",
            "align_content": null,
            "align_items": null,
            "align_self": null,
            "border": null,
            "bottom": null,
            "display": null,
            "flex": null,
            "flex_flow": null,
            "grid_area": null,
            "grid_auto_columns": null,
            "grid_auto_flow": null,
            "grid_auto_rows": null,
            "grid_column": null,
            "grid_gap": null,
            "grid_row": null,
            "grid_template_areas": null,
            "grid_template_columns": null,
            "grid_template_rows": null,
            "height": null,
            "justify_content": null,
            "justify_items": null,
            "left": null,
            "margin": null,
            "max_height": null,
            "max_width": null,
            "min_height": null,
            "min_width": null,
            "object_fit": null,
            "object_position": null,
            "order": null,
            "overflow": null,
            "overflow_x": null,
            "overflow_y": null,
            "padding": null,
            "right": null,
            "top": null,
            "visibility": null,
            "width": null
          }
        },
        "4a319657f5294cc3a2e6bf7ad1a9320a": {
          "model_module": "@jupyter-widgets/controls",
          "model_module_version": "1.5.0",
          "model_name": "ProgressStyleModel",
          "state": {
            "_model_module": "@jupyter-widgets/controls",
            "_model_module_version": "1.5.0",
            "_model_name": "ProgressStyleModel",
            "_view_count": null,
            "_view_module": "@jupyter-widgets/base",
            "_view_module_version": "1.2.0",
            "_view_name": "StyleView",
            "bar_color": null,
            "description_width": ""
          }
        },
        "4d2005934c4843068e9e56c35be11f50": {
          "model_module": "@jupyter-widgets/controls",
          "model_module_version": "1.5.0",
          "model_name": "HTMLModel",
          "state": {
            "_dom_classes": [],
            "_model_module": "@jupyter-widgets/controls",
            "_model_module_version": "1.5.0",
            "_model_name": "HTMLModel",
            "_view_count": null,
            "_view_module": "@jupyter-widgets/controls",
            "_view_module_version": "1.5.0",
            "_view_name": "HTMLView",
            "description": "",
            "description_tooltip": null,
            "layout": "IPY_MODEL_6a8c407166594f17bbb0945e9380dc0b",
            "placeholder": "​",
            "style": "IPY_MODEL_bd58f1da20c24d9e8d6741261bf41e03",
            "value": " 208999/208999 [00:01&lt;00:00, 214218.65it/s]"
          }
        },
        "5f643734b42b403d830a8e7e13095652": {
          "model_module": "@jupyter-widgets/base",
          "model_module_version": "1.2.0",
          "model_name": "LayoutModel",
          "state": {
            "_model_module": "@jupyter-widgets/base",
            "_model_module_version": "1.2.0",
            "_model_name": "LayoutModel",
            "_view_count": null,
            "_view_module": "@jupyter-widgets/base",
            "_view_module_version": "1.2.0",
            "_view_name": "LayoutView",
            "align_content": null,
            "align_items": null,
            "align_self": null,
            "border": null,
            "bottom": null,
            "display": null,
            "flex": null,
            "flex_flow": null,
            "grid_area": null,
            "grid_auto_columns": null,
            "grid_auto_flow": null,
            "grid_auto_rows": null,
            "grid_column": null,
            "grid_gap": null,
            "grid_row": null,
            "grid_template_areas": null,
            "grid_template_columns": null,
            "grid_template_rows": null,
            "height": null,
            "justify_content": null,
            "justify_items": null,
            "left": null,
            "margin": null,
            "max_height": null,
            "max_width": null,
            "min_height": null,
            "min_width": null,
            "object_fit": null,
            "object_position": null,
            "order": null,
            "overflow": null,
            "overflow_x": null,
            "overflow_y": null,
            "padding": null,
            "right": null,
            "top": null,
            "visibility": null,
            "width": null
          }
        },
        "5fc5d6e50dd64612976b6af45999b467": {
          "model_module": "@jupyter-widgets/controls",
          "model_module_version": "1.5.0",
          "model_name": "HTMLModel",
          "state": {
            "_dom_classes": [],
            "_model_module": "@jupyter-widgets/controls",
            "_model_module_version": "1.5.0",
            "_model_name": "HTMLModel",
            "_view_count": null,
            "_view_module": "@jupyter-widgets/controls",
            "_view_module_version": "1.5.0",
            "_view_name": "HTMLView",
            "description": "",
            "description_tooltip": null,
            "layout": "IPY_MODEL_38c5efea1cb44dba8952fd4f7ac66562",
            "placeholder": "​",
            "style": "IPY_MODEL_148d5102b5274ebe88cbffa683842791",
            "value": " 208999/208999 [00:01&lt;00:00, 126940.62it/s]"
          }
        },
        "6610bf68bb814d12a771c809a7465846": {
          "model_module": "@jupyter-widgets/controls",
          "model_module_version": "1.5.0",
          "model_name": "HBoxModel",
          "state": {
            "_dom_classes": [],
            "_model_module": "@jupyter-widgets/controls",
            "_model_module_version": "1.5.0",
            "_model_name": "HBoxModel",
            "_view_count": null,
            "_view_module": "@jupyter-widgets/controls",
            "_view_module_version": "1.5.0",
            "_view_name": "HBoxView",
            "box_style": "",
            "children": [
              "IPY_MODEL_027de222fda1454594c43711a0f20810",
              "IPY_MODEL_24f64997f60e4714b580aaf076c3899b",
              "IPY_MODEL_fde8492515e0476d83c0edc7de61bc0a"
            ],
            "layout": "IPY_MODEL_45e996b32d1f4d48963c4ef3bb8d6297"
          }
        },
        "6a8c407166594f17bbb0945e9380dc0b": {
          "model_module": "@jupyter-widgets/base",
          "model_module_version": "1.2.0",
          "model_name": "LayoutModel",
          "state": {
            "_model_module": "@jupyter-widgets/base",
            "_model_module_version": "1.2.0",
            "_model_name": "LayoutModel",
            "_view_count": null,
            "_view_module": "@jupyter-widgets/base",
            "_view_module_version": "1.2.0",
            "_view_name": "LayoutView",
            "align_content": null,
            "align_items": null,
            "align_self": null,
            "border": null,
            "bottom": null,
            "display": null,
            "flex": null,
            "flex_flow": null,
            "grid_area": null,
            "grid_auto_columns": null,
            "grid_auto_flow": null,
            "grid_auto_rows": null,
            "grid_column": null,
            "grid_gap": null,
            "grid_row": null,
            "grid_template_areas": null,
            "grid_template_columns": null,
            "grid_template_rows": null,
            "height": null,
            "justify_content": null,
            "justify_items": null,
            "left": null,
            "margin": null,
            "max_height": null,
            "max_width": null,
            "min_height": null,
            "min_width": null,
            "object_fit": null,
            "object_position": null,
            "order": null,
            "overflow": null,
            "overflow_x": null,
            "overflow_y": null,
            "padding": null,
            "right": null,
            "top": null,
            "visibility": null,
            "width": null
          }
        },
        "6b07f057520f4bfe9ea3ff6af51b6025": {
          "model_module": "@jupyter-widgets/controls",
          "model_module_version": "1.5.0",
          "model_name": "FloatProgressModel",
          "state": {
            "_dom_classes": [],
            "_model_module": "@jupyter-widgets/controls",
            "_model_module_version": "1.5.0",
            "_model_name": "FloatProgressModel",
            "_view_count": null,
            "_view_module": "@jupyter-widgets/controls",
            "_view_module_version": "1.5.0",
            "_view_name": "ProgressView",
            "bar_style": "success",
            "description": "",
            "description_tooltip": null,
            "layout": "IPY_MODEL_bbfe192677774fdcbc2af015dc77fe4d",
            "max": 208999,
            "min": 0,
            "orientation": "horizontal",
            "style": "IPY_MODEL_3dd4eada8e9c4a1fbf49e16e75c7b981",
            "value": 208999
          }
        },
        "6d894f5365fe447ab206bd6e64eaeb08": {
          "model_module": "@jupyter-widgets/controls",
          "model_module_version": "1.5.0",
          "model_name": "HBoxModel",
          "state": {
            "_dom_classes": [],
            "_model_module": "@jupyter-widgets/controls",
            "_model_module_version": "1.5.0",
            "_model_name": "HBoxModel",
            "_view_count": null,
            "_view_module": "@jupyter-widgets/controls",
            "_view_module_version": "1.5.0",
            "_view_name": "HBoxView",
            "box_style": "",
            "children": [
              "IPY_MODEL_0e683c02f8654fee801df30cf54c233c",
              "IPY_MODEL_6b07f057520f4bfe9ea3ff6af51b6025",
              "IPY_MODEL_4d2005934c4843068e9e56c35be11f50"
            ],
            "layout": "IPY_MODEL_375a862d7ac04e68822a7c4f19cde402"
          }
        },
        "82a3cc69228b48d198e45c4acfd53a86": {
          "model_module": "@jupyter-widgets/base",
          "model_module_version": "1.2.0",
          "model_name": "LayoutModel",
          "state": {
            "_model_module": "@jupyter-widgets/base",
            "_model_module_version": "1.2.0",
            "_model_name": "LayoutModel",
            "_view_count": null,
            "_view_module": "@jupyter-widgets/base",
            "_view_module_version": "1.2.0",
            "_view_name": "LayoutView",
            "align_content": null,
            "align_items": null,
            "align_self": null,
            "border": null,
            "bottom": null,
            "display": null,
            "flex": null,
            "flex_flow": null,
            "grid_area": null,
            "grid_auto_columns": null,
            "grid_auto_flow": null,
            "grid_auto_rows": null,
            "grid_column": null,
            "grid_gap": null,
            "grid_row": null,
            "grid_template_areas": null,
            "grid_template_columns": null,
            "grid_template_rows": null,
            "height": null,
            "justify_content": null,
            "justify_items": null,
            "left": null,
            "margin": null,
            "max_height": null,
            "max_width": null,
            "min_height": null,
            "min_width": null,
            "object_fit": null,
            "object_position": null,
            "order": null,
            "overflow": null,
            "overflow_x": null,
            "overflow_y": null,
            "padding": null,
            "right": null,
            "top": null,
            "visibility": null,
            "width": null
          }
        },
        "98e484ba216c4c9c8cf68a2ba461dddd": {
          "model_module": "@jupyter-widgets/base",
          "model_module_version": "1.2.0",
          "model_name": "LayoutModel",
          "state": {
            "_model_module": "@jupyter-widgets/base",
            "_model_module_version": "1.2.0",
            "_model_name": "LayoutModel",
            "_view_count": null,
            "_view_module": "@jupyter-widgets/base",
            "_view_module_version": "1.2.0",
            "_view_name": "LayoutView",
            "align_content": null,
            "align_items": null,
            "align_self": null,
            "border": null,
            "bottom": null,
            "display": null,
            "flex": null,
            "flex_flow": null,
            "grid_area": null,
            "grid_auto_columns": null,
            "grid_auto_flow": null,
            "grid_auto_rows": null,
            "grid_column": null,
            "grid_gap": null,
            "grid_row": null,
            "grid_template_areas": null,
            "grid_template_columns": null,
            "grid_template_rows": null,
            "height": null,
            "justify_content": null,
            "justify_items": null,
            "left": null,
            "margin": null,
            "max_height": null,
            "max_width": null,
            "min_height": null,
            "min_width": null,
            "object_fit": null,
            "object_position": null,
            "order": null,
            "overflow": null,
            "overflow_x": null,
            "overflow_y": null,
            "padding": null,
            "right": null,
            "top": null,
            "visibility": null,
            "width": null
          }
        },
        "bbfe192677774fdcbc2af015dc77fe4d": {
          "model_module": "@jupyter-widgets/base",
          "model_module_version": "1.2.0",
          "model_name": "LayoutModel",
          "state": {
            "_model_module": "@jupyter-widgets/base",
            "_model_module_version": "1.2.0",
            "_model_name": "LayoutModel",
            "_view_count": null,
            "_view_module": "@jupyter-widgets/base",
            "_view_module_version": "1.2.0",
            "_view_name": "LayoutView",
            "align_content": null,
            "align_items": null,
            "align_self": null,
            "border": null,
            "bottom": null,
            "display": null,
            "flex": null,
            "flex_flow": null,
            "grid_area": null,
            "grid_auto_columns": null,
            "grid_auto_flow": null,
            "grid_auto_rows": null,
            "grid_column": null,
            "grid_gap": null,
            "grid_row": null,
            "grid_template_areas": null,
            "grid_template_columns": null,
            "grid_template_rows": null,
            "height": null,
            "justify_content": null,
            "justify_items": null,
            "left": null,
            "margin": null,
            "max_height": null,
            "max_width": null,
            "min_height": null,
            "min_width": null,
            "object_fit": null,
            "object_position": null,
            "order": null,
            "overflow": null,
            "overflow_x": null,
            "overflow_y": null,
            "padding": null,
            "right": null,
            "top": null,
            "visibility": null,
            "width": null
          }
        },
        "bd58f1da20c24d9e8d6741261bf41e03": {
          "model_module": "@jupyter-widgets/controls",
          "model_module_version": "1.5.0",
          "model_name": "DescriptionStyleModel",
          "state": {
            "_model_module": "@jupyter-widgets/controls",
            "_model_module_version": "1.5.0",
            "_model_name": "DescriptionStyleModel",
            "_view_count": null,
            "_view_module": "@jupyter-widgets/base",
            "_view_module_version": "1.2.0",
            "_view_name": "StyleView",
            "description_width": ""
          }
        },
        "cfc4641a5a06478894b60b05510d9523": {
          "model_module": "@jupyter-widgets/controls",
          "model_module_version": "1.5.0",
          "model_name": "FloatProgressModel",
          "state": {
            "_dom_classes": [],
            "_model_module": "@jupyter-widgets/controls",
            "_model_module_version": "1.5.0",
            "_model_name": "FloatProgressModel",
            "_view_count": null,
            "_view_module": "@jupyter-widgets/controls",
            "_view_module_version": "1.5.0",
            "_view_name": "ProgressView",
            "bar_style": "success",
            "description": "",
            "description_tooltip": null,
            "layout": "IPY_MODEL_98e484ba216c4c9c8cf68a2ba461dddd",
            "max": 208999,
            "min": 0,
            "orientation": "horizontal",
            "style": "IPY_MODEL_4a319657f5294cc3a2e6bf7ad1a9320a",
            "value": 208999
          }
        },
        "d970b40c6789413798641773ee997edd": {
          "model_module": "@jupyter-widgets/base",
          "model_module_version": "1.2.0",
          "model_name": "LayoutModel",
          "state": {
            "_model_module": "@jupyter-widgets/base",
            "_model_module_version": "1.2.0",
            "_model_name": "LayoutModel",
            "_view_count": null,
            "_view_module": "@jupyter-widgets/base",
            "_view_module_version": "1.2.0",
            "_view_name": "LayoutView",
            "align_content": null,
            "align_items": null,
            "align_self": null,
            "border": null,
            "bottom": null,
            "display": null,
            "flex": null,
            "flex_flow": null,
            "grid_area": null,
            "grid_auto_columns": null,
            "grid_auto_flow": null,
            "grid_auto_rows": null,
            "grid_column": null,
            "grid_gap": null,
            "grid_row": null,
            "grid_template_areas": null,
            "grid_template_columns": null,
            "grid_template_rows": null,
            "height": null,
            "justify_content": null,
            "justify_items": null,
            "left": null,
            "margin": null,
            "max_height": null,
            "max_width": null,
            "min_height": null,
            "min_width": null,
            "object_fit": null,
            "object_position": null,
            "order": null,
            "overflow": null,
            "overflow_x": null,
            "overflow_y": null,
            "padding": null,
            "right": null,
            "top": null,
            "visibility": null,
            "width": null
          }
        },
        "ed9f09864db7488a802e7580eba9c467": {
          "model_module": "@jupyter-widgets/controls",
          "model_module_version": "1.5.0",
          "model_name": "DescriptionStyleModel",
          "state": {
            "_model_module": "@jupyter-widgets/controls",
            "_model_module_version": "1.5.0",
            "_model_name": "DescriptionStyleModel",
            "_view_count": null,
            "_view_module": "@jupyter-widgets/base",
            "_view_module_version": "1.2.0",
            "_view_name": "StyleView",
            "description_width": ""
          }
        },
        "f01e42ebbf414a75b8dc4d712f1596dc": {
          "model_module": "@jupyter-widgets/controls",
          "model_module_version": "1.5.0",
          "model_name": "DescriptionStyleModel",
          "state": {
            "_model_module": "@jupyter-widgets/controls",
            "_model_module_version": "1.5.0",
            "_model_name": "DescriptionStyleModel",
            "_view_count": null,
            "_view_module": "@jupyter-widgets/base",
            "_view_module_version": "1.2.0",
            "_view_name": "StyleView",
            "description_width": ""
          }
        },
        "fbfc76bfa64a4d139740e4d00b3bfb47": {
          "model_module": "@jupyter-widgets/controls",
          "model_module_version": "1.5.0",
          "model_name": "HBoxModel",
          "state": {
            "_dom_classes": [],
            "_model_module": "@jupyter-widgets/controls",
            "_model_module_version": "1.5.0",
            "_model_name": "HBoxModel",
            "_view_count": null,
            "_view_module": "@jupyter-widgets/controls",
            "_view_module_version": "1.5.0",
            "_view_name": "HBoxView",
            "box_style": "",
            "children": [
              "IPY_MODEL_08565ccdea94482681a7c2d37cdb8c5e",
              "IPY_MODEL_cfc4641a5a06478894b60b05510d9523",
              "IPY_MODEL_5fc5d6e50dd64612976b6af45999b467"
            ],
            "layout": "IPY_MODEL_82a3cc69228b48d198e45c4acfd53a86"
          }
        },
        "fde8492515e0476d83c0edc7de61bc0a": {
          "model_module": "@jupyter-widgets/controls",
          "model_module_version": "1.5.0",
          "model_name": "HTMLModel",
          "state": {
            "_dom_classes": [],
            "_model_module": "@jupyter-widgets/controls",
            "_model_module_version": "1.5.0",
            "_model_name": "HTMLModel",
            "_view_count": null,
            "_view_module": "@jupyter-widgets/controls",
            "_view_module_version": "1.5.0",
            "_view_name": "HTMLView",
            "description": "",
            "description_tooltip": null,
            "layout": "IPY_MODEL_2275024a10ae465a8f6fc948a4a38765",
            "placeholder": "​",
            "style": "IPY_MODEL_f01e42ebbf414a75b8dc4d712f1596dc",
            "value": " 208999/208999 [03:01&lt;00:00, 817.76it/s]"
          }
        }
      }
    }
  },
  "nbformat": 4,
  "nbformat_minor": 0
}
